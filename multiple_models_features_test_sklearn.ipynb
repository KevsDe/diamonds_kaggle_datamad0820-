{
 "cells": [
  {
   "cell_type": "code",
   "execution_count": 1,
   "metadata": {},
   "outputs": [],
   "source": [
    "import pandas as pd\n",
    "import numpy as np\n",
    "import warnings\n",
    "warnings.filterwarnings(\"ignore\")\n",
    "import seaborn as sns"
   ]
  },
  {
   "cell_type": "code",
   "execution_count": 2,
   "metadata": {},
   "outputs": [],
   "source": [
    "diamonds = pd.read_csv('Input/diamonds.csv')"
   ]
  },
  {
   "cell_type": "code",
   "execution_count": 3,
   "metadata": {},
   "outputs": [],
   "source": [
    "predict = pd.read_csv('Input/predict.csv')\n",
    "sample_submission = pd.read_csv('Input/sample_submission.csv')\n",
    "train = pd.read_csv('Input/train.csv')"
   ]
  },
  {
   "cell_type": "code",
   "execution_count": 4,
   "metadata": {},
   "outputs": [
    {
     "data": {
      "text/plain": [
       "id           int64\n",
       "carat      float64\n",
       "cut         object\n",
       "color       object\n",
       "clarity     object\n",
       "depth      float64\n",
       "table      float64\n",
       "x          float64\n",
       "y          float64\n",
       "z          float64\n",
       "price        int64\n",
       "dtype: object"
      ]
     },
     "execution_count": 4,
     "metadata": {},
     "output_type": "execute_result"
    }
   ],
   "source": [
    "train.dtypes"
   ]
  },
  {
   "cell_type": "code",
   "execution_count": 93,
   "metadata": {},
   "outputs": [
    {
     "data": {
      "text/html": [
       "<div>\n",
       "<style scoped>\n",
       "    .dataframe tbody tr th:only-of-type {\n",
       "        vertical-align: middle;\n",
       "    }\n",
       "\n",
       "    .dataframe tbody tr th {\n",
       "        vertical-align: top;\n",
       "    }\n",
       "\n",
       "    .dataframe thead th {\n",
       "        text-align: right;\n",
       "    }\n",
       "</style>\n",
       "<table border=\"1\" class=\"dataframe\">\n",
       "  <thead>\n",
       "    <tr style=\"text-align: right;\">\n",
       "      <th></th>\n",
       "      <th>id</th>\n",
       "      <th>carat</th>\n",
       "      <th>depth</th>\n",
       "      <th>table</th>\n",
       "      <th>x</th>\n",
       "      <th>y</th>\n",
       "      <th>z</th>\n",
       "      <th>price</th>\n",
       "      <th>cut_le</th>\n",
       "      <th>color_le</th>\n",
       "      <th>clarity_le</th>\n",
       "    </tr>\n",
       "  </thead>\n",
       "  <tbody>\n",
       "    <tr>\n",
       "      <th>count</th>\n",
       "      <td>40455.000000</td>\n",
       "      <td>40455.000000</td>\n",
       "      <td>40455.000000</td>\n",
       "      <td>40455.000000</td>\n",
       "      <td>40455.000000</td>\n",
       "      <td>40455.000000</td>\n",
       "      <td>40455.000000</td>\n",
       "      <td>40455.000000</td>\n",
       "      <td>40455.000000</td>\n",
       "      <td>40455.000000</td>\n",
       "      <td>40455.000000</td>\n",
       "    </tr>\n",
       "    <tr>\n",
       "      <th>mean</th>\n",
       "      <td>20227.000000</td>\n",
       "      <td>0.798121</td>\n",
       "      <td>61.745132</td>\n",
       "      <td>57.451892</td>\n",
       "      <td>5.731217</td>\n",
       "      <td>5.735248</td>\n",
       "      <td>3.538685</td>\n",
       "      <td>3938.101125</td>\n",
       "      <td>2.552688</td>\n",
       "      <td>2.594067</td>\n",
       "      <td>3.833642</td>\n",
       "    </tr>\n",
       "    <tr>\n",
       "      <th>std</th>\n",
       "      <td>11678.496907</td>\n",
       "      <td>0.474880</td>\n",
       "      <td>1.434259</td>\n",
       "      <td>2.225893</td>\n",
       "      <td>1.123364</td>\n",
       "      <td>1.152859</td>\n",
       "      <td>0.710579</td>\n",
       "      <td>3992.645108</td>\n",
       "      <td>1.025211</td>\n",
       "      <td>1.699853</td>\n",
       "      <td>1.726293</td>\n",
       "    </tr>\n",
       "    <tr>\n",
       "      <th>min</th>\n",
       "      <td>0.000000</td>\n",
       "      <td>0.200000</td>\n",
       "      <td>43.000000</td>\n",
       "      <td>43.000000</td>\n",
       "      <td>0.000000</td>\n",
       "      <td>0.000000</td>\n",
       "      <td>0.000000</td>\n",
       "      <td>326.000000</td>\n",
       "      <td>0.000000</td>\n",
       "      <td>0.000000</td>\n",
       "      <td>0.000000</td>\n",
       "    </tr>\n",
       "    <tr>\n",
       "      <th>25%</th>\n",
       "      <td>10113.500000</td>\n",
       "      <td>0.400000</td>\n",
       "      <td>61.000000</td>\n",
       "      <td>56.000000</td>\n",
       "      <td>4.710000</td>\n",
       "      <td>4.720000</td>\n",
       "      <td>2.910000</td>\n",
       "      <td>948.000000</td>\n",
       "      <td>2.000000</td>\n",
       "      <td>1.000000</td>\n",
       "      <td>2.000000</td>\n",
       "    </tr>\n",
       "    <tr>\n",
       "      <th>50%</th>\n",
       "      <td>20227.000000</td>\n",
       "      <td>0.700000</td>\n",
       "      <td>61.800000</td>\n",
       "      <td>57.000000</td>\n",
       "      <td>5.700000</td>\n",
       "      <td>5.710000</td>\n",
       "      <td>3.520000</td>\n",
       "      <td>2401.000000</td>\n",
       "      <td>2.000000</td>\n",
       "      <td>3.000000</td>\n",
       "      <td>4.000000</td>\n",
       "    </tr>\n",
       "    <tr>\n",
       "      <th>75%</th>\n",
       "      <td>30340.500000</td>\n",
       "      <td>1.040000</td>\n",
       "      <td>62.500000</td>\n",
       "      <td>59.000000</td>\n",
       "      <td>6.540000</td>\n",
       "      <td>6.540000</td>\n",
       "      <td>4.040000</td>\n",
       "      <td>5333.000000</td>\n",
       "      <td>3.000000</td>\n",
       "      <td>4.000000</td>\n",
       "      <td>5.000000</td>\n",
       "    </tr>\n",
       "    <tr>\n",
       "      <th>max</th>\n",
       "      <td>40454.000000</td>\n",
       "      <td>5.010000</td>\n",
       "      <td>79.000000</td>\n",
       "      <td>79.000000</td>\n",
       "      <td>10.740000</td>\n",
       "      <td>58.900000</td>\n",
       "      <td>31.800000</td>\n",
       "      <td>18818.000000</td>\n",
       "      <td>4.000000</td>\n",
       "      <td>6.000000</td>\n",
       "      <td>7.000000</td>\n",
       "    </tr>\n",
       "  </tbody>\n",
       "</table>\n",
       "</div>"
      ],
      "text/plain": [
       "                 id         carat         depth         table             x  \\\n",
       "count  40455.000000  40455.000000  40455.000000  40455.000000  40455.000000   \n",
       "mean   20227.000000      0.798121     61.745132     57.451892      5.731217   \n",
       "std    11678.496907      0.474880      1.434259      2.225893      1.123364   \n",
       "min        0.000000      0.200000     43.000000     43.000000      0.000000   \n",
       "25%    10113.500000      0.400000     61.000000     56.000000      4.710000   \n",
       "50%    20227.000000      0.700000     61.800000     57.000000      5.700000   \n",
       "75%    30340.500000      1.040000     62.500000     59.000000      6.540000   \n",
       "max    40454.000000      5.010000     79.000000     79.000000     10.740000   \n",
       "\n",
       "                  y             z         price        cut_le      color_le  \\\n",
       "count  40455.000000  40455.000000  40455.000000  40455.000000  40455.000000   \n",
       "mean       5.735248      3.538685   3938.101125      2.552688      2.594067   \n",
       "std        1.152859      0.710579   3992.645108      1.025211      1.699853   \n",
       "min        0.000000      0.000000    326.000000      0.000000      0.000000   \n",
       "25%        4.720000      2.910000    948.000000      2.000000      1.000000   \n",
       "50%        5.710000      3.520000   2401.000000      2.000000      3.000000   \n",
       "75%        6.540000      4.040000   5333.000000      3.000000      4.000000   \n",
       "max       58.900000     31.800000  18818.000000      4.000000      6.000000   \n",
       "\n",
       "         clarity_le  \n",
       "count  40455.000000  \n",
       "mean       3.833642  \n",
       "std        1.726293  \n",
       "min        0.000000  \n",
       "25%        2.000000  \n",
       "50%        4.000000  \n",
       "75%        5.000000  \n",
       "max        7.000000  "
      ]
     },
     "execution_count": 93,
     "metadata": {},
     "output_type": "execute_result"
    }
   ],
   "source": [
    "train.describe()"
   ]
  },
  {
   "cell_type": "code",
   "execution_count": 95,
   "metadata": {},
   "outputs": [
    {
     "data": {
      "text/html": [
       "<div>\n",
       "<style scoped>\n",
       "    .dataframe tbody tr th:only-of-type {\n",
       "        vertical-align: middle;\n",
       "    }\n",
       "\n",
       "    .dataframe tbody tr th {\n",
       "        vertical-align: top;\n",
       "    }\n",
       "\n",
       "    .dataframe thead th {\n",
       "        text-align: right;\n",
       "    }\n",
       "</style>\n",
       "<table border=\"1\" class=\"dataframe\">\n",
       "  <thead>\n",
       "    <tr style=\"text-align: right;\">\n",
       "      <th></th>\n",
       "      <th>id</th>\n",
       "      <th>carat</th>\n",
       "      <th>depth</th>\n",
       "      <th>table</th>\n",
       "      <th>x</th>\n",
       "      <th>y</th>\n",
       "      <th>z</th>\n",
       "      <th>price</th>\n",
       "      <th>cut_le</th>\n",
       "      <th>color_le</th>\n",
       "      <th>clarity_le</th>\n",
       "    </tr>\n",
       "  </thead>\n",
       "  <tbody>\n",
       "    <tr>\n",
       "      <th>id</th>\n",
       "      <td>1.000000</td>\n",
       "      <td>-0.000378</td>\n",
       "      <td>-0.002242</td>\n",
       "      <td>0.009870</td>\n",
       "      <td>-0.000055</td>\n",
       "      <td>-0.001637</td>\n",
       "      <td>-0.001152</td>\n",
       "      <td>0.000117</td>\n",
       "      <td>0.008701</td>\n",
       "      <td>-0.009127</td>\n",
       "      <td>0.003511</td>\n",
       "    </tr>\n",
       "    <tr>\n",
       "      <th>carat</th>\n",
       "      <td>-0.000378</td>\n",
       "      <td>1.000000</td>\n",
       "      <td>0.028899</td>\n",
       "      <td>0.178948</td>\n",
       "      <td>0.974698</td>\n",
       "      <td>0.944318</td>\n",
       "      <td>0.947809</td>\n",
       "      <td>0.920994</td>\n",
       "      <td>0.018654</td>\n",
       "      <td>0.290270</td>\n",
       "      <td>-0.215731</td>\n",
       "    </tr>\n",
       "    <tr>\n",
       "      <th>depth</th>\n",
       "      <td>-0.002242</td>\n",
       "      <td>0.028899</td>\n",
       "      <td>1.000000</td>\n",
       "      <td>-0.298248</td>\n",
       "      <td>-0.025145</td>\n",
       "      <td>-0.029319</td>\n",
       "      <td>0.094562</td>\n",
       "      <td>-0.009756</td>\n",
       "      <td>-0.194890</td>\n",
       "      <td>0.045644</td>\n",
       "      <td>-0.052483</td>\n",
       "    </tr>\n",
       "    <tr>\n",
       "      <th>table</th>\n",
       "      <td>0.009870</td>\n",
       "      <td>0.178948</td>\n",
       "      <td>-0.298248</td>\n",
       "      <td>1.000000</td>\n",
       "      <td>0.193161</td>\n",
       "      <td>0.179688</td>\n",
       "      <td>0.146999</td>\n",
       "      <td>0.125868</td>\n",
       "      <td>0.156817</td>\n",
       "      <td>0.024696</td>\n",
       "      <td>-0.084450</td>\n",
       "    </tr>\n",
       "    <tr>\n",
       "      <th>x</th>\n",
       "      <td>-0.000055</td>\n",
       "      <td>0.974698</td>\n",
       "      <td>-0.025145</td>\n",
       "      <td>0.193161</td>\n",
       "      <td>1.000000</td>\n",
       "      <td>0.967194</td>\n",
       "      <td>0.965231</td>\n",
       "      <td>0.884080</td>\n",
       "      <td>0.023197</td>\n",
       "      <td>0.268739</td>\n",
       "      <td>-0.227692</td>\n",
       "    </tr>\n",
       "    <tr>\n",
       "      <th>y</th>\n",
       "      <td>-0.001637</td>\n",
       "      <td>0.944318</td>\n",
       "      <td>-0.029319</td>\n",
       "      <td>0.179688</td>\n",
       "      <td>0.967194</td>\n",
       "      <td>1.000000</td>\n",
       "      <td>0.940881</td>\n",
       "      <td>0.858680</td>\n",
       "      <td>0.028172</td>\n",
       "      <td>0.259930</td>\n",
       "      <td>-0.218013</td>\n",
       "    </tr>\n",
       "    <tr>\n",
       "      <th>z</th>\n",
       "      <td>-0.001152</td>\n",
       "      <td>0.947809</td>\n",
       "      <td>0.094562</td>\n",
       "      <td>0.146999</td>\n",
       "      <td>0.965231</td>\n",
       "      <td>0.940881</td>\n",
       "      <td>1.000000</td>\n",
       "      <td>0.856299</td>\n",
       "      <td>0.002761</td>\n",
       "      <td>0.264584</td>\n",
       "      <td>-0.224615</td>\n",
       "    </tr>\n",
       "    <tr>\n",
       "      <th>price</th>\n",
       "      <td>0.000117</td>\n",
       "      <td>0.920994</td>\n",
       "      <td>-0.009756</td>\n",
       "      <td>0.125868</td>\n",
       "      <td>0.884080</td>\n",
       "      <td>0.858680</td>\n",
       "      <td>0.856299</td>\n",
       "      <td>1.000000</td>\n",
       "      <td>0.043197</td>\n",
       "      <td>0.170355</td>\n",
       "      <td>-0.071126</td>\n",
       "    </tr>\n",
       "    <tr>\n",
       "      <th>cut_le</th>\n",
       "      <td>0.008701</td>\n",
       "      <td>0.018654</td>\n",
       "      <td>-0.194890</td>\n",
       "      <td>0.156817</td>\n",
       "      <td>0.023197</td>\n",
       "      <td>0.028172</td>\n",
       "      <td>0.002761</td>\n",
       "      <td>0.043197</td>\n",
       "      <td>1.000000</td>\n",
       "      <td>-0.003245</td>\n",
       "      <td>0.030233</td>\n",
       "    </tr>\n",
       "    <tr>\n",
       "      <th>color_le</th>\n",
       "      <td>-0.009127</td>\n",
       "      <td>0.290270</td>\n",
       "      <td>0.045644</td>\n",
       "      <td>0.024696</td>\n",
       "      <td>0.268739</td>\n",
       "      <td>0.259930</td>\n",
       "      <td>0.264584</td>\n",
       "      <td>0.170355</td>\n",
       "      <td>-0.003245</td>\n",
       "      <td>1.000000</td>\n",
       "      <td>-0.030241</td>\n",
       "    </tr>\n",
       "    <tr>\n",
       "      <th>clarity_le</th>\n",
       "      <td>0.003511</td>\n",
       "      <td>-0.215731</td>\n",
       "      <td>-0.052483</td>\n",
       "      <td>-0.084450</td>\n",
       "      <td>-0.227692</td>\n",
       "      <td>-0.218013</td>\n",
       "      <td>-0.224615</td>\n",
       "      <td>-0.071126</td>\n",
       "      <td>0.030233</td>\n",
       "      <td>-0.030241</td>\n",
       "      <td>1.000000</td>\n",
       "    </tr>\n",
       "  </tbody>\n",
       "</table>\n",
       "</div>"
      ],
      "text/plain": [
       "                  id     carat     depth     table         x         y  \\\n",
       "id          1.000000 -0.000378 -0.002242  0.009870 -0.000055 -0.001637   \n",
       "carat      -0.000378  1.000000  0.028899  0.178948  0.974698  0.944318   \n",
       "depth      -0.002242  0.028899  1.000000 -0.298248 -0.025145 -0.029319   \n",
       "table       0.009870  0.178948 -0.298248  1.000000  0.193161  0.179688   \n",
       "x          -0.000055  0.974698 -0.025145  0.193161  1.000000  0.967194   \n",
       "y          -0.001637  0.944318 -0.029319  0.179688  0.967194  1.000000   \n",
       "z          -0.001152  0.947809  0.094562  0.146999  0.965231  0.940881   \n",
       "price       0.000117  0.920994 -0.009756  0.125868  0.884080  0.858680   \n",
       "cut_le      0.008701  0.018654 -0.194890  0.156817  0.023197  0.028172   \n",
       "color_le   -0.009127  0.290270  0.045644  0.024696  0.268739  0.259930   \n",
       "clarity_le  0.003511 -0.215731 -0.052483 -0.084450 -0.227692 -0.218013   \n",
       "\n",
       "                   z     price    cut_le  color_le  clarity_le  \n",
       "id         -0.001152  0.000117  0.008701 -0.009127    0.003511  \n",
       "carat       0.947809  0.920994  0.018654  0.290270   -0.215731  \n",
       "depth       0.094562 -0.009756 -0.194890  0.045644   -0.052483  \n",
       "table       0.146999  0.125868  0.156817  0.024696   -0.084450  \n",
       "x           0.965231  0.884080  0.023197  0.268739   -0.227692  \n",
       "y           0.940881  0.858680  0.028172  0.259930   -0.218013  \n",
       "z           1.000000  0.856299  0.002761  0.264584   -0.224615  \n",
       "price       0.856299  1.000000  0.043197  0.170355   -0.071126  \n",
       "cut_le      0.002761  0.043197  1.000000 -0.003245    0.030233  \n",
       "color_le    0.264584  0.170355 -0.003245  1.000000   -0.030241  \n",
       "clarity_le -0.224615 -0.071126  0.030233 -0.030241    1.000000  "
      ]
     },
     "execution_count": 95,
     "metadata": {},
     "output_type": "execute_result"
    }
   ],
   "source": [
    "train.corr()"
   ]
  },
  {
   "cell_type": "code",
   "execution_count": 6,
   "metadata": {},
   "outputs": [
    {
     "name": "stdout",
     "output_type": "stream",
     "text": [
      "(40455, 11)\n"
     ]
    }
   ],
   "source": [
    "print(train.shape)"
   ]
  },
  {
   "cell_type": "code",
   "execution_count": 7,
   "metadata": {},
   "outputs": [
    {
     "data": {
      "text/html": [
       "<div>\n",
       "<style scoped>\n",
       "    .dataframe tbody tr th:only-of-type {\n",
       "        vertical-align: middle;\n",
       "    }\n",
       "\n",
       "    .dataframe tbody tr th {\n",
       "        vertical-align: top;\n",
       "    }\n",
       "\n",
       "    .dataframe thead th {\n",
       "        text-align: right;\n",
       "    }\n",
       "</style>\n",
       "<table border=\"1\" class=\"dataframe\">\n",
       "  <thead>\n",
       "    <tr style=\"text-align: right;\">\n",
       "      <th></th>\n",
       "      <th>id</th>\n",
       "      <th>carat</th>\n",
       "      <th>cut</th>\n",
       "      <th>color</th>\n",
       "      <th>clarity</th>\n",
       "      <th>depth</th>\n",
       "      <th>table</th>\n",
       "      <th>x</th>\n",
       "      <th>y</th>\n",
       "      <th>z</th>\n",
       "      <th>price</th>\n",
       "    </tr>\n",
       "  </thead>\n",
       "  <tbody>\n",
       "    <tr>\n",
       "      <th>14955</th>\n",
       "      <td>14955</td>\n",
       "      <td>2.00</td>\n",
       "      <td>Very Good</td>\n",
       "      <td>G</td>\n",
       "      <td>SI1</td>\n",
       "      <td>63.5</td>\n",
       "      <td>56.0</td>\n",
       "      <td>7.90</td>\n",
       "      <td>7.97</td>\n",
       "      <td>5.04</td>\n",
       "      <td>18818</td>\n",
       "    </tr>\n",
       "    <tr>\n",
       "      <th>25017</th>\n",
       "      <td>25017</td>\n",
       "      <td>2.07</td>\n",
       "      <td>Ideal</td>\n",
       "      <td>G</td>\n",
       "      <td>SI2</td>\n",
       "      <td>62.5</td>\n",
       "      <td>55.0</td>\n",
       "      <td>8.20</td>\n",
       "      <td>8.13</td>\n",
       "      <td>5.11</td>\n",
       "      <td>18804</td>\n",
       "    </tr>\n",
       "    <tr>\n",
       "      <th>14089</th>\n",
       "      <td>14089</td>\n",
       "      <td>2.00</td>\n",
       "      <td>Very Good</td>\n",
       "      <td>H</td>\n",
       "      <td>SI1</td>\n",
       "      <td>62.8</td>\n",
       "      <td>57.0</td>\n",
       "      <td>7.95</td>\n",
       "      <td>8.00</td>\n",
       "      <td>5.01</td>\n",
       "      <td>18803</td>\n",
       "    </tr>\n",
       "    <tr>\n",
       "      <th>18387</th>\n",
       "      <td>18387</td>\n",
       "      <td>2.29</td>\n",
       "      <td>Premium</td>\n",
       "      <td>I</td>\n",
       "      <td>SI1</td>\n",
       "      <td>61.8</td>\n",
       "      <td>59.0</td>\n",
       "      <td>8.52</td>\n",
       "      <td>8.45</td>\n",
       "      <td>5.24</td>\n",
       "      <td>18797</td>\n",
       "    </tr>\n",
       "    <tr>\n",
       "      <th>5933</th>\n",
       "      <td>5933</td>\n",
       "      <td>2.04</td>\n",
       "      <td>Premium</td>\n",
       "      <td>H</td>\n",
       "      <td>SI1</td>\n",
       "      <td>58.1</td>\n",
       "      <td>60.0</td>\n",
       "      <td>8.37</td>\n",
       "      <td>8.28</td>\n",
       "      <td>4.84</td>\n",
       "      <td>18795</td>\n",
       "    </tr>\n",
       "  </tbody>\n",
       "</table>\n",
       "</div>"
      ],
      "text/plain": [
       "          id  carat        cut color clarity  depth  table     x     y     z  \\\n",
       "14955  14955   2.00  Very Good     G     SI1   63.5   56.0  7.90  7.97  5.04   \n",
       "25017  25017   2.07      Ideal     G     SI2   62.5   55.0  8.20  8.13  5.11   \n",
       "14089  14089   2.00  Very Good     H     SI1   62.8   57.0  7.95  8.00  5.01   \n",
       "18387  18387   2.29    Premium     I     SI1   61.8   59.0  8.52  8.45  5.24   \n",
       "5933    5933   2.04    Premium     H     SI1   58.1   60.0  8.37  8.28  4.84   \n",
       "\n",
       "       price  \n",
       "14955  18818  \n",
       "25017  18804  \n",
       "14089  18803  \n",
       "18387  18797  \n",
       "5933   18795  "
      ]
     },
     "metadata": {},
     "output_type": "display_data"
    },
    {
     "data": {
      "text/html": [
       "<div>\n",
       "<style scoped>\n",
       "    .dataframe tbody tr th:only-of-type {\n",
       "        vertical-align: middle;\n",
       "    }\n",
       "\n",
       "    .dataframe tbody tr th {\n",
       "        vertical-align: top;\n",
       "    }\n",
       "\n",
       "    .dataframe thead th {\n",
       "        text-align: right;\n",
       "    }\n",
       "</style>\n",
       "<table border=\"1\" class=\"dataframe\">\n",
       "  <thead>\n",
       "    <tr style=\"text-align: right;\">\n",
       "      <th></th>\n",
       "      <th>id</th>\n",
       "      <th>carat</th>\n",
       "      <th>cut</th>\n",
       "      <th>color</th>\n",
       "      <th>clarity</th>\n",
       "      <th>depth</th>\n",
       "      <th>table</th>\n",
       "      <th>x</th>\n",
       "      <th>y</th>\n",
       "      <th>z</th>\n",
       "      <th>price</th>\n",
       "    </tr>\n",
       "  </thead>\n",
       "  <tbody>\n",
       "    <tr>\n",
       "      <th>35732</th>\n",
       "      <td>35732</td>\n",
       "      <td>0.23</td>\n",
       "      <td>Ideal</td>\n",
       "      <td>E</td>\n",
       "      <td>SI2</td>\n",
       "      <td>61.5</td>\n",
       "      <td>55.0</td>\n",
       "      <td>3.95</td>\n",
       "      <td>3.98</td>\n",
       "      <td>2.43</td>\n",
       "      <td>326</td>\n",
       "    </tr>\n",
       "    <tr>\n",
       "      <th>19880</th>\n",
       "      <td>19880</td>\n",
       "      <td>0.21</td>\n",
       "      <td>Premium</td>\n",
       "      <td>E</td>\n",
       "      <td>SI1</td>\n",
       "      <td>59.8</td>\n",
       "      <td>61.0</td>\n",
       "      <td>3.89</td>\n",
       "      <td>3.84</td>\n",
       "      <td>2.31</td>\n",
       "      <td>326</td>\n",
       "    </tr>\n",
       "    <tr>\n",
       "      <th>26013</th>\n",
       "      <td>26013</td>\n",
       "      <td>0.23</td>\n",
       "      <td>Good</td>\n",
       "      <td>E</td>\n",
       "      <td>VS1</td>\n",
       "      <td>56.9</td>\n",
       "      <td>65.0</td>\n",
       "      <td>4.05</td>\n",
       "      <td>4.07</td>\n",
       "      <td>2.31</td>\n",
       "      <td>327</td>\n",
       "    </tr>\n",
       "    <tr>\n",
       "      <th>7873</th>\n",
       "      <td>7873</td>\n",
       "      <td>0.24</td>\n",
       "      <td>Very Good</td>\n",
       "      <td>J</td>\n",
       "      <td>VVS2</td>\n",
       "      <td>62.8</td>\n",
       "      <td>57.0</td>\n",
       "      <td>3.94</td>\n",
       "      <td>3.96</td>\n",
       "      <td>2.48</td>\n",
       "      <td>336</td>\n",
       "    </tr>\n",
       "    <tr>\n",
       "      <th>2003</th>\n",
       "      <td>2003</td>\n",
       "      <td>0.24</td>\n",
       "      <td>Very Good</td>\n",
       "      <td>I</td>\n",
       "      <td>VVS1</td>\n",
       "      <td>62.3</td>\n",
       "      <td>57.0</td>\n",
       "      <td>3.95</td>\n",
       "      <td>3.98</td>\n",
       "      <td>2.47</td>\n",
       "      <td>336</td>\n",
       "    </tr>\n",
       "  </tbody>\n",
       "</table>\n",
       "</div>"
      ],
      "text/plain": [
       "          id  carat        cut color clarity  depth  table     x     y     z  \\\n",
       "35732  35732   0.23      Ideal     E     SI2   61.5   55.0  3.95  3.98  2.43   \n",
       "19880  19880   0.21    Premium     E     SI1   59.8   61.0  3.89  3.84  2.31   \n",
       "26013  26013   0.23       Good     E     VS1   56.9   65.0  4.05  4.07  2.31   \n",
       "7873    7873   0.24  Very Good     J    VVS2   62.8   57.0  3.94  3.96  2.48   \n",
       "2003    2003   0.24  Very Good     I    VVS1   62.3   57.0  3.95  3.98  2.47   \n",
       "\n",
       "       price  \n",
       "35732    326  \n",
       "19880    326  \n",
       "26013    327  \n",
       "7873     336  \n",
       "2003     336  "
      ]
     },
     "execution_count": 7,
     "metadata": {},
     "output_type": "execute_result"
    }
   ],
   "source": [
    "display(train.sort_values(by=['price'], ascending = False).head())\n",
    "\n",
    "train.sort_values(by=['price'], ascending = True).head()"
   ]
  },
  {
   "cell_type": "code",
   "execution_count": 8,
   "metadata": {},
   "outputs": [
    {
     "data": {
      "text/plain": [
       "SI1     9806\n",
       "VS2     9204\n",
       "SI2     6865\n",
       "VS1     6099\n",
       "VVS2    3778\n",
       "VVS1    2776\n",
       "IF      1365\n",
       "I1       562\n",
       "Name: clarity, dtype: int64"
      ]
     },
     "execution_count": 8,
     "metadata": {},
     "output_type": "execute_result"
    }
   ],
   "source": [
    "train.clarity.value_counts()"
   ]
  },
  {
   "cell_type": "code",
   "execution_count": 9,
   "metadata": {},
   "outputs": [
    {
     "data": {
      "text/plain": [
       "Ideal        16250\n",
       "Premium      10342\n",
       "Very Good     9026\n",
       "Good          3639\n",
       "Fair          1198\n",
       "Name: cut, dtype: int64"
      ]
     },
     "execution_count": 9,
     "metadata": {},
     "output_type": "execute_result"
    }
   ],
   "source": [
    "train.cut.value_counts()"
   ]
  },
  {
   "cell_type": "code",
   "execution_count": 10,
   "metadata": {},
   "outputs": [
    {
     "data": {
      "text/plain": [
       "G    8565\n",
       "E    7344\n",
       "F    7162\n",
       "H    6147\n",
       "D    5063\n",
       "I    4052\n",
       "J    2122\n",
       "Name: color, dtype: int64"
      ]
     },
     "execution_count": 10,
     "metadata": {},
     "output_type": "execute_result"
    }
   ],
   "source": [
    "train.color.value_counts()"
   ]
  },
  {
   "cell_type": "code",
   "execution_count": 11,
   "metadata": {},
   "outputs": [
    {
     "data": {
      "text/plain": [
       "id         0\n",
       "carat      0\n",
       "cut        0\n",
       "color      0\n",
       "clarity    0\n",
       "depth      0\n",
       "table      0\n",
       "x          0\n",
       "y          0\n",
       "z          0\n",
       "price      0\n",
       "dtype: int64"
      ]
     },
     "execution_count": 11,
     "metadata": {},
     "output_type": "execute_result"
    }
   ],
   "source": [
    "train.isna().sum()"
   ]
  },
  {
   "cell_type": "code",
   "execution_count": 12,
   "metadata": {},
   "outputs": [],
   "source": [
    "from sklearn import preprocessing\n",
    "le = preprocessing.LabelEncoder()\n",
    "train[\"cut_le\"] = le.fit_transform(train[\"cut\"])\n",
    "train[\"color_le\"] = le.fit_transform(train[\"color\"])\n",
    "train[\"clarity_le\"] = le.fit_transform(train[\"clarity\"])"
   ]
  },
  {
   "cell_type": "code",
   "execution_count": 14,
   "metadata": {},
   "outputs": [
    {
     "data": {
      "text/plain": [
       "<AxesSubplot:>"
      ]
     },
     "execution_count": 14,
     "metadata": {},
     "output_type": "execute_result"
    },
    {
     "data": {
      "image/png": "[encoded data removed]",
      "text/plain": [
       "<Figure size 432x288 with 2 Axes>"
      ]
     },
     "metadata": {
      "needs_background": "light"
     },
     "output_type": "display_data"
    }
   ],
   "source": [
    "sns.heatmap(train.corr())"
   ]
  },
  {
   "cell_type": "code",
   "execution_count": 15,
   "metadata": {},
   "outputs": [
    {
     "data": {
      "text/html": [
       "<div>\n",
       "<style scoped>\n",
       "    .dataframe tbody tr th:only-of-type {\n",
       "        vertical-align: middle;\n",
       "    }\n",
       "\n",
       "    .dataframe tbody tr th {\n",
       "        vertical-align: top;\n",
       "    }\n",
       "\n",
       "    .dataframe thead th {\n",
       "        text-align: right;\n",
       "    }\n",
       "</style>\n",
       "<table border=\"1\" class=\"dataframe\">\n",
       "  <thead>\n",
       "    <tr style=\"text-align: right;\">\n",
       "      <th></th>\n",
       "      <th>id</th>\n",
       "      <th>carat</th>\n",
       "      <th>cut</th>\n",
       "      <th>color</th>\n",
       "      <th>clarity</th>\n",
       "      <th>depth</th>\n",
       "      <th>table</th>\n",
       "      <th>x</th>\n",
       "      <th>y</th>\n",
       "      <th>z</th>\n",
       "      <th>price</th>\n",
       "      <th>cut_le</th>\n",
       "      <th>color_le</th>\n",
       "      <th>clarity_le</th>\n",
       "    </tr>\n",
       "  </thead>\n",
       "  <tbody>\n",
       "    <tr>\n",
       "      <th>0</th>\n",
       "      <td>0</td>\n",
       "      <td>1.12</td>\n",
       "      <td>Premium</td>\n",
       "      <td>H</td>\n",
       "      <td>SI1</td>\n",
       "      <td>61.6</td>\n",
       "      <td>59.0</td>\n",
       "      <td>6.67</td>\n",
       "      <td>6.63</td>\n",
       "      <td>4.10</td>\n",
       "      <td>5363</td>\n",
       "      <td>3</td>\n",
       "      <td>4</td>\n",
       "      <td>2</td>\n",
       "    </tr>\n",
       "    <tr>\n",
       "      <th>1</th>\n",
       "      <td>1</td>\n",
       "      <td>1.14</td>\n",
       "      <td>Very Good</td>\n",
       "      <td>E</td>\n",
       "      <td>SI2</td>\n",
       "      <td>60.0</td>\n",
       "      <td>54.0</td>\n",
       "      <td>6.74</td>\n",
       "      <td>6.97</td>\n",
       "      <td>4.11</td>\n",
       "      <td>5593</td>\n",
       "      <td>4</td>\n",
       "      <td>1</td>\n",
       "      <td>3</td>\n",
       "    </tr>\n",
       "    <tr>\n",
       "      <th>2</th>\n",
       "      <td>2</td>\n",
       "      <td>0.90</td>\n",
       "      <td>Very Good</td>\n",
       "      <td>D</td>\n",
       "      <td>SI2</td>\n",
       "      <td>60.3</td>\n",
       "      <td>63.0</td>\n",
       "      <td>6.12</td>\n",
       "      <td>6.22</td>\n",
       "      <td>3.72</td>\n",
       "      <td>3534</td>\n",
       "      <td>4</td>\n",
       "      <td>0</td>\n",
       "      <td>3</td>\n",
       "    </tr>\n",
       "    <tr>\n",
       "      <th>3</th>\n",
       "      <td>3</td>\n",
       "      <td>0.71</td>\n",
       "      <td>Ideal</td>\n",
       "      <td>E</td>\n",
       "      <td>VS1</td>\n",
       "      <td>61.9</td>\n",
       "      <td>54.0</td>\n",
       "      <td>5.74</td>\n",
       "      <td>5.76</td>\n",
       "      <td>3.56</td>\n",
       "      <td>3212</td>\n",
       "      <td>2</td>\n",
       "      <td>1</td>\n",
       "      <td>4</td>\n",
       "    </tr>\n",
       "    <tr>\n",
       "      <th>4</th>\n",
       "      <td>4</td>\n",
       "      <td>0.34</td>\n",
       "      <td>Very Good</td>\n",
       "      <td>F</td>\n",
       "      <td>SI2</td>\n",
       "      <td>60.0</td>\n",
       "      <td>62.0</td>\n",
       "      <td>4.51</td>\n",
       "      <td>4.55</td>\n",
       "      <td>2.72</td>\n",
       "      <td>447</td>\n",
       "      <td>4</td>\n",
       "      <td>2</td>\n",
       "      <td>3</td>\n",
       "    </tr>\n",
       "  </tbody>\n",
       "</table>\n",
       "</div>"
      ],
      "text/plain": [
       "   id  carat        cut color clarity  depth  table     x     y     z  price  \\\n",
       "0   0   1.12    Premium     H     SI1   61.6   59.0  6.67  6.63  4.10   5363   \n",
       "1   1   1.14  Very Good     E     SI2   60.0   54.0  6.74  6.97  4.11   5593   \n",
       "2   2   0.90  Very Good     D     SI2   60.3   63.0  6.12  6.22  3.72   3534   \n",
       "3   3   0.71      Ideal     E     VS1   61.9   54.0  5.74  5.76  3.56   3212   \n",
       "4   4   0.34  Very Good     F     SI2   60.0   62.0  4.51  4.55  2.72    447   \n",
       "\n",
       "   cut_le  color_le  clarity_le  \n",
       "0       3         4           2  \n",
       "1       4         1           3  \n",
       "2       4         0           3  \n",
       "3       2         1           4  \n",
       "4       4         2           3  "
      ]
     },
     "execution_count": 15,
     "metadata": {},
     "output_type": "execute_result"
    }
   ],
   "source": [
    "train.head()"
   ]
  },
  {
   "cell_type": "code",
   "execution_count": 16,
   "metadata": {},
   "outputs": [],
   "source": [
    "clean_1 = train[['carat', 'cut_le', 'color_le', 'clarity_le','price']]"
   ]
  },
  {
   "cell_type": "code",
   "execution_count": 17,
   "metadata": {},
   "outputs": [],
   "source": [
    "X = clean_1.copy()\n",
    "X.drop('price', axis=1, inplace = True)\n"
   ]
  },
  {
   "cell_type": "code",
   "execution_count": 18,
   "metadata": {},
   "outputs": [],
   "source": [
    "y = clean_1['price']"
   ]
  },
  {
   "cell_type": "code",
   "execution_count": 19,
   "metadata": {},
   "outputs": [],
   "source": [
    "from sklearn.preprocessing import StandardScaler, Normalizer\n"
   ]
  },
  {
   "cell_type": "code",
   "execution_count": 20,
   "metadata": {},
   "outputs": [],
   "source": [
    "from sklearn.linear_model import OrthogonalMatchingPursuit, LinearRegression\n",
    "from sklearn import linear_model\n",
    "from sklearn.neighbors import KNeighborsRegressor"
   ]
  },
  {
   "cell_type": "code",
   "execution_count": 21,
   "metadata": {},
   "outputs": [],
   "source": [
    "clf = linear_model.ARDRegression()\n",
    "classo = linear_model.Lasso(alpha=0.1)"
   ]
  },
  {
   "cell_type": "code",
   "execution_count": 22,
   "metadata": {},
   "outputs": [],
   "source": [
    "from sklearn.model_selection import train_test_split\n",
    "X_train, X_test, y_train, y_test = train_test_split(X,y,test_size = 0.2)\n"
   ]
  },
  {
   "cell_type": "code",
   "execution_count": 86,
   "metadata": {},
   "outputs": [],
   "source": [
    "models = {\n",
    "    \"OrthogonalMatchingPursuit\" : OrthogonalMatchingPursuit(),\n",
    "    \"LinearRegression\" : LinearRegression(),\n",
    "    \"KNeighborsRegressor\": KNeighborsRegressor(),\n",
    "    \"ARDRegression\" : linear_model.ARDRegression(),\n",
    "    \"Lasso\" : linear_model.Lasso(alpha=0.1)\n",
    "}"
   ]
  },
  {
   "cell_type": "code",
   "execution_count": 87,
   "metadata": {},
   "outputs": [
    {
     "name": "stdout",
     "output_type": "stream",
     "text": [
      "Entrenando OrthogonalMatchingPursuit\n",
      "He acabado :) \n",
      "Entrenando LinearRegression\n",
      "He acabado :) \n",
      "Entrenando KNeighborsRegressor\n",
      "He acabado :) \n",
      "Entrenando ARDRegression\n",
      "He acabado :) \n",
      "Entrenando Lasso\n",
      "He acabado :) \n"
     ]
    }
   ],
   "source": [
    "for name, model in models.items():\n",
    "    print(f\"Entrenando {name}\")\n",
    "    model.fit(X_train, y_train)\n",
    "    print(\"He acabado :) \")"
   ]
  },
  {
   "cell_type": "code",
   "execution_count": 96,
   "metadata": {},
   "outputs": [
    {
     "name": "stdout",
     "output_type": "stream",
     "text": [
      "-------OrthogonalMatchingPursuit-------\n",
      "2458743.3084271676\n",
      "-------LinearRegression-------\n",
      "1988161.4821302607\n",
      "-------KNeighborsRegressor-------\n",
      "643033.2833914226\n",
      "-------ARDRegression-------\n",
      "1988119.0218115957\n",
      "-------Lasso-------\n",
      "1988175.5621371595\n"
     ]
    }
   ],
   "source": [
    "from sklearn.metrics import mean_squared_error\n",
    "for name, model in models.items():\n",
    "    y_pred = model.predict(X_test)\n",
    "    print(f\"-------{name}-------\")\n",
    "    print (mean_squared_error(y_test, y_pred))"
   ]
  },
  {
   "cell_type": "code",
   "execution_count": 119,
   "metadata": {},
   "outputs": [
    {
     "data": {
      "text/plain": [
       "StandardScaler(copy=       carat  cut_le  color_le  clarity_le\n",
       "0       1.12       3         4           2\n",
       "1       1.14       4         1           3\n",
       "2       0.90       4         0           3\n",
       "3       0.71       2         1           4\n",
       "4       0.34       4         2           3\n",
       "...      ...     ...       ...         ...\n",
       "40450   0.90       1         0           2\n",
       "40451   0.35       2         0           6\n",
       "40452   0.90       1         3           3\n",
       "40453   1.21       1         4           2\n",
       "40454   0.41       2         4           6\n",
       "\n",
       "[40455 rows x 4 columns])"
      ]
     },
     "execution_count": 119,
     "metadata": {},
     "output_type": "execute_result"
    }
   ],
   "source": [
    "X = clean_1.copy()\n",
    "X.drop('price', axis=1, inplace = True)\n",
    "y = clean_1['price']\n",
    "Normalizer(X)\n",
    "StandardScaler(X)"
   ]
  },
  {
   "cell_type": "code",
   "execution_count": 118,
   "metadata": {},
   "outputs": [],
   "source": [
    "X_train, X_test, y_train, y_test = train_test_split(X,y,test_size = 0.2)\n"
   ]
  },
  {
   "cell_type": "code",
   "execution_count": 120,
   "metadata": {},
   "outputs": [
    {
     "name": "stdout",
     "output_type": "stream",
     "text": [
      "Entrenando OrthogonalMatchingPursuit\n",
      "He acabado :) \n",
      "Entrenando LinearRegression\n",
      "He acabado :) \n",
      "Entrenando KNeighborsRegressor\n",
      "He acabado :) \n",
      "Entrenando ARDRegression\n",
      "He acabado :) \n",
      "Entrenando Lasso\n",
      "He acabado :) \n"
     ]
    }
   ],
   "source": [
    "for name, model in models.items():\n",
    "    print(f\"Entrenando {name}\")\n",
    "    model.fit(X_train, y_train)\n",
    "    print(\"He acabado :) \")"
   ]
  },
  {
   "cell_type": "code",
   "execution_count": 121,
   "metadata": {},
   "outputs": [
    {
     "name": "stdout",
     "output_type": "stream",
     "text": [
      "-------OrthogonalMatchingPursuit-------\n",
      "2397408.700614246\n",
      "-------LinearRegression-------\n",
      "1936734.7216788803\n",
      "-------KNeighborsRegressor-------\n",
      "533901.2599431468\n",
      "-------ARDRegression-------\n",
      "1936747.839341895\n",
      "-------Lasso-------\n",
      "1936754.8240442118\n"
     ]
    }
   ],
   "source": [
    "from sklearn.metrics import mean_squared_error\n",
    "for name, model in models.items():\n",
    "    y_pred = model.predict(X_test)\n",
    "    print(f\"-------{name}-------\")\n",
    "    print (mean_squared_error(y_test, y_pred))"
   ]
  },
  {
   "cell_type": "code",
   "execution_count": 125,
   "metadata": {},
   "outputs": [],
   "source": [
    "clean_2 = train.copy()\n",
    "clean_2.drop(['cut','color','clarity','x','y','z'], axis = 1, inplace = True)\n",
    "\n",
    "X = clean_2.copy()\n",
    "X.drop(['price'], axis = 1, inplace = True)\n",
    "y = clean_2['price']"
   ]
  },
  {
   "cell_type": "code",
   "execution_count": 126,
   "metadata": {},
   "outputs": [],
   "source": [
    "X_train, X_test, y_train, y_test = train_test_split(X,y,test_size = 0.2)"
   ]
  },
  {
   "cell_type": "code",
   "execution_count": 127,
   "metadata": {},
   "outputs": [
    {
     "name": "stdout",
     "output_type": "stream",
     "text": [
      "Entrenando OrthogonalMatchingPursuit\n",
      "He acabado :) \n",
      "Entrenando LinearRegression\n",
      "He acabado :) \n",
      "Entrenando KNeighborsRegressor\n",
      "He acabado :) \n",
      "Entrenando ARDRegression\n",
      "He acabado :) \n",
      "Entrenando Lasso\n",
      "He acabado :) \n"
     ]
    }
   ],
   "source": [
    "for name, model in models.items():\n",
    "    print(f\"Entrenando {name}\")\n",
    "    model.fit(X_train, y_train)\n",
    "    print(\"He acabado :) \")"
   ]
  },
  {
   "cell_type": "code",
   "execution_count": 128,
   "metadata": {},
   "outputs": [
    {
     "name": "stdout",
     "output_type": "stream",
     "text": [
      "-------OrthogonalMatchingPursuit-------\n",
      "2493673.9269188154\n",
      "-------LinearRegression-------\n",
      "1979104.6919450269\n",
      "-------KNeighborsRegressor-------\n",
      "18664020.35033\n",
      "-------ARDRegression-------\n",
      "1978924.007630809\n",
      "-------Lasso-------\n",
      "1979108.3590746694\n"
     ]
    }
   ],
   "source": [
    "from sklearn.metrics import mean_squared_error\n",
    "for name, model in models.items():\n",
    "    y_pred = model.predict(X_test)\n",
    "    print(f\"-------{name}-------\")\n",
    "    print (mean_squared_error(y_test, y_pred))"
   ]
  },
  {
   "cell_type": "code",
   "execution_count": 130,
   "metadata": {},
   "outputs": [
    {
     "data": {
      "text/plain": [
       "StandardScaler(copy=          id  carat  depth  table  cut_le  color_le  clarity_le\n",
       "0          0   1.12   61.6   59.0       3         4           2\n",
       "1          1   1.14   60.0   54.0       4         1           3\n",
       "2          2   0.90   60.3   63.0       4         0           3\n",
       "3          3   0.71   61.9   54.0       2         1           4\n",
       "4          4   0.34   60.0   62.0       4         2           3\n",
       "...      ...    ...    ...    ...     ...       ...         ...\n",
       "40450  40450   0.90   63.8   58.0       1         0           2\n",
       "40451  40451   0.35   62.0   54.0       2         0           6\n",
       "40452  40452   0.90   58.4   55.0       1         3           3\n",
       "40453  40453   1.21   63.6   56.0       1         4           2\n",
       "40454  40454   0.41   61.4   56.0       2         4           6\n",
       "\n",
       "[40455 rows x 7 columns])"
      ]
     },
     "execution_count": 130,
     "metadata": {},
     "output_type": "execute_result"
    }
   ],
   "source": [
    "clean_2 = train.copy()\n",
    "clean_2.drop(['cut','color','clarity','x','y','z'], axis = 1, inplace = True)\n",
    "\n",
    "X = clean_2.copy()\n",
    "X.drop(['price'], axis = 1, inplace = True)\n",
    "y = clean_2['price']\n",
    "Normalizer(X)\n",
    "StandardScaler(X)"
   ]
  },
  {
   "cell_type": "code",
   "execution_count": 131,
   "metadata": {},
   "outputs": [],
   "source": [
    "X_train, X_test, y_train, y_test = train_test_split(X,y,test_size = 0.2)"
   ]
  },
  {
   "cell_type": "code",
   "execution_count": 132,
   "metadata": {},
   "outputs": [
    {
     "name": "stdout",
     "output_type": "stream",
     "text": [
      "Entrenando OrthogonalMatchingPursuit\n",
      "He acabado :) \n",
      "Entrenando LinearRegression\n",
      "He acabado :) \n",
      "Entrenando KNeighborsRegressor\n",
      "He acabado :) \n",
      "Entrenando ARDRegression\n",
      "He acabado :) \n",
      "Entrenando Lasso\n",
      "He acabado :) \n"
     ]
    }
   ],
   "source": [
    "for name, model in models.items():\n",
    "    print(f\"Entrenando {name}\")\n",
    "    model.fit(X_train, y_train)\n",
    "    print(\"He acabado :) \")"
   ]
  },
  {
   "cell_type": "code",
   "execution_count": 133,
   "metadata": {},
   "outputs": [
    {
     "name": "stdout",
     "output_type": "stream",
     "text": [
      "-------OrthogonalMatchingPursuit-------\n",
      "2388244.4726966354\n",
      "-------LinearRegression-------\n",
      "1899768.3128871757\n",
      "-------KNeighborsRegressor-------\n",
      "17814505.91108145\n",
      "-------ARDRegression-------\n",
      "1899687.7414680766\n",
      "-------Lasso-------\n",
      "1899730.745422935\n"
     ]
    }
   ],
   "source": [
    "from sklearn.metrics import mean_squared_error\n",
    "for name, model in models.items():\n",
    "    y_pred = model.predict(X_test)\n",
    "    print(f\"-------{name}-------\")\n",
    "    print (mean_squared_error(y_test, y_pred))"
   ]
  },
  {
   "cell_type": "code",
   "execution_count": 139,
   "metadata": {},
   "outputs": [],
   "source": [
    "clean_2 = train.copy()\n",
    "clean_2.drop(['cut','color','clarity','depth','table'], axis = 1, inplace = True)\n",
    "\n",
    "X = clean_2.copy()\n",
    "X.drop(['price'], axis = 1, inplace = True)\n",
    "y = clean_2['price']"
   ]
  },
  {
   "cell_type": "code",
   "execution_count": 140,
   "metadata": {},
   "outputs": [],
   "source": [
    "X_train, X_test, y_train, y_test = train_test_split(X,y,test_size = 0.2)"
   ]
  },
  {
   "cell_type": "code",
   "execution_count": 141,
   "metadata": {},
   "outputs": [
    {
     "name": "stdout",
     "output_type": "stream",
     "text": [
      "Entrenando OrthogonalMatchingPursuit\n",
      "He acabado :) \n",
      "Entrenando LinearRegression\n",
      "He acabado :) \n",
      "Entrenando KNeighborsRegressor\n",
      "He acabado :) \n",
      "Entrenando ARDRegression\n",
      "He acabado :) \n",
      "Entrenando Lasso\n",
      "He acabado :) \n"
     ]
    }
   ],
   "source": [
    "for name, model in models.items():\n",
    "    print(f\"Entrenando {name}\")\n",
    "    model.fit(X_train, y_train)\n",
    "    print(\"He acabado :) \")"
   ]
  },
  {
   "cell_type": "code",
   "execution_count": 142,
   "metadata": {},
   "outputs": [
    {
     "name": "stdout",
     "output_type": "stream",
     "text": [
      "-------OrthogonalMatchingPursuit-------\n",
      "2552631.8675018856\n",
      "-------LinearRegression-------\n",
      "2036650.3723454357\n",
      "-------KNeighborsRegressor-------\n",
      "13683001.11164504\n",
      "-------ARDRegression-------\n",
      "2036774.0091920658\n",
      "-------Lasso-------\n",
      "2036518.3267375992\n"
     ]
    }
   ],
   "source": [
    "from sklearn.metrics import mean_squared_error\n",
    "for name, model in models.items():\n",
    "    y_pred = model.predict(X_test)\n",
    "    print(f\"-------{name}-------\")\n",
    "    print (mean_squared_error(y_test, y_pred))"
   ]
  },
  {
   "cell_type": "code",
   "execution_count": 144,
   "metadata": {},
   "outputs": [
    {
     "data": {
      "text/plain": [
       "StandardScaler(copy=          id  carat     x     y     z  cut_le  color_le  clarity_le\n",
       "0          0   1.12  6.67  6.63  4.10       3         4           2\n",
       "1          1   1.14  6.74  6.97  4.11       4         1           3\n",
       "2          2   0.90  6.12  6.22  3.72       4         0           3\n",
       "3          3   0.71  5.74  5.76  3.56       2         1           4\n",
       "4          4   0.34  4.51  4.55  2.72       4         2           3\n",
       "...      ...    ...   ...   ...   ...     ...       ...         ...\n",
       "40450  40450   0.90  6.13  6.09  3.90       1         0           2\n",
       "40451  40451   0.35  4.56  4.57  2.83       2         0           6\n",
       "40452  40452   0.90  6.34  6.39  3.72       1         3           3\n",
       "40453  40453   1.21  6.63  6.68  4.23       1         4           2\n",
       "40454  40454   0.41  4.80  4.77  2.94       2         4           6\n",
       "\n",
       "[40455 rows x 8 columns])"
      ]
     },
     "execution_count": 144,
     "metadata": {},
     "output_type": "execute_result"
    }
   ],
   "source": [
    "clean_2 = train.copy()\n",
    "clean_2.drop(['cut','color','clarity','depth','table'], axis = 1, inplace = True)\n",
    "\n",
    "X = clean_2.copy()\n",
    "X.drop(['price'], axis = 1, inplace = True)\n",
    "y = clean_2['price']\n",
    "Normalizer(X)\n",
    "StandardScaler(X)"
   ]
  },
  {
   "cell_type": "code",
   "execution_count": 145,
   "metadata": {},
   "outputs": [
    {
     "name": "stdout",
     "output_type": "stream",
     "text": [
      "Entrenando OrthogonalMatchingPursuit\n",
      "He acabado :) \n",
      "Entrenando LinearRegression\n",
      "He acabado :) \n",
      "Entrenando KNeighborsRegressor\n",
      "He acabado :) \n",
      "Entrenando ARDRegression\n",
      "He acabado :) \n",
      "Entrenando Lasso\n",
      "He acabado :) \n"
     ]
    }
   ],
   "source": [
    "for name, model in models.items():\n",
    "    print(f\"Entrenando {name}\")\n",
    "    model.fit(X_train, y_train)\n",
    "    print(\"He acabado :) \")"
   ]
  },
  {
   "cell_type": "code",
   "execution_count": 146,
   "metadata": {},
   "outputs": [
    {
     "name": "stdout",
     "output_type": "stream",
     "text": [
      "-------OrthogonalMatchingPursuit-------\n",
      "2552631.8675018856\n",
      "-------LinearRegression-------\n",
      "2036650.3723454357\n",
      "-------KNeighborsRegressor-------\n",
      "13683001.11164504\n",
      "-------ARDRegression-------\n",
      "2036774.0091920658\n",
      "-------Lasso-------\n",
      "2036518.3267375992\n"
     ]
    }
   ],
   "source": [
    "from sklearn.metrics import mean_squared_error\n",
    "for name, model in models.items():\n",
    "    y_pred = model.predict(X_test)\n",
    "    print(f\"-------{name}-------\")\n",
    "    print (mean_squared_error(y_test, y_pred))"
   ]
  },
  {
   "cell_type": "code",
   "execution_count": 386,
   "metadata": {},
   "outputs": [
    {
     "data": {
      "text/plain": [
       "Normalizer(norm=       carat  cut_le  color_le  clarity_le\n",
       "0       1.12       3         4           2\n",
       "1       1.14       4         1           3\n",
       "2       0.90       4         0           3\n",
       "3       0.71       2         1           4\n",
       "4       0.34       4         2           3\n",
       "...      ...     ...       ...         ...\n",
       "40450   0.90       1         0           2\n",
       "40451   0.35       2         0           6\n",
       "40452   0.90       1         3           3\n",
       "40453   1.21       1         4           2\n",
       "40454   0.41       2         4           6\n",
       "\n",
       "[40455 rows x 4 columns])"
      ]
     },
     "execution_count": 386,
     "metadata": {},
     "output_type": "execute_result"
    }
   ],
   "source": [
    "X = clean_1.copy()\n",
    "X.drop('price', axis=1, inplace = True)\n",
    "y = clean_1['price']\n",
    "Normalizer(X)\n"
   ]
  },
  {
   "cell_type": "code",
   "execution_count": 23,
   "metadata": {},
   "outputs": [],
   "source": [
    "from sklearn.tree import DecisionTreeRegressor\n",
    "from sklearn.neighbors import RadiusNeighborsRegressor\n",
    "from sklearn.svm import LinearSVR\n",
    "from sklearn import svm\n",
    "from sklearn.ensemble import GradientBoostingRegressor\n",
    "from sklearn.ensemble import RandomForestRegressor\n",
    "from sklearn.linear_model import PassiveAggressiveRegressor\n",
    "from sklearn import svm\n",
    "models3 = {\n",
    "    \"DecisionTreeRegressor\" : DecisionTreeRegressor(),\n",
    "    \"GradientBoostingRegressor\" : GradientBoostingRegressor(),\n",
    "    \"KNeighborsRegressor\": KNeighborsRegressor(),\n",
    "    \"LinearSVR\" : LinearSVR(),\n",
    "    \"OrthogonalMatchingPursuit\" : OrthogonalMatchingPursuit(),\n",
    "    \"LinearRegression\" : LinearRegression(),\n",
    "    \"RandomForestRegressor\" : RandomForestRegressor(),\n",
    "    \"ARDRegression\" : linear_model.ARDRegression(),\n",
    "    \"Lasso\" : linear_model.Lasso(alpha=0.1),\n",
    "    \"PassiveAggressiveRegressor\" : PassiveAggressiveRegressor()\n",
    "}"
   ]
  },
  {
   "cell_type": "code",
   "execution_count": 383,
   "metadata": {},
   "outputs": [],
   "source": [
    "X_train, X_test, y_train, y_test = train_test_split(X,y,test_size = 0.2)"
   ]
  },
  {
   "cell_type": "code",
   "execution_count": 384,
   "metadata": {},
   "outputs": [
    {
     "name": "stdout",
     "output_type": "stream",
     "text": [
      "Entrenando DecisionTreeRegressor\n",
      "He acabado :) \n",
      "Entrenando RadiusNeighborsRegressor\n",
      "He acabado :) \n",
      "Entrenando KNeighborsRegressor\n",
      "He acabado :) \n",
      "Entrenando LinearSVR\n",
      "He acabado :) \n"
     ]
    }
   ],
   "source": [
    "for name, model in models2.items():\n",
    "    print(f\"Entrenando {name}\")\n",
    "    model.fit(X_train, y_train)\n",
    "    print(\"He acabado :) \")"
   ]
  },
  {
   "cell_type": "code",
   "execution_count": 385,
   "metadata": {},
   "outputs": [
    {
     "name": "stdout",
     "output_type": "stream",
     "text": [
      "-------DecisionTreeRegressor-------\n",
      "488617.5082880432\n",
      "-------RadiusNeighborsRegressor-------\n",
      "3.154267398228951e+34\n",
      "-------KNeighborsRegressor-------\n",
      "542448.8253565691\n",
      "-------LinearSVR-------\n",
      "4273138.360418574\n"
     ]
    }
   ],
   "source": [
    "from sklearn.metrics import mean_squared_error\n",
    "for name, model in models2.items():\n",
    "    y_pred = model.predict(X_test)\n",
    "    print(f\"-------{name}-------\")\n",
    "    print (mean_squared_error(y_test, y_pred))"
   ]
  },
  {
   "cell_type": "code",
   "execution_count": 270,
   "metadata": {},
   "outputs": [
    {
     "data": {
      "text/plain": [
       "StandardScaler(copy=       carat  cut_le  color_le  clarity_le\n",
       "0       1.12       3         4           2\n",
       "1       1.14       4         1           3\n",
       "2       0.90       4         0           3\n",
       "3       0.71       2         1           4\n",
       "4       0.34       4         2           3\n",
       "...      ...     ...       ...         ...\n",
       "40450   0.90       1         0           2\n",
       "40451   0.35       2         0           6\n",
       "40452   0.90       1         3           3\n",
       "40453   1.21       1         4           2\n",
       "40454   0.41       2         4           6\n",
       "\n",
       "[40455 rows x 4 columns])"
      ]
     },
     "execution_count": 270,
     "metadata": {},
     "output_type": "execute_result"
    }
   ],
   "source": [
    "X = clean_1.copy()\n",
    "X.drop('price', axis=1, inplace = True)\n",
    "y = clean_1['price']\n",
    "StandardScaler(X)"
   ]
  },
  {
   "cell_type": "code",
   "execution_count": 271,
   "metadata": {},
   "outputs": [],
   "source": [
    "X_train, X_test, y_train, y_test = train_test_split(X,y,test_size = 0.2)"
   ]
  },
  {
   "cell_type": "code",
   "execution_count": 272,
   "metadata": {},
   "outputs": [
    {
     "name": "stdout",
     "output_type": "stream",
     "text": [
      "Entrenando DecisionTreeRegressor\n",
      "He acabado :) \n",
      "Entrenando RadiusNeighborsRegressor\n",
      "He acabado :) \n",
      "Entrenando KNeighborsRegressor\n",
      "He acabado :) \n",
      "Entrenando LinearSVR\n",
      "He acabado :) \n"
     ]
    }
   ],
   "source": [
    "for name, model in models2.items():\n",
    "    print(f\"Entrenando {name}\")\n",
    "    model.fit(X_train, y_train)\n",
    "    print(\"He acabado :) \")"
   ]
  },
  {
   "cell_type": "code",
   "execution_count": 273,
   "metadata": {},
   "outputs": [
    {
     "name": "stdout",
     "output_type": "stream",
     "text": [
      "-------DecisionTreeRegressor-------\n",
      "483171.65564842493\n",
      "-------RadiusNeighborsRegressor-------\n",
      "4.205689864305266e+34\n",
      "-------KNeighborsRegressor-------\n",
      "538061.3033296255\n",
      "-------LinearSVR-------\n",
      "4154456.821581813\n"
     ]
    }
   ],
   "source": [
    "from sklearn.metrics import mean_squared_error\n",
    "for name, model in models2.items():\n",
    "    y_pred = model.predict(X_test)\n",
    "    print(f\"-------{name}-------\")\n",
    "    print (mean_squared_error(y_test, y_pred))"
   ]
  },
  {
   "cell_type": "code",
   "execution_count": 32,
   "metadata": {},
   "outputs": [],
   "source": [
    "import numpy as np\n",
    "from sklearn.model_selection import cross_val_score\n"
   ]
  },
  {
   "cell_type": "code",
   "execution_count": 294,
   "metadata": {},
   "outputs": [
    {
     "name": "stdout",
     "output_type": "stream",
     "text": [
      "DecisionTreeRegressor mean-454496.2176408832\n",
      "RadiusNeighborsRegressor mean-3.364551942839448e+34\n",
      "KNeighborsRegressor mean-534528.8605120395\n",
      "LinearSVR mean-3925755.367885058\n",
      "min -3.364551942839448e+34\n"
     ]
    }
   ],
   "source": [
    "values = []\n",
    "\n",
    "for name, model in models2.items():\n",
    "    scores = cross_val_score(model,X,y, cv=10, scoring='neg_mean_squared_error')\n",
    "\n",
    "    print(f\"{name} mean{np.mean(scores)}\")\n",
    "    values.append(np.mean(scores))\n",
    "print('max',max(values))"
   ]
  },
  {
   "cell_type": "code",
   "execution_count": 295,
   "metadata": {},
   "outputs": [
    {
     "name": "stdout",
     "output_type": "stream",
     "text": [
      "-------DecisionTreeRegressor-------\n",
      "180288.09001781067\n",
      "-------RadiusNeighborsRegressor-------\n",
      "1.051422466076318e+34\n",
      "-------KNeighborsRegressor-------\n",
      "370427.56384130515\n",
      "-------LinearSVR-------\n",
      "3962898.77522427\n"
     ]
    }
   ],
   "source": [
    "from sklearn.metrics import mean_squared_error\n",
    "for name, model in models2.items():\n",
    "    y_pred = model.predict(X_test)\n",
    "    print(f\"-------{name}-------\")\n",
    "    print (mean_squared_error(y_test, y_pred))"
   ]
  },
  {
   "cell_type": "code",
   "execution_count": 296,
   "metadata": {},
   "outputs": [
    {
     "data": {
      "text/plain": [
       "StandardScaler(copy=       carat  cut_le  color_le  clarity_le\n",
       "0       1.12       3         4           2\n",
       "1       1.14       4         1           3\n",
       "2       0.90       4         0           3\n",
       "3       0.71       2         1           4\n",
       "4       0.34       4         2           3\n",
       "...      ...     ...       ...         ...\n",
       "40450   0.90       1         0           2\n",
       "40451   0.35       2         0           6\n",
       "40452   0.90       1         3           3\n",
       "40453   1.21       1         4           2\n",
       "40454   0.41       2         4           6\n",
       "\n",
       "[40455 rows x 4 columns])"
      ]
     },
     "execution_count": 296,
     "metadata": {},
     "output_type": "execute_result"
    }
   ],
   "source": [
    "X = clean_1.copy()\n",
    "X.drop('price', axis=1, inplace = True)\n",
    "y = clean_1['price']\n",
    "StandardScaler(X)"
   ]
  },
  {
   "cell_type": "code",
   "execution_count": 297,
   "metadata": {},
   "outputs": [],
   "source": [
    "X_train, X_test, y_train, y_test = train_test_split(X,y,test_size = 0.2)"
   ]
  },
  {
   "cell_type": "code",
   "execution_count": 298,
   "metadata": {},
   "outputs": [],
   "source": [
    "model = KNeighborsRegressor()"
   ]
  },
  {
   "cell_type": "code",
   "execution_count": 299,
   "metadata": {},
   "outputs": [
    {
     "data": {
      "text/plain": [
       "KNeighborsRegressor()"
      ]
     },
     "execution_count": 299,
     "metadata": {},
     "output_type": "execute_result"
    }
   ],
   "source": [
    "model.fit(X_train,y_train)"
   ]
  },
  {
   "cell_type": "code",
   "execution_count": 300,
   "metadata": {},
   "outputs": [],
   "source": [
    "y_pred = model.predict(X_test)\n"
   ]
  },
  {
   "cell_type": "code",
   "execution_count": 301,
   "metadata": {},
   "outputs": [
    {
     "name": "stdout",
     "output_type": "stream",
     "text": [
      "649848.7168953157\n"
     ]
    }
   ],
   "source": [
    "print (mean_squared_error(y_test, y_pred))"
   ]
  },
  {
   "cell_type": "code",
   "execution_count": 302,
   "metadata": {},
   "outputs": [
    {
     "data": {
      "text/html": [
       "<div>\n",
       "<style scoped>\n",
       "    .dataframe tbody tr th:only-of-type {\n",
       "        vertical-align: middle;\n",
       "    }\n",
       "\n",
       "    .dataframe tbody tr th {\n",
       "        vertical-align: top;\n",
       "    }\n",
       "\n",
       "    .dataframe thead th {\n",
       "        text-align: right;\n",
       "    }\n",
       "</style>\n",
       "<table border=\"1\" class=\"dataframe\">\n",
       "  <thead>\n",
       "    <tr style=\"text-align: right;\">\n",
       "      <th></th>\n",
       "      <th>y_pred</th>\n",
       "      <th>gt</th>\n",
       "    </tr>\n",
       "  </thead>\n",
       "  <tbody>\n",
       "    <tr>\n",
       "      <th>33660</th>\n",
       "      <td>4021.0</td>\n",
       "      <td>4395</td>\n",
       "    </tr>\n",
       "    <tr>\n",
       "      <th>8895</th>\n",
       "      <td>6012.4</td>\n",
       "      <td>5925</td>\n",
       "    </tr>\n",
       "    <tr>\n",
       "      <th>14052</th>\n",
       "      <td>918.0</td>\n",
       "      <td>1002</td>\n",
       "    </tr>\n",
       "    <tr>\n",
       "      <th>3090</th>\n",
       "      <td>697.4</td>\n",
       "      <td>765</td>\n",
       "    </tr>\n",
       "    <tr>\n",
       "      <th>17504</th>\n",
       "      <td>13630.8</td>\n",
       "      <td>13945</td>\n",
       "    </tr>\n",
       "    <tr>\n",
       "      <th>...</th>\n",
       "      <td>...</td>\n",
       "      <td>...</td>\n",
       "    </tr>\n",
       "    <tr>\n",
       "      <th>10755</th>\n",
       "      <td>5472.2</td>\n",
       "      <td>5374</td>\n",
       "    </tr>\n",
       "    <tr>\n",
       "      <th>19144</th>\n",
       "      <td>911.8</td>\n",
       "      <td>1015</td>\n",
       "    </tr>\n",
       "    <tr>\n",
       "      <th>34019</th>\n",
       "      <td>2333.2</td>\n",
       "      <td>2232</td>\n",
       "    </tr>\n",
       "    <tr>\n",
       "      <th>2767</th>\n",
       "      <td>5710.6</td>\n",
       "      <td>5634</td>\n",
       "    </tr>\n",
       "    <tr>\n",
       "      <th>2111</th>\n",
       "      <td>899.6</td>\n",
       "      <td>883</td>\n",
       "    </tr>\n",
       "  </tbody>\n",
       "</table>\n",
       "<p>8091 rows × 2 columns</p>\n",
       "</div>"
      ],
      "text/plain": [
       "        y_pred     gt\n",
       "33660   4021.0   4395\n",
       "8895    6012.4   5925\n",
       "14052    918.0   1002\n",
       "3090     697.4    765\n",
       "17504  13630.8  13945\n",
       "...        ...    ...\n",
       "10755   5472.2   5374\n",
       "19144    911.8   1015\n",
       "34019   2333.2   2232\n",
       "2767    5710.6   5634\n",
       "2111     899.6    883\n",
       "\n",
       "[8091 rows x 2 columns]"
      ]
     },
     "execution_count": 302,
     "metadata": {},
     "output_type": "execute_result"
    }
   ],
   "source": [
    "result = pd.DataFrame({\n",
    "    \"y_pred\":y_pred,\n",
    "    \"gt\":y_test\n",
    "})\n",
    "result"
   ]
  },
  {
   "cell_type": "code",
   "execution_count": 374,
   "metadata": {},
   "outputs": [
    {
     "data": {
      "text/plain": [
       "Normalizer(norm=       carat  cut_le  color_le  clarity_le\n",
       "0       1.12       3         4           2\n",
       "1       1.14       4         1           3\n",
       "2       0.90       4         0           3\n",
       "3       0.71       2         1           4\n",
       "4       0.34       4         2           3\n",
       "...      ...     ...       ...         ...\n",
       "40450   0.90       1         0           2\n",
       "40451   0.35       2         0           6\n",
       "40452   0.90       1         3           3\n",
       "40453   1.21       1         4           2\n",
       "40454   0.41       2         4           6\n",
       "\n",
       "[40455 rows x 4 columns])"
      ]
     },
     "execution_count": 374,
     "metadata": {},
     "output_type": "execute_result"
    }
   ],
   "source": [
    "X = clean_1.copy()\n",
    "X.drop('price', axis=1, inplace = True)\n",
    "y = clean_1['price']\n",
    "Normalizer(X)\n",
    "\n"
   ]
  },
  {
   "cell_type": "code",
   "execution_count": 375,
   "metadata": {},
   "outputs": [],
   "source": [
    "X_train, X_test, y_train, y_test = train_test_split(X,y,test_size = 0.2)"
   ]
  },
  {
   "cell_type": "code",
   "execution_count": 376,
   "metadata": {},
   "outputs": [],
   "source": [
    "model = DecisionTreeRegressor()"
   ]
  },
  {
   "cell_type": "code",
   "execution_count": 377,
   "metadata": {},
   "outputs": [
    {
     "data": {
      "text/plain": [
       "DecisionTreeRegressor()"
      ]
     },
     "execution_count": 377,
     "metadata": {},
     "output_type": "execute_result"
    }
   ],
   "source": [
    "model.fit(X_train,y_train)"
   ]
  },
  {
   "cell_type": "code",
   "execution_count": 378,
   "metadata": {},
   "outputs": [],
   "source": [
    "y_pred = model.predict(X_test)\n"
   ]
  },
  {
   "cell_type": "code",
   "execution_count": 379,
   "metadata": {},
   "outputs": [
    {
     "name": "stdout",
     "output_type": "stream",
     "text": [
      "465906.7576168313\n"
     ]
    }
   ],
   "source": [
    "print (mean_squared_error(y_test, y_pred))"
   ]
  },
  {
   "cell_type": "code",
   "execution_count": 380,
   "metadata": {},
   "outputs": [
    {
     "data": {
      "text/html": [
       "<div>\n",
       "<style scoped>\n",
       "    .dataframe tbody tr th:only-of-type {\n",
       "        vertical-align: middle;\n",
       "    }\n",
       "\n",
       "    .dataframe tbody tr th {\n",
       "        vertical-align: top;\n",
       "    }\n",
       "\n",
       "    .dataframe thead th {\n",
       "        text-align: right;\n",
       "    }\n",
       "</style>\n",
       "<table border=\"1\" class=\"dataframe\">\n",
       "  <thead>\n",
       "    <tr style=\"text-align: right;\">\n",
       "      <th></th>\n",
       "      <th>y_pred</th>\n",
       "      <th>gt</th>\n",
       "    </tr>\n",
       "  </thead>\n",
       "  <tbody>\n",
       "    <tr>\n",
       "      <th>9515</th>\n",
       "      <td>5593.000000</td>\n",
       "      <td>4469</td>\n",
       "    </tr>\n",
       "    <tr>\n",
       "      <th>32631</th>\n",
       "      <td>5601.000000</td>\n",
       "      <td>3105</td>\n",
       "    </tr>\n",
       "    <tr>\n",
       "      <th>28035</th>\n",
       "      <td>10211.000000</td>\n",
       "      <td>8972</td>\n",
       "    </tr>\n",
       "    <tr>\n",
       "      <th>5667</th>\n",
       "      <td>1961.500000</td>\n",
       "      <td>2441</td>\n",
       "    </tr>\n",
       "    <tr>\n",
       "      <th>12686</th>\n",
       "      <td>2424.333333</td>\n",
       "      <td>2272</td>\n",
       "    </tr>\n",
       "    <tr>\n",
       "      <th>...</th>\n",
       "      <td>...</td>\n",
       "      <td>...</td>\n",
       "    </tr>\n",
       "    <tr>\n",
       "      <th>14942</th>\n",
       "      <td>14308.000000</td>\n",
       "      <td>18477</td>\n",
       "    </tr>\n",
       "    <tr>\n",
       "      <th>15472</th>\n",
       "      <td>640.000000</td>\n",
       "      <td>530</td>\n",
       "    </tr>\n",
       "    <tr>\n",
       "      <th>40349</th>\n",
       "      <td>14557.750000</td>\n",
       "      <td>12617</td>\n",
       "    </tr>\n",
       "    <tr>\n",
       "      <th>37440</th>\n",
       "      <td>3872.000000</td>\n",
       "      <td>3599</td>\n",
       "    </tr>\n",
       "    <tr>\n",
       "      <th>9324</th>\n",
       "      <td>5714.500000</td>\n",
       "      <td>5146</td>\n",
       "    </tr>\n",
       "  </tbody>\n",
       "</table>\n",
       "<p>8091 rows × 2 columns</p>\n",
       "</div>"
      ],
      "text/plain": [
       "             y_pred     gt\n",
       "9515    5593.000000   4469\n",
       "32631   5601.000000   3105\n",
       "28035  10211.000000   8972\n",
       "5667    1961.500000   2441\n",
       "12686   2424.333333   2272\n",
       "...             ...    ...\n",
       "14942  14308.000000  18477\n",
       "15472    640.000000    530\n",
       "40349  14557.750000  12617\n",
       "37440   3872.000000   3599\n",
       "9324    5714.500000   5146\n",
       "\n",
       "[8091 rows x 2 columns]"
      ]
     },
     "execution_count": 380,
     "metadata": {},
     "output_type": "execute_result"
    }
   ],
   "source": [
    "result = pd.DataFrame({\n",
    "    \"y_pred\":y_pred,\n",
    "    \"gt\":y_test\n",
    "})\n",
    "result"
   ]
  },
  {
   "cell_type": "code",
   "execution_count": 403,
   "metadata": {},
   "outputs": [],
   "source": [
    "X = clean_1.copy()\n",
    "X.drop('price', axis=1, inplace = True)\n",
    "y = clean_1['price']\n",
    "\n",
    "for name, model in models3.items():\n",
    "    print(f\"Entrenando {name}\")\n",
    "    model.fit(X_train, y_train)\n",
    "    print(\"He acabado :) \")\n",
    "    \n",
    "vale = []\n",
    "from sklearn.metrics import mean_squared_error\n",
    "for name, model in models3.items():\n",
    "    y_pred = model.predict(X_test)\n",
    "    print(f\"-------{name}-------\")\n",
    "    print (mean_squared_error(y_test, y_pred))\n",
    "    vale.append(mean_squared_error(y_test, y_pred))\n",
    "print(min(vale))"
   ]
  },
  {
   "cell_type": "code",
   "execution_count": 24,
   "metadata": {},
   "outputs": [
    {
     "name": "stdout",
     "output_type": "stream",
     "text": [
      "Entrenando DecisionTreeRegressor\n",
      "He acabado :) \n",
      "Entrenando GradientBoostingRegressor\n",
      "He acabado :) \n",
      "Entrenando KNeighborsRegressor\n",
      "He acabado :) \n",
      "Entrenando LinearSVR\n",
      "He acabado :) \n",
      "Entrenando OrthogonalMatchingPursuit\n",
      "He acabado :) \n",
      "Entrenando LinearRegression\n",
      "He acabado :) \n",
      "Entrenando RandomForestRegressor\n",
      "He acabado :) \n",
      "Entrenando ARDRegression\n",
      "He acabado :) \n",
      "Entrenando Lasso\n",
      "He acabado :) \n",
      "Entrenando PassiveAggressiveRegressor\n",
      "He acabado :) \n",
      "-------DecisionTreeRegressor-------\n",
      "448137.5961656199\n",
      "-------GradientBoostingRegressor-------\n",
      "493397.1685295073\n",
      "-------KNeighborsRegressor-------\n",
      "524477.9390631566\n",
      "-------LinearSVR-------\n",
      "4177349.813158208\n",
      "-------OrthogonalMatchingPursuit-------\n",
      "2456674.2054031286\n",
      "-------LinearRegression-------\n",
      "2023035.658359195\n",
      "-------RandomForestRegressor-------\n",
      "362671.08995521604\n",
      "-------ARDRegression-------\n",
      "2023031.9480256536\n",
      "-------Lasso-------\n",
      "2023023.835708668\n",
      "-------PassiveAggressiveRegressor-------\n",
      "2290258.6905451627\n",
      "362671.08995521604\n"
     ]
    }
   ],
   "source": [
    "#nada\n",
    "\n",
    "X = clean_1.copy()\n",
    "X.drop('price', axis=1, inplace = True)\n",
    "y = clean_1['price']\n",
    "X_train, X_test, y_train, y_test = train_test_split(X,y,test_size = 0.2)\n",
    "\n",
    "for name, model in models3.items():\n",
    "    print(f\"Entrenando {name}\")\n",
    "    model.fit(X_train, y_train)\n",
    "    print(\"He acabado :) \")\n",
    "vale = []\n",
    "from sklearn.metrics import mean_squared_error\n",
    "for name, model in models3.items():\n",
    "    y_pred = model.predict(X_test)\n",
    "    print(f\"-------{name}-------\")\n",
    "    print (mean_squared_error(y_test, y_pred))\n",
    "    vale.append(mean_squared_error(y_test, y_pred))\n",
    "print(min(vale))"
   ]
  },
  {
   "cell_type": "code",
   "execution_count": 25,
   "metadata": {},
   "outputs": [
    {
     "name": "stdout",
     "output_type": "stream",
     "text": [
      "Entrenando DecisionTreeRegressor\n",
      "He acabado :) \n",
      "Entrenando GradientBoostingRegressor\n",
      "He acabado :) \n",
      "Entrenando KNeighborsRegressor\n",
      "He acabado :) \n",
      "Entrenando LinearSVR\n",
      "He acabado :) \n",
      "Entrenando OrthogonalMatchingPursuit\n",
      "He acabado :) \n",
      "Entrenando LinearRegression\n",
      "He acabado :) \n",
      "Entrenando RandomForestRegressor\n",
      "He acabado :) \n",
      "Entrenando ARDRegression\n",
      "He acabado :) \n",
      "Entrenando Lasso\n",
      "He acabado :) \n",
      "Entrenando PassiveAggressiveRegressor\n",
      "He acabado :) \n",
      "-------DecisionTreeRegressor-------\n",
      "469801.8215508621\n",
      "-------GradientBoostingRegressor-------\n",
      "466064.1857373152\n",
      "-------KNeighborsRegressor-------\n",
      "549452.1677172167\n",
      "-------LinearSVR-------\n",
      "4098183.218555024\n",
      "-------OrthogonalMatchingPursuit-------\n",
      "2409996.1547129946\n",
      "-------LinearRegression-------\n",
      "1972950.4075065863\n",
      "-------RandomForestRegressor-------\n",
      "367639.0977714682\n",
      "-------ARDRegression-------\n",
      "1972910.0775184967\n",
      "-------Lasso-------\n",
      "1972955.2336319855\n",
      "-------PassiveAggressiveRegressor-------\n",
      "2212450.6454062853\n",
      "367639.0977714682\n"
     ]
    }
   ],
   "source": [
    "#normal\n",
    "X = clean_1.copy()\n",
    "X.drop('price', axis=1, inplace = True)\n",
    "y = clean_1['price']\n",
    "Normalizer(X)\n",
    "X_train, X_test, y_train, y_test = train_test_split(X,y,test_size = 0.2)\n",
    "for name, model in models3.items():\n",
    "    print(f\"Entrenando {name}\")\n",
    "    model.fit(X_train, y_train)\n",
    "    print(\"He acabado :) \")\n",
    "    \n",
    "vale = []\n",
    "from sklearn.metrics import mean_squared_error\n",
    "for name, model in models3.items():\n",
    "    y_pred = model.predict(X_test)\n",
    "    print(f\"-------{name}-------\")\n",
    "    print (mean_squared_error(y_test, y_pred))\n",
    "    vale.append(mean_squared_error(y_test, y_pred))\n",
    "print(min(vale))"
   ]
  },
  {
   "cell_type": "code",
   "execution_count": 26,
   "metadata": {},
   "outputs": [
    {
     "name": "stdout",
     "output_type": "stream",
     "text": [
      "Entrenando DecisionTreeRegressor\n",
      "He acabado :) \n",
      "Entrenando GradientBoostingRegressor\n",
      "He acabado :) \n",
      "Entrenando KNeighborsRegressor\n",
      "He acabado :) \n",
      "Entrenando LinearSVR\n",
      "He acabado :) \n",
      "Entrenando OrthogonalMatchingPursuit\n",
      "He acabado :) \n",
      "Entrenando LinearRegression\n",
      "He acabado :) \n",
      "Entrenando RandomForestRegressor\n",
      "He acabado :) \n",
      "Entrenando ARDRegression\n",
      "He acabado :) \n",
      "Entrenando Lasso\n",
      "He acabado :) \n",
      "Entrenando PassiveAggressiveRegressor\n",
      "He acabado :) \n",
      "-------DecisionTreeRegressor-------\n",
      "506170.43019538047\n",
      "-------GradientBoostingRegressor-------\n",
      "500125.33763314376\n",
      "-------KNeighborsRegressor-------\n",
      "526147.2624298603\n",
      "-------LinearSVR-------\n",
      "4259736.04242397\n",
      "-------OrthogonalMatchingPursuit-------\n",
      "2599175.7263752907\n",
      "-------LinearRegression-------\n",
      "2112474.549058864\n",
      "-------RandomForestRegressor-------\n",
      "379683.2505515915\n",
      "-------ARDRegression-------\n",
      "2112518.958767235\n",
      "-------Lasso-------\n",
      "2112461.1729883673\n",
      "-------PassiveAggressiveRegressor-------\n",
      "2358168.5932281213\n",
      "379683.2505515915\n"
     ]
    }
   ],
   "source": [
    "#standar\n",
    "\n",
    "X = clean_1.copy()\n",
    "X.drop('price', axis=1, inplace = True)\n",
    "y = clean_1['price']\n",
    "\n",
    "StandardScaler(X)\n",
    "\n",
    "X_train, X_test, y_train, y_test = train_test_split(X,y,test_size = 0.2)\n",
    "for name, model in models3.items():\n",
    "\n",
    "    print(f\"Entrenando {name}\")\n",
    "    model.fit(X_train, y_train)\n",
    "    print(\"He acabado :) \")\n",
    "\n",
    "    \n",
    "vale = []\n",
    "from sklearn.metrics import mean_squared_error\n",
    "for name, model in models3.items():\n",
    "    y_pred = model.predict(X_test)\n",
    "    print(f\"-------{name}-------\")\n",
    "    print (mean_squared_error(y_test, y_pred))\n",
    "    vale.append(mean_squared_error(y_test, y_pred))\n",
    "print(min(vale))"
   ]
  },
  {
   "cell_type": "code",
   "execution_count": 27,
   "metadata": {},
   "outputs": [
    {
     "name": "stdout",
     "output_type": "stream",
     "text": [
      "Entrenando DecisionTreeRegressor\n",
      "He acabado :) \n",
      "Entrenando GradientBoostingRegressor\n",
      "He acabado :) \n",
      "Entrenando KNeighborsRegressor\n",
      "He acabado :) \n",
      "Entrenando LinearSVR\n",
      "He acabado :) \n",
      "Entrenando OrthogonalMatchingPursuit\n",
      "He acabado :) \n",
      "Entrenando LinearRegression\n",
      "He acabado :) \n",
      "Entrenando RandomForestRegressor\n",
      "He acabado :) \n",
      "Entrenando ARDRegression\n",
      "He acabado :) \n",
      "Entrenando Lasso\n",
      "He acabado :) \n",
      "Entrenando PassiveAggressiveRegressor\n",
      "He acabado :) \n",
      "-------DecisionTreeRegressor-------\n",
      "445822.3953237337\n",
      "-------GradientBoostingRegressor-------\n",
      "439211.76631805376\n",
      "-------KNeighborsRegressor-------\n",
      "549580.3771894698\n",
      "-------LinearSVR-------\n",
      "4015604.704369271\n",
      "-------OrthogonalMatchingPursuit-------\n",
      "2436120.920730947\n",
      "-------LinearRegression-------\n",
      "1973044.3345233132\n",
      "-------RandomForestRegressor-------\n",
      "348773.6752306472\n",
      "-------ARDRegression-------\n",
      "1973044.3632008012\n",
      "-------Lasso-------\n",
      "1973019.0857298954\n",
      "-------PassiveAggressiveRegressor-------\n",
      "2210075.8176911934\n",
      "348773.6752306472\n"
     ]
    }
   ],
   "source": [
    "#normal standar\n",
    "\n",
    "\n",
    "X = clean_1.copy()\n",
    "X.drop('price', axis=1, inplace = True)\n",
    "y = clean_1['price']\n",
    "Normalizer(X)\n",
    "StandardScaler(X)\n",
    "\n",
    "X_train, X_test, y_train, y_test = train_test_split(X,y,test_size = 0.2)\n",
    "for name, model in models3.items():\n",
    "   \n",
    "    print(f\"Entrenando {name}\")\n",
    "    model.fit(X_train, y_train)\n",
    "    print(\"He acabado :) \")\n",
    "\n",
    "    \n",
    "vale = []\n",
    "from sklearn.metrics import mean_squared_error\n",
    "for name, model in models3.items():\n",
    "    y_pred = model.predict(X_test)\n",
    "    print(f\"-------{name}-------\")\n",
    "    print (mean_squared_error(y_test, y_pred))\n",
    "    vale.append(mean_squared_error(y_test, y_pred))\n",
    "print(min(vale))"
   ]
  },
  {
   "cell_type": "code",
   "execution_count": 34,
   "metadata": {},
   "outputs": [],
   "source": [
    "X = clean_1.copy()\n",
    "X.drop('price', axis=1, inplace = True)\n",
    "y = clean_1['price']\n",
    "Normalizer(X)\n",
    "StandardScaler(X)\n",
    "X_train, X_test, y_train, y_test = train_test_split(X,y,test_size = 0.2)\n"
   ]
  },
  {
   "cell_type": "code",
   "execution_count": 36,
   "metadata": {},
   "outputs": [
    {
     "name": "stdout",
     "output_type": "stream",
     "text": [
      "DecisionTreeRegressor mean-450714.23777769215\n",
      "GradientBoostingRegressor mean-465954.5921013841\n",
      "KNeighborsRegressor mean-534528.8605120395\n",
      "LinearSVR mean-3919669.4766498953\n",
      "OrthogonalMatchingPursuit mean-2419798.8184122997\n",
      "LinearRegression mean-1962477.287240189\n",
      "RandomForestRegressor mean-359820.6651274275\n",
      "ARDRegression mean-1962478.3935233317\n",
      "Lasso mean-1962477.3320720072\n",
      "PassiveAggressiveRegressor mean-2248057.834942655\n",
      "max -359820.6651274275\n"
     ]
    }
   ],
   "source": [
    "values = []\n",
    "\n",
    "for name, model in models3.items():\n",
    "    scores = cross_val_score(model,X,y, cv=10, scoring='neg_mean_squared_error')\n",
    "\n",
    "    print(f\"{name} mean{np.mean(scores)}\")\n",
    "    values.append(np.mean(scores))\n",
    "print('max',max(values))\n"
   ]
  },
  {
   "cell_type": "code",
   "execution_count": 96,
   "metadata": {},
   "outputs": [
    {
     "name": "stdout",
     "output_type": "stream",
     "text": [
      "367617.9192321873\n",
      "0.9767850554703726\n"
     ]
    }
   ],
   "source": [
    "X = clean_1.copy()\n",
    "X.drop('price', axis=1, inplace = True)\n",
    "y = clean_1['price']\n",
    "Normalizer(X)\n",
    "StandardScaler(X)\n",
    "X_train, X_test, y_train, y_test = train_test_split(X,y,test_size = 0.2)\n",
    "model = RandomForestRegressor()\n",
    "model.fit(X_train,y_train)\n",
    "y_pred = model.predict(X_test)\n",
    "print (mean_squared_error(y_test, y_pred))\n",
    "\n",
    "print(r2_score(y_test,y_pred))"
   ]
  },
  {
   "cell_type": "code",
   "execution_count": 111,
   "metadata": {},
   "outputs": [
    {
     "name": "stdout",
     "output_type": "stream",
     "text": [
      "139490.38108254946\n",
      "0.991202759364524\n"
     ]
    }
   ],
   "source": [
    "from sklearn.metrics import r2_score\n",
    "X = clean_1.copy()\n",
    "X.drop('price', axis=1, inplace = True)\n",
    "y = clean_1['price']\n",
    "Normalizer(X)\n",
    "StandardScaler(X)\n",
    "X_train, X_test, y_train, y_test = train_test_split(X,y,test_size = 0.2)\n",
    "model = RandomForestRegressor()\n",
    "model.fit(X_train,y_train)\n",
    "y_pred = model.predict(X_train)\n",
    "print (mean_squared_error(y_train, y_pred))\n",
    "\n",
    "print(r2_score(y_train,y_pred))"
   ]
  },
  {
   "cell_type": "code",
   "execution_count": 58,
   "metadata": {},
   "outputs": [
    {
     "data": {
      "text/html": [
       "<div>\n",
       "<style scoped>\n",
       "    .dataframe tbody tr th:only-of-type {\n",
       "        vertical-align: middle;\n",
       "    }\n",
       "\n",
       "    .dataframe tbody tr th {\n",
       "        vertical-align: top;\n",
       "    }\n",
       "\n",
       "    .dataframe thead th {\n",
       "        text-align: right;\n",
       "    }\n",
       "</style>\n",
       "<table border=\"1\" class=\"dataframe\">\n",
       "  <thead>\n",
       "    <tr style=\"text-align: right;\">\n",
       "      <th></th>\n",
       "      <th>y_pred</th>\n",
       "      <th>gt</th>\n",
       "    </tr>\n",
       "  </thead>\n",
       "  <tbody>\n",
       "    <tr>\n",
       "      <th>5997</th>\n",
       "      <td>3209.666561</td>\n",
       "      <td>3352</td>\n",
       "    </tr>\n",
       "  </tbody>\n",
       "</table>\n",
       "</div>"
      ],
      "text/plain": [
       "           y_pred    gt\n",
       "5997  3209.666561  3352"
      ]
     },
     "execution_count": 58,
     "metadata": {},
     "output_type": "execute_result"
    }
   ],
   "source": [
    "result = pd.DataFrame({\n",
    "    \"y_pred\":y_pred,\n",
    "    \"gt\":y_test\n",
    "})\n",
    "result"
   ]
  },
  {
   "cell_type": "code",
   "execution_count": 59,
   "metadata": {},
   "outputs": [
    {
     "name": "stdout",
     "output_type": "stream",
     "text": [
      "PassiveAggressiveRegressor mean-360134.144008451\n"
     ]
    }
   ],
   "source": [
    "scores = cross_val_score(model,X,y, cv=10, scoring='neg_mean_squared_error')\n",
    "print(f\"{name} mean{np.mean(scores)}\")"
   ]
  },
  {
   "cell_type": "code",
   "execution_count": 60,
   "metadata": {},
   "outputs": [
    {
     "data": {
      "text/html": [
       "<div>\n",
       "<style scoped>\n",
       "    .dataframe tbody tr th:only-of-type {\n",
       "        vertical-align: middle;\n",
       "    }\n",
       "\n",
       "    .dataframe tbody tr th {\n",
       "        vertical-align: top;\n",
       "    }\n",
       "\n",
       "    .dataframe thead th {\n",
       "        text-align: right;\n",
       "    }\n",
       "</style>\n",
       "<table border=\"1\" class=\"dataframe\">\n",
       "  <thead>\n",
       "    <tr style=\"text-align: right;\">\n",
       "      <th></th>\n",
       "      <th>y_pred</th>\n",
       "      <th>gt</th>\n",
       "    </tr>\n",
       "  </thead>\n",
       "  <tbody>\n",
       "    <tr>\n",
       "      <th>5997</th>\n",
       "      <td>3209.666561</td>\n",
       "      <td>3352</td>\n",
       "    </tr>\n",
       "  </tbody>\n",
       "</table>\n",
       "</div>"
      ],
      "text/plain": [
       "           y_pred    gt\n",
       "5997  3209.666561  3352"
      ]
     },
     "execution_count": 60,
     "metadata": {},
     "output_type": "execute_result"
    }
   ],
   "source": [
    "result = pd.DataFrame({\n",
    "    \"y_pred\":y_pred,\n",
    "    \"gt\":y_test\n",
    "})\n",
    "result"
   ]
  },
  {
   "cell_type": "code",
   "execution_count": 61,
   "metadata": {},
   "outputs": [],
   "source": [
    "y_pred = model.predict(X_test)"
   ]
  },
  {
   "cell_type": "code",
   "execution_count": 52,
   "metadata": {},
   "outputs": [],
   "source": [
    "from sklearn import preprocessing\n",
    "le = preprocessing.LabelEncoder()\n",
    "predict[\"cut_le\"] = le.fit_transform(predict[\"cut\"])\n",
    "predict[\"color_le\"] = le.fit_transform(predict[\"color\"])\n",
    "predict[\"clarity_le\"] = le.fit_transform(predict[\"clarity\"])"
   ]
  },
  {
   "cell_type": "code",
   "execution_count": null,
   "metadata": {},
   "outputs": [],
   "source": []
  },
  {
   "cell_type": "code",
   "execution_count": 53,
   "metadata": {},
   "outputs": [
    {
     "data": {
      "text/html": [
       "<div>\n",
       "<style scoped>\n",
       "    .dataframe tbody tr th:only-of-type {\n",
       "        vertical-align: middle;\n",
       "    }\n",
       "\n",
       "    .dataframe tbody tr th {\n",
       "        vertical-align: top;\n",
       "    }\n",
       "\n",
       "    .dataframe thead th {\n",
       "        text-align: right;\n",
       "    }\n",
       "</style>\n",
       "<table border=\"1\" class=\"dataframe\">\n",
       "  <thead>\n",
       "    <tr style=\"text-align: right;\">\n",
       "      <th></th>\n",
       "      <th>carat</th>\n",
       "      <th>cut_le</th>\n",
       "      <th>color_le</th>\n",
       "      <th>clarity_le</th>\n",
       "    </tr>\n",
       "  </thead>\n",
       "  <tbody>\n",
       "    <tr>\n",
       "      <th>0</th>\n",
       "      <td>1.12</td>\n",
       "      <td>3</td>\n",
       "      <td>4</td>\n",
       "      <td>2</td>\n",
       "    </tr>\n",
       "    <tr>\n",
       "      <th>1</th>\n",
       "      <td>1.14</td>\n",
       "      <td>4</td>\n",
       "      <td>1</td>\n",
       "      <td>3</td>\n",
       "    </tr>\n",
       "    <tr>\n",
       "      <th>2</th>\n",
       "      <td>0.90</td>\n",
       "      <td>4</td>\n",
       "      <td>0</td>\n",
       "      <td>3</td>\n",
       "    </tr>\n",
       "    <tr>\n",
       "      <th>3</th>\n",
       "      <td>0.71</td>\n",
       "      <td>2</td>\n",
       "      <td>1</td>\n",
       "      <td>4</td>\n",
       "    </tr>\n",
       "    <tr>\n",
       "      <th>4</th>\n",
       "      <td>0.34</td>\n",
       "      <td>4</td>\n",
       "      <td>2</td>\n",
       "      <td>3</td>\n",
       "    </tr>\n",
       "    <tr>\n",
       "      <th>...</th>\n",
       "      <td>...</td>\n",
       "      <td>...</td>\n",
       "      <td>...</td>\n",
       "      <td>...</td>\n",
       "    </tr>\n",
       "    <tr>\n",
       "      <th>40450</th>\n",
       "      <td>0.90</td>\n",
       "      <td>1</td>\n",
       "      <td>0</td>\n",
       "      <td>2</td>\n",
       "    </tr>\n",
       "    <tr>\n",
       "      <th>40451</th>\n",
       "      <td>0.35</td>\n",
       "      <td>2</td>\n",
       "      <td>0</td>\n",
       "      <td>6</td>\n",
       "    </tr>\n",
       "    <tr>\n",
       "      <th>40452</th>\n",
       "      <td>0.90</td>\n",
       "      <td>1</td>\n",
       "      <td>3</td>\n",
       "      <td>3</td>\n",
       "    </tr>\n",
       "    <tr>\n",
       "      <th>40453</th>\n",
       "      <td>1.21</td>\n",
       "      <td>1</td>\n",
       "      <td>4</td>\n",
       "      <td>2</td>\n",
       "    </tr>\n",
       "    <tr>\n",
       "      <th>40454</th>\n",
       "      <td>0.41</td>\n",
       "      <td>2</td>\n",
       "      <td>4</td>\n",
       "      <td>6</td>\n",
       "    </tr>\n",
       "  </tbody>\n",
       "</table>\n",
       "<p>40455 rows × 4 columns</p>\n",
       "</div>"
      ],
      "text/plain": [
       "       carat  cut_le  color_le  clarity_le\n",
       "0       1.12       3         4           2\n",
       "1       1.14       4         1           3\n",
       "2       0.90       4         0           3\n",
       "3       0.71       2         1           4\n",
       "4       0.34       4         2           3\n",
       "...      ...     ...       ...         ...\n",
       "40450   0.90       1         0           2\n",
       "40451   0.35       2         0           6\n",
       "40452   0.90       1         3           3\n",
       "40453   1.21       1         4           2\n",
       "40454   0.41       2         4           6\n",
       "\n",
       "[40455 rows x 4 columns]"
      ]
     },
     "execution_count": 53,
     "metadata": {},
     "output_type": "execute_result"
    }
   ],
   "source": [
    "X\n"
   ]
  },
  {
   "cell_type": "code",
   "execution_count": 55,
   "metadata": {},
   "outputs": [],
   "source": [
    "prd = predict[['carat','cut_le','color_le','clarity_le']]"
   ]
  },
  {
   "cell_type": "code",
   "execution_count": 56,
   "metadata": {},
   "outputs": [
    {
     "data": {
      "text/html": [
       "<div>\n",
       "<style scoped>\n",
       "    .dataframe tbody tr th:only-of-type {\n",
       "        vertical-align: middle;\n",
       "    }\n",
       "\n",
       "    .dataframe tbody tr th {\n",
       "        vertical-align: top;\n",
       "    }\n",
       "\n",
       "    .dataframe thead th {\n",
       "        text-align: right;\n",
       "    }\n",
       "</style>\n",
       "<table border=\"1\" class=\"dataframe\">\n",
       "  <thead>\n",
       "    <tr style=\"text-align: right;\">\n",
       "      <th></th>\n",
       "      <th>carat</th>\n",
       "      <th>cut_le</th>\n",
       "      <th>color_le</th>\n",
       "      <th>clarity_le</th>\n",
       "    </tr>\n",
       "  </thead>\n",
       "  <tbody>\n",
       "    <tr>\n",
       "      <th>0</th>\n",
       "      <td>0.33</td>\n",
       "      <td>4</td>\n",
       "      <td>5</td>\n",
       "      <td>1</td>\n",
       "    </tr>\n",
       "    <tr>\n",
       "      <th>1</th>\n",
       "      <td>1.21</td>\n",
       "      <td>4</td>\n",
       "      <td>0</td>\n",
       "      <td>3</td>\n",
       "    </tr>\n",
       "    <tr>\n",
       "      <th>2</th>\n",
       "      <td>1.06</td>\n",
       "      <td>4</td>\n",
       "      <td>0</td>\n",
       "      <td>2</td>\n",
       "    </tr>\n",
       "    <tr>\n",
       "      <th>3</th>\n",
       "      <td>0.36</td>\n",
       "      <td>2</td>\n",
       "      <td>1</td>\n",
       "      <td>6</td>\n",
       "    </tr>\n",
       "    <tr>\n",
       "      <th>4</th>\n",
       "      <td>0.70</td>\n",
       "      <td>2</td>\n",
       "      <td>1</td>\n",
       "      <td>4</td>\n",
       "    </tr>\n",
       "    <tr>\n",
       "      <th>...</th>\n",
       "      <td>...</td>\n",
       "      <td>...</td>\n",
       "      <td>...</td>\n",
       "      <td>...</td>\n",
       "    </tr>\n",
       "    <tr>\n",
       "      <th>13480</th>\n",
       "      <td>2.04</td>\n",
       "      <td>1</td>\n",
       "      <td>0</td>\n",
       "      <td>2</td>\n",
       "    </tr>\n",
       "    <tr>\n",
       "      <th>13481</th>\n",
       "      <td>0.31</td>\n",
       "      <td>2</td>\n",
       "      <td>3</td>\n",
       "      <td>1</td>\n",
       "    </tr>\n",
       "    <tr>\n",
       "      <th>13482</th>\n",
       "      <td>0.52</td>\n",
       "      <td>2</td>\n",
       "      <td>0</td>\n",
       "      <td>7</td>\n",
       "    </tr>\n",
       "    <tr>\n",
       "      <th>13483</th>\n",
       "      <td>0.50</td>\n",
       "      <td>3</td>\n",
       "      <td>2</td>\n",
       "      <td>2</td>\n",
       "    </tr>\n",
       "    <tr>\n",
       "      <th>13484</th>\n",
       "      <td>0.53</td>\n",
       "      <td>4</td>\n",
       "      <td>3</td>\n",
       "      <td>3</td>\n",
       "    </tr>\n",
       "  </tbody>\n",
       "</table>\n",
       "<p>13485 rows × 4 columns</p>\n",
       "</div>"
      ],
      "text/plain": [
       "       carat  cut_le  color_le  clarity_le\n",
       "0       0.33       4         5           1\n",
       "1       1.21       4         0           3\n",
       "2       1.06       4         0           2\n",
       "3       0.36       2         1           6\n",
       "4       0.70       2         1           4\n",
       "...      ...     ...       ...         ...\n",
       "13480   2.04       1         0           2\n",
       "13481   0.31       2         3           1\n",
       "13482   0.52       2         0           7\n",
       "13483   0.50       3         2           2\n",
       "13484   0.53       4         3           3\n",
       "\n",
       "[13485 rows x 4 columns]"
      ]
     },
     "execution_count": 56,
     "metadata": {},
     "output_type": "execute_result"
    }
   ],
   "source": [
    "prd"
   ]
  },
  {
   "cell_type": "code",
   "execution_count": 114,
   "metadata": {},
   "outputs": [],
   "source": [
    "y_pred = model.predict(prd)"
   ]
  },
  {
   "cell_type": "code",
   "execution_count": 65,
   "metadata": {},
   "outputs": [
    {
     "data": {
      "text/plain": [
       "13485"
      ]
     },
     "execution_count": 65,
     "metadata": {},
     "output_type": "execute_result"
    }
   ],
   "source": [
    "len(y_pred)"
   ]
  },
  {
   "cell_type": "code",
   "execution_count": 64,
   "metadata": {},
   "outputs": [
    {
     "data": {
      "text/html": [
       "<div>\n",
       "<style scoped>\n",
       "    .dataframe tbody tr th:only-of-type {\n",
       "        vertical-align: middle;\n",
       "    }\n",
       "\n",
       "    .dataframe tbody tr th {\n",
       "        vertical-align: top;\n",
       "    }\n",
       "\n",
       "    .dataframe thead th {\n",
       "        text-align: right;\n",
       "    }\n",
       "</style>\n",
       "<table border=\"1\" class=\"dataframe\">\n",
       "  <thead>\n",
       "    <tr style=\"text-align: right;\">\n",
       "      <th></th>\n",
       "      <th>id</th>\n",
       "      <th>price</th>\n",
       "    </tr>\n",
       "  </thead>\n",
       "  <tbody>\n",
       "    <tr>\n",
       "      <th>0</th>\n",
       "      <td>0</td>\n",
       "      <td>2452</td>\n",
       "    </tr>\n",
       "    <tr>\n",
       "      <th>1</th>\n",
       "      <td>1</td>\n",
       "      <td>13670</td>\n",
       "    </tr>\n",
       "    <tr>\n",
       "      <th>2</th>\n",
       "      <td>2</td>\n",
       "      <td>4875</td>\n",
       "    </tr>\n",
       "    <tr>\n",
       "      <th>3</th>\n",
       "      <td>3</td>\n",
       "      <td>12188</td>\n",
       "    </tr>\n",
       "    <tr>\n",
       "      <th>4</th>\n",
       "      <td>4</td>\n",
       "      <td>9229</td>\n",
       "    </tr>\n",
       "    <tr>\n",
       "      <th>...</th>\n",
       "      <td>...</td>\n",
       "      <td>...</td>\n",
       "    </tr>\n",
       "    <tr>\n",
       "      <th>13480</th>\n",
       "      <td>13480</td>\n",
       "      <td>7299</td>\n",
       "    </tr>\n",
       "    <tr>\n",
       "      <th>13481</th>\n",
       "      <td>13481</td>\n",
       "      <td>2968</td>\n",
       "    </tr>\n",
       "    <tr>\n",
       "      <th>13482</th>\n",
       "      <td>13482</td>\n",
       "      <td>14628</td>\n",
       "    </tr>\n",
       "    <tr>\n",
       "      <th>13483</th>\n",
       "      <td>13483</td>\n",
       "      <td>1260</td>\n",
       "    </tr>\n",
       "    <tr>\n",
       "      <th>13484</th>\n",
       "      <td>13484</td>\n",
       "      <td>15628</td>\n",
       "    </tr>\n",
       "  </tbody>\n",
       "</table>\n",
       "<p>13485 rows × 2 columns</p>\n",
       "</div>"
      ],
      "text/plain": [
       "          id  price\n",
       "0          0   2452\n",
       "1          1  13670\n",
       "2          2   4875\n",
       "3          3  12188\n",
       "4          4   9229\n",
       "...      ...    ...\n",
       "13480  13480   7299\n",
       "13481  13481   2968\n",
       "13482  13482  14628\n",
       "13483  13483   1260\n",
       "13484  13484  15628\n",
       "\n",
       "[13485 rows x 2 columns]"
      ]
     },
     "execution_count": 64,
     "metadata": {},
     "output_type": "execute_result"
    }
   ],
   "source": [
    "sample_submission"
   ]
  },
  {
   "cell_type": "code",
   "execution_count": 79,
   "metadata": {},
   "outputs": [],
   "source": [
    "result = pd.DataFrame({\n",
    "    \"price\":y_pred,\n",
    "})\n",
    "result.reset_index(inplace=True)"
   ]
  },
  {
   "cell_type": "code",
   "execution_count": 81,
   "metadata": {},
   "outputs": [],
   "source": [
    "result.rename(columns={'index': 'id'}, inplace=True)"
   ]
  },
  {
   "cell_type": "code",
   "execution_count": 83,
   "metadata": {},
   "outputs": [
    {
     "data": {
      "text/html": [
       "<div>\n",
       "<style scoped>\n",
       "    .dataframe tbody tr th:only-of-type {\n",
       "        vertical-align: middle;\n",
       "    }\n",
       "\n",
       "    .dataframe tbody tr th {\n",
       "        vertical-align: top;\n",
       "    }\n",
       "\n",
       "    .dataframe thead th {\n",
       "        text-align: right;\n",
       "    }\n",
       "</style>\n",
       "<table border=\"1\" class=\"dataframe\">\n",
       "  <thead>\n",
       "    <tr style=\"text-align: right;\">\n",
       "      <th></th>\n",
       "      <th>id</th>\n",
       "      <th>price</th>\n",
       "    </tr>\n",
       "  </thead>\n",
       "  <tbody>\n",
       "    <tr>\n",
       "      <th>0</th>\n",
       "      <td>0</td>\n",
       "      <td>728.820119</td>\n",
       "    </tr>\n",
       "    <tr>\n",
       "      <th>1</th>\n",
       "      <td>1</td>\n",
       "      <td>6062.763917</td>\n",
       "    </tr>\n",
       "    <tr>\n",
       "      <th>2</th>\n",
       "      <td>2</td>\n",
       "      <td>5802.348500</td>\n",
       "    </tr>\n",
       "    <tr>\n",
       "      <th>3</th>\n",
       "      <td>3</td>\n",
       "      <td>1076.799285</td>\n",
       "    </tr>\n",
       "    <tr>\n",
       "      <th>4</th>\n",
       "      <td>4</td>\n",
       "      <td>3258.583884</td>\n",
       "    </tr>\n",
       "    <tr>\n",
       "      <th>...</th>\n",
       "      <td>...</td>\n",
       "      <td>...</td>\n",
       "    </tr>\n",
       "    <tr>\n",
       "      <th>13480</th>\n",
       "      <td>13480</td>\n",
       "      <td>16306.297056</td>\n",
       "    </tr>\n",
       "    <tr>\n",
       "      <th>13481</th>\n",
       "      <td>13481</td>\n",
       "      <td>892.857069</td>\n",
       "    </tr>\n",
       "    <tr>\n",
       "      <th>13482</th>\n",
       "      <td>13482</td>\n",
       "      <td>2497.639140</td>\n",
       "    </tr>\n",
       "    <tr>\n",
       "      <th>13483</th>\n",
       "      <td>13483</td>\n",
       "      <td>1318.501978</td>\n",
       "    </tr>\n",
       "    <tr>\n",
       "      <th>13484</th>\n",
       "      <td>13484</td>\n",
       "      <td>1062.586632</td>\n",
       "    </tr>\n",
       "  </tbody>\n",
       "</table>\n",
       "<p>13485 rows × 2 columns</p>\n",
       "</div>"
      ],
      "text/plain": [
       "          id         price\n",
       "0          0    728.820119\n",
       "1          1   6062.763917\n",
       "2          2   5802.348500\n",
       "3          3   1076.799285\n",
       "4          4   3258.583884\n",
       "...      ...           ...\n",
       "13480  13480  16306.297056\n",
       "13481  13481    892.857069\n",
       "13482  13482   2497.639140\n",
       "13483  13483   1318.501978\n",
       "13484  13484   1062.586632\n",
       "\n",
       "[13485 rows x 2 columns]"
      ]
     },
     "execution_count": 83,
     "metadata": {},
     "output_type": "execute_result"
    }
   ],
   "source": [
    "result"
   ]
  },
  {
   "cell_type": "code",
   "execution_count": 88,
   "metadata": {},
   "outputs": [],
   "source": [
    "result.to_csv('result_1.csv', index = False)\n"
   ]
  },
  {
   "cell_type": "code",
   "execution_count": 103,
   "metadata": {},
   "outputs": [],
   "source": [
    "from sklearn.ensemble import GradientBoostingRegressor"
   ]
  },
  {
   "cell_type": "code",
   "execution_count": 104,
   "metadata": {},
   "outputs": [],
   "source": [
    "X = clean_1.copy()\n",
    "X.drop('price', axis=1, inplace = True)\n",
    "y = clean_1['price']\n",
    "Normalizer(X)\n",
    "StandardScaler(X)\n",
    "X_train, X_test, y_train, y_test = train_test_split(X,y,test_size = 0.2)\n"
   ]
  },
  {
   "cell_type": "code",
   "execution_count": 105,
   "metadata": {},
   "outputs": [
    {
     "data": {
      "text/plain": [
       "GradientBoostingRegressor(random_state=0)"
      ]
     },
     "execution_count": 105,
     "metadata": {},
     "output_type": "execute_result"
    }
   ],
   "source": []
  },
  {
   "cell_type": "code",
   "execution_count": 106,
   "metadata": {},
   "outputs": [
    {
     "name": "stdout",
     "output_type": "stream",
     "text": [
      "438033.4532423264\n",
      "0.9725488518641902\n"
     ]
    }
   ],
   "source": [
    "from sklearn.metrics import r2_score\n",
    "X = clean_1.copy()\n",
    "X.drop('price', axis=1, inplace = True)\n",
    "y = clean_1['price']\n",
    "Normalizer(X)\n",
    "StandardScaler(X)\n",
    "X_train, X_test, y_train, y_test = train_test_split(X,y,test_size = 0.2)\n",
    "model = GradientBoostingRegressor(random_state=0)\n",
    "model.fit(X_train,y_train)\n",
    "y_pred = model.predict(X_train)\n",
    "print (mean_squared_error(y_train, y_pred))\n",
    "\n",
    "print(r2_score(y_train,y_pred))"
   ]
  },
  {
   "cell_type": "code",
   "execution_count": null,
   "metadata": {},
   "outputs": [],
   "source": []
  }
 ],
 "metadata": {
  "kernelspec": {
   "display_name": "Python 3",
   "language": "python",
   "name": "python3"
  },
  "language_info": {
   "codemirror_mode": {
    "name": "ipython",
    "version": 3
   },
   "file_extension": ".py",
   "mimetype": "text/x-python",
   "name": "python",
   "nbconvert_exporter": "python",
   "pygments_lexer": "ipython3",
   "version": "3.8.5"
  }
 },
 "nbformat": 4,
 "nbformat_minor": 4
}

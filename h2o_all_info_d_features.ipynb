{
 "cells": [
  {
   "cell_type": "code",
   "execution_count": 1,
   "metadata": {},
   "outputs": [
    {
     "name": "stdout",
     "output_type": "stream",
     "text": [
      "Checking whether there is an H2O instance running at http://localhost:54321 ..... not found.\n",
      "Attempting to start a local H2O server...\n",
      "  Java Version: java version \"11.0.8\" 2020-07-14 LTS; Java(TM) SE Runtime Environment 18.9 (build 11.0.8+10-LTS); Java HotSpot(TM) 64-Bit Server VM 18.9 (build 11.0.8+10-LTS, mixed mode)\n",
      "  Starting server from /usr/local/lib/python3.8/site-packages/h2o/backend/bin/h2o.jar\n",
      "  Ice root: /var/folders/95/21q0whwx4jn3944flf44yqmw0000gn/T/tmp8ekuop_y\n",
      "  JVM stdout: /var/folders/95/21q0whwx4jn3944flf44yqmw0000gn/T/tmp8ekuop_y/h2o_kevin_started_from_python.out\n",
      "  JVM stderr: /var/folders/95/21q0whwx4jn3944flf44yqmw0000gn/T/tmp8ekuop_y/h2o_kevin_started_from_python.err\n",
      "  Server is running at http://127.0.0.1:54321\n",
      "Connecting to H2O server at http://127.0.0.1:54321 ... successful.\n"
     ]
    },
    {
     "data": {
      "text/html": [
       "<div style=\"overflow:auto\"><table style=\"width:50%\"><tr><td>H2O_cluster_uptime:</td>\n",
       "<td>03 secs</td></tr>\n",
       "<tr><td>H2O_cluster_timezone:</td>\n",
       "<td>Europe/Madrid</td></tr>\n",
       "<tr><td>H2O_data_parsing_timezone:</td>\n",
       "<td>UTC</td></tr>\n",
       "<tr><td>H2O_cluster_version:</td>\n",
       "<td>3.30.1.3</td></tr>\n",
       "<tr><td>H2O_cluster_version_age:</td>\n",
       "<td>7 days, 14 hours and 42 minutes </td></tr>\n",
       "<tr><td>H2O_cluster_name:</td>\n",
       "<td>H2O_from_python_kevin_i0eum6</td></tr>\n",
       "<tr><td>H2O_cluster_total_nodes:</td>\n",
       "<td>1</td></tr>\n",
       "<tr><td>H2O_cluster_free_memory:</td>\n",
       "<td>2 Gb</td></tr>\n",
       "<tr><td>H2O_cluster_total_cores:</td>\n",
       "<td>4</td></tr>\n",
       "<tr><td>H2O_cluster_allowed_cores:</td>\n",
       "<td>4</td></tr>\n",
       "<tr><td>H2O_cluster_status:</td>\n",
       "<td>accepting new members, healthy</td></tr>\n",
       "<tr><td>H2O_connection_url:</td>\n",
       "<td>http://127.0.0.1:54321</td></tr>\n",
       "<tr><td>H2O_connection_proxy:</td>\n",
       "<td>{\"http\": null, \"https\": null}</td></tr>\n",
       "<tr><td>H2O_internal_security:</td>\n",
       "<td>False</td></tr>\n",
       "<tr><td>H2O_API_Extensions:</td>\n",
       "<td>Amazon S3, XGBoost, Algos, AutoML, Core V3, TargetEncoder, Core V4</td></tr>\n",
       "<tr><td>Python_version:</td>\n",
       "<td>3.8.5 final</td></tr></table></div>"
      ],
      "text/plain": [
       "--------------------------  ------------------------------------------------------------------\n",
       "H2O_cluster_uptime:         03 secs\n",
       "H2O_cluster_timezone:       Europe/Madrid\n",
       "H2O_data_parsing_timezone:  UTC\n",
       "H2O_cluster_version:        3.30.1.3\n",
       "H2O_cluster_version_age:    7 days, 14 hours and 42 minutes\n",
       "H2O_cluster_name:           H2O_from_python_kevin_i0eum6\n",
       "H2O_cluster_total_nodes:    1\n",
       "H2O_cluster_free_memory:    2 Gb\n",
       "H2O_cluster_total_cores:    4\n",
       "H2O_cluster_allowed_cores:  4\n",
       "H2O_cluster_status:         accepting new members, healthy\n",
       "H2O_connection_url:         http://127.0.0.1:54321\n",
       "H2O_connection_proxy:       {\"http\": null, \"https\": null}\n",
       "H2O_internal_security:      False\n",
       "H2O_API_Extensions:         Amazon S3, XGBoost, Algos, AutoML, Core V3, TargetEncoder, Core V4\n",
       "Python_version:             3.8.5 final\n",
       "--------------------------  ------------------------------------------------------------------"
      ]
     },
     "metadata": {},
     "output_type": "display_data"
    }
   ],
   "source": [
    "import pandas as pd\n",
    "import h2o\n",
    "from h2o.automl import H2OAutoML\n",
    "h2o.init()"
   ]
  },
  {
   "cell_type": "code",
   "execution_count": 2,
   "metadata": {},
   "outputs": [],
   "source": [
    "train = pd.read_csv('input/train.csv', index_col=0)\n",
    "pred = pd.read_csv('input/predict.csv', index_col=0)"
   ]
  },
  {
   "cell_type": "code",
   "execution_count": 3,
   "metadata": {},
   "outputs": [
    {
     "data": {
      "text/html": [
       "<div>\n",
       "<style scoped>\n",
       "    .dataframe tbody tr th:only-of-type {\n",
       "        vertical-align: middle;\n",
       "    }\n",
       "\n",
       "    .dataframe tbody tr th {\n",
       "        vertical-align: top;\n",
       "    }\n",
       "\n",
       "    .dataframe thead th {\n",
       "        text-align: right;\n",
       "    }\n",
       "</style>\n",
       "<table border=\"1\" class=\"dataframe\">\n",
       "  <thead>\n",
       "    <tr style=\"text-align: right;\">\n",
       "      <th></th>\n",
       "      <th>carat</th>\n",
       "      <th>cut</th>\n",
       "      <th>color</th>\n",
       "      <th>clarity</th>\n",
       "      <th>depth</th>\n",
       "      <th>table</th>\n",
       "      <th>x</th>\n",
       "      <th>y</th>\n",
       "      <th>z</th>\n",
       "      <th>price</th>\n",
       "    </tr>\n",
       "    <tr>\n",
       "      <th>id</th>\n",
       "      <th></th>\n",
       "      <th></th>\n",
       "      <th></th>\n",
       "      <th></th>\n",
       "      <th></th>\n",
       "      <th></th>\n",
       "      <th></th>\n",
       "      <th></th>\n",
       "      <th></th>\n",
       "      <th></th>\n",
       "    </tr>\n",
       "  </thead>\n",
       "  <tbody>\n",
       "    <tr>\n",
       "      <th>0</th>\n",
       "      <td>1.12</td>\n",
       "      <td>Premium</td>\n",
       "      <td>H</td>\n",
       "      <td>SI1</td>\n",
       "      <td>61.6</td>\n",
       "      <td>59.0</td>\n",
       "      <td>6.67</td>\n",
       "      <td>6.63</td>\n",
       "      <td>4.10</td>\n",
       "      <td>5363</td>\n",
       "    </tr>\n",
       "    <tr>\n",
       "      <th>1</th>\n",
       "      <td>1.14</td>\n",
       "      <td>Very Good</td>\n",
       "      <td>E</td>\n",
       "      <td>SI2</td>\n",
       "      <td>60.0</td>\n",
       "      <td>54.0</td>\n",
       "      <td>6.74</td>\n",
       "      <td>6.97</td>\n",
       "      <td>4.11</td>\n",
       "      <td>5593</td>\n",
       "    </tr>\n",
       "    <tr>\n",
       "      <th>2</th>\n",
       "      <td>0.90</td>\n",
       "      <td>Very Good</td>\n",
       "      <td>D</td>\n",
       "      <td>SI2</td>\n",
       "      <td>60.3</td>\n",
       "      <td>63.0</td>\n",
       "      <td>6.12</td>\n",
       "      <td>6.22</td>\n",
       "      <td>3.72</td>\n",
       "      <td>3534</td>\n",
       "    </tr>\n",
       "    <tr>\n",
       "      <th>3</th>\n",
       "      <td>0.71</td>\n",
       "      <td>Ideal</td>\n",
       "      <td>E</td>\n",
       "      <td>VS1</td>\n",
       "      <td>61.9</td>\n",
       "      <td>54.0</td>\n",
       "      <td>5.74</td>\n",
       "      <td>5.76</td>\n",
       "      <td>3.56</td>\n",
       "      <td>3212</td>\n",
       "    </tr>\n",
       "    <tr>\n",
       "      <th>4</th>\n",
       "      <td>0.34</td>\n",
       "      <td>Very Good</td>\n",
       "      <td>F</td>\n",
       "      <td>SI2</td>\n",
       "      <td>60.0</td>\n",
       "      <td>62.0</td>\n",
       "      <td>4.51</td>\n",
       "      <td>4.55</td>\n",
       "      <td>2.72</td>\n",
       "      <td>447</td>\n",
       "    </tr>\n",
       "  </tbody>\n",
       "</table>\n",
       "</div>"
      ],
      "text/plain": [
       "    carat        cut color clarity  depth  table     x     y     z  price\n",
       "id                                                                       \n",
       "0    1.12    Premium     H     SI1   61.6   59.0  6.67  6.63  4.10   5363\n",
       "1    1.14  Very Good     E     SI2   60.0   54.0  6.74  6.97  4.11   5593\n",
       "2    0.90  Very Good     D     SI2   60.3   63.0  6.12  6.22  3.72   3534\n",
       "3    0.71      Ideal     E     VS1   61.9   54.0  5.74  5.76  3.56   3212\n",
       "4    0.34  Very Good     F     SI2   60.0   62.0  4.51  4.55  2.72    447"
      ]
     },
     "execution_count": 3,
     "metadata": {},
     "output_type": "execute_result"
    }
   ],
   "source": [
    "train.head()"
   ]
  },
  {
   "cell_type": "code",
   "execution_count": 4,
   "metadata": {},
   "outputs": [],
   "source": [
    "train = train[['carat','cut','color','clarity','x','y','z','price']]"
   ]
  },
  {
   "cell_type": "code",
   "execution_count": 5,
   "metadata": {},
   "outputs": [
    {
     "name": "stdout",
     "output_type": "stream",
     "text": [
      "Parse progress: |█████████████████████████████████████████████████████████| 100%\n",
      "Parse progress: |█████████████████████████████████████████████████████████| 100%\n"
     ]
    }
   ],
   "source": [
    "h2train = h2o.H2OFrame(train)\n",
    "h2pred = h2o.H2OFrame(pred)"
   ]
  },
  {
   "cell_type": "code",
   "execution_count": 6,
   "metadata": {},
   "outputs": [],
   "source": [
    "x = list(train.drop(columns = 'price').columns)\n",
    "y = 'price'"
   ]
  },
  {
   "cell_type": "code",
   "execution_count": 7,
   "metadata": {},
   "outputs": [
    {
     "name": "stdout",
     "output_type": "stream",
     "text": [
      "AutoML progress: |████████████████████████████████████████████████████████| 100%\n"
     ]
    }
   ],
   "source": [
    "automl = H2OAutoML(max_models = 50, seed = 1, max_runtime_secs = 2400, sort_metric = 'RMSE')\n",
    "automl.train(x,y,training_frame=h2train)"
   ]
  },
  {
   "cell_type": "code",
   "execution_count": 8,
   "metadata": {},
   "outputs": [
    {
     "data": {
      "text/html": [
       "<table>\n",
       "<thead>\n",
       "<tr><th>model_id                                           </th><th style=\"text-align: right;\">   rmse</th><th style=\"text-align: right;\">  mean_residual_deviance</th><th style=\"text-align: right;\">   mse</th><th style=\"text-align: right;\">    mae</th><th style=\"text-align: right;\">      rmsle</th></tr>\n",
       "</thead>\n",
       "<tbody>\n",
       "<tr><td>StackedEnsemble_AllModels_AutoML_20201006_061151   </td><td style=\"text-align: right;\">532.887</td><td style=\"text-align: right;\">                  283968</td><td style=\"text-align: right;\">283968</td><td style=\"text-align: right;\">270.757</td><td style=\"text-align: right;\">  0.0961854</td></tr>\n",
       "<tr><td>StackedEnsemble_BestOfFamily_AutoML_20201006_061151</td><td style=\"text-align: right;\">533.491</td><td style=\"text-align: right;\">                  284613</td><td style=\"text-align: right;\">284613</td><td style=\"text-align: right;\">271.805</td><td style=\"text-align: right;\">  0.0966486</td></tr>\n",
       "<tr><td>GBM_grid__1_AutoML_20201006_061151_model_1         </td><td style=\"text-align: right;\">538.098</td><td style=\"text-align: right;\">                  289550</td><td style=\"text-align: right;\">289550</td><td style=\"text-align: right;\">278.218</td><td style=\"text-align: right;\">  0.101448 </td></tr>\n",
       "<tr><td>GBM_3_AutoML_20201006_061151                       </td><td style=\"text-align: right;\">543.868</td><td style=\"text-align: right;\">                  295792</td><td style=\"text-align: right;\">295792</td><td style=\"text-align: right;\">276.773</td><td style=\"text-align: right;\">  0.0993308</td></tr>\n",
       "<tr><td>GBM_4_AutoML_20201006_061151                       </td><td style=\"text-align: right;\">544.058</td><td style=\"text-align: right;\">                  295999</td><td style=\"text-align: right;\">295999</td><td style=\"text-align: right;\">274.527</td><td style=\"text-align: right;\">nan        </td></tr>\n",
       "<tr><td>GBM_2_AutoML_20201006_061151                       </td><td style=\"text-align: right;\">544.994</td><td style=\"text-align: right;\">                  297019</td><td style=\"text-align: right;\">297019</td><td style=\"text-align: right;\">279.613</td><td style=\"text-align: right;\">  0.102665 </td></tr>\n",
       "<tr><td>GBM_1_AutoML_20201006_061151                       </td><td style=\"text-align: right;\">546.187</td><td style=\"text-align: right;\">                  298320</td><td style=\"text-align: right;\">298320</td><td style=\"text-align: right;\">284.267</td><td style=\"text-align: right;\">  0.104568 </td></tr>\n",
       "<tr><td>GBM_5_AutoML_20201006_061151                       </td><td style=\"text-align: right;\">562.363</td><td style=\"text-align: right;\">                  316252</td><td style=\"text-align: right;\">316252</td><td style=\"text-align: right;\">278.721</td><td style=\"text-align: right;\">  0.100335 </td></tr>\n",
       "<tr><td>XGBoost_grid__1_AutoML_20201006_061151_model_1     </td><td style=\"text-align: right;\">563.047</td><td style=\"text-align: right;\">                  317022</td><td style=\"text-align: right;\">317022</td><td style=\"text-align: right;\">283.493</td><td style=\"text-align: right;\">  0.0967316</td></tr>\n",
       "<tr><td>XGBoost_grid__1_AutoML_20201006_061151_model_2     </td><td style=\"text-align: right;\">565.109</td><td style=\"text-align: right;\">                  319348</td><td style=\"text-align: right;\">319348</td><td style=\"text-align: right;\">283.889</td><td style=\"text-align: right;\">  0.0958918</td></tr>\n",
       "</tbody>\n",
       "</table>"
      ]
     },
     "metadata": {},
     "output_type": "display_data"
    },
    {
     "data": {
      "text/plain": []
     },
     "execution_count": 8,
     "metadata": {},
     "output_type": "execute_result"
    }
   ],
   "source": [
    "leader_board = automl.leaderboard\n",
    "leader_board.head()"
   ]
  },
  {
   "cell_type": "code",
   "execution_count": 9,
   "metadata": {},
   "outputs": [
    {
     "name": "stdout",
     "output_type": "stream",
     "text": [
      "stackedensemble prediction progress: |████████████████████████████████████| 100%\n"
     ]
    },
    {
     "data": {
      "text/html": [
       "<table>\n",
       "<thead>\n",
       "<tr><th style=\"text-align: right;\">  predict</th></tr>\n",
       "</thead>\n",
       "<tbody>\n",
       "<tr><td style=\"text-align: right;\">  746.457</td></tr>\n",
       "<tr><td style=\"text-align: right;\"> 6001.83 </td></tr>\n",
       "<tr><td style=\"text-align: right;\"> 5886.2  </td></tr>\n",
       "<tr><td style=\"text-align: right;\"> 1116.28 </td></tr>\n",
       "<tr><td style=\"text-align: right;\"> 3226.74 </td></tr>\n",
       "<tr><td style=\"text-align: right;\">  592.603</td></tr>\n",
       "<tr><td style=\"text-align: right;\"> 1514.22 </td></tr>\n",
       "<tr><td style=\"text-align: right;\">  866.927</td></tr>\n",
       "<tr><td style=\"text-align: right;\"> 8429.4  </td></tr>\n",
       "<tr><td style=\"text-align: right;\">  671.873</td></tr>\n",
       "</tbody>\n",
       "</table>"
      ]
     },
     "metadata": {},
     "output_type": "display_data"
    },
    {
     "data": {
      "text/plain": []
     },
     "execution_count": 9,
     "metadata": {},
     "output_type": "execute_result"
    }
   ],
   "source": [
    "predictions2 = automl.leader.predict(h2pred)\n",
    "predictions2.head()"
   ]
  },
  {
   "cell_type": "code",
   "execution_count": 10,
   "metadata": {},
   "outputs": [],
   "source": [
    "pgr2 = predictions2.as_data_frame()\n",
    "columns=['id','price']\n",
    "pgr2 = pgr2.reset_index(level=0)\n",
    "pgr2.columns = columns\n",
    "pgr2.to_csv('last_try_2.csv', index = False)"
   ]
  },
  {
   "cell_type": "code",
   "execution_count": null,
   "metadata": {},
   "outputs": [],
   "source": []
  }
 ],
 "metadata": {
  "kernelspec": {
   "display_name": "Python 3",
   "language": "python",
   "name": "python3"
  },
  "language_info": {
   "codemirror_mode": {
    "name": "ipython",
    "version": 3
   },
   "file_extension": ".py",
   "mimetype": "text/x-python",
   "name": "python",
   "nbconvert_exporter": "python",
   "pygments_lexer": "ipython3",
   "version": "3.8.5"
  }
 },
 "nbformat": 4,
 "nbformat_minor": 4
}

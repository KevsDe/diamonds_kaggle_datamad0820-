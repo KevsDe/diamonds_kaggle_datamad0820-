{
 "cells": [
  {
   "cell_type": "code",
   "execution_count": 39,
   "metadata": {},
   "outputs": [
    {
     "name": "stdout",
     "output_type": "stream",
     "text": [
      "Checking whether there is an H2O instance running at http://localhost:54321 . connected.\n"
     ]
    },
    {
     "data": {
      "text/html": [
       "<div style=\"overflow:auto\"><table style=\"width:50%\"><tr><td>H2O_cluster_uptime:</td>\n",
       "<td>6 hours 37 mins</td></tr>\n",
       "<tr><td>H2O_cluster_timezone:</td>\n",
       "<td>Europe/Madrid</td></tr>\n",
       "<tr><td>H2O_data_parsing_timezone:</td>\n",
       "<td>UTC</td></tr>\n",
       "<tr><td>H2O_cluster_version:</td>\n",
       "<td>3.30.1.3</td></tr>\n",
       "<tr><td>H2O_cluster_version_age:</td>\n",
       "<td>7 days, 10 hours and 44 minutes </td></tr>\n",
       "<tr><td>H2O_cluster_name:</td>\n",
       "<td>H2O_from_python_kevin_0sjooy</td></tr>\n",
       "<tr><td>H2O_cluster_total_nodes:</td>\n",
       "<td>1</td></tr>\n",
       "<tr><td>H2O_cluster_free_memory:</td>\n",
       "<td>1.485 Gb</td></tr>\n",
       "<tr><td>H2O_cluster_total_cores:</td>\n",
       "<td>4</td></tr>\n",
       "<tr><td>H2O_cluster_allowed_cores:</td>\n",
       "<td>4</td></tr>\n",
       "<tr><td>H2O_cluster_status:</td>\n",
       "<td>locked, healthy</td></tr>\n",
       "<tr><td>H2O_connection_url:</td>\n",
       "<td>http://localhost:54321</td></tr>\n",
       "<tr><td>H2O_connection_proxy:</td>\n",
       "<td>{\"http\": null, \"https\": null}</td></tr>\n",
       "<tr><td>H2O_internal_security:</td>\n",
       "<td>False</td></tr>\n",
       "<tr><td>H2O_API_Extensions:</td>\n",
       "<td>Amazon S3, XGBoost, Algos, AutoML, Core V3, TargetEncoder, Core V4</td></tr>\n",
       "<tr><td>Python_version:</td>\n",
       "<td>3.8.5 final</td></tr></table></div>"
      ],
      "text/plain": [
       "--------------------------  ------------------------------------------------------------------\n",
       "H2O_cluster_uptime:         6 hours 37 mins\n",
       "H2O_cluster_timezone:       Europe/Madrid\n",
       "H2O_data_parsing_timezone:  UTC\n",
       "H2O_cluster_version:        3.30.1.3\n",
       "H2O_cluster_version_age:    7 days, 10 hours and 44 minutes\n",
       "H2O_cluster_name:           H2O_from_python_kevin_0sjooy\n",
       "H2O_cluster_total_nodes:    1\n",
       "H2O_cluster_free_memory:    1.485 Gb\n",
       "H2O_cluster_total_cores:    4\n",
       "H2O_cluster_allowed_cores:  4\n",
       "H2O_cluster_status:         locked, healthy\n",
       "H2O_connection_url:         http://localhost:54321\n",
       "H2O_connection_proxy:       {\"http\": null, \"https\": null}\n",
       "H2O_internal_security:      False\n",
       "H2O_API_Extensions:         Amazon S3, XGBoost, Algos, AutoML, Core V3, TargetEncoder, Core V4\n",
       "Python_version:             3.8.5 final\n",
       "--------------------------  ------------------------------------------------------------------"
      ]
     },
     "metadata": {},
     "output_type": "display_data"
    }
   ],
   "source": [
    "import pandas as pd\n",
    "import h2o\n",
    "from h2o.automl import H2OAutoML\n",
    "h2o.init()"
   ]
  },
  {
   "cell_type": "code",
   "execution_count": 40,
   "metadata": {},
   "outputs": [],
   "source": [
    "train = pd.read_csv('input/train.csv', index_col=0)\n",
    "pred = pd.read_csv('input/predict.csv', index_col=0)"
   ]
  },
  {
   "cell_type": "code",
   "execution_count": 41,
   "metadata": {},
   "outputs": [
    {
     "name": "stdout",
     "output_type": "stream",
     "text": [
      "Parse progress: |█████████████████████████████████████████████████████████| 100%\n",
      "Parse progress: |█████████████████████████████████████████████████████████| 100%\n"
     ]
    }
   ],
   "source": [
    "h2train = h2o.H2OFrame(train)\n",
    "h2pred = h2o.H2OFrame(pred)"
   ]
  },
  {
   "cell_type": "code",
   "execution_count": 42,
   "metadata": {},
   "outputs": [],
   "source": [
    "x = list(train.drop(columns = 'price').columns)\n",
    "y = 'price'"
   ]
  },
  {
   "cell_type": "code",
   "execution_count": 15,
   "metadata": {},
   "outputs": [
    {
     "name": "stdout",
     "output_type": "stream",
     "text": [
      "AutoML progress: |████████████████████████████████████████████████████████| 100%\n"
     ]
    }
   ],
   "source": [
    "automl = H2OAutoML(max_models = 50, seed = 1, max_runtime_secs = 1200, sort_metric = 'RMSE')\n",
    "automl.train(x,y,training_frame=h2train)"
   ]
  },
  {
   "cell_type": "code",
   "execution_count": 17,
   "metadata": {},
   "outputs": [
    {
     "data": {
      "text/html": [
       "<table>\n",
       "<thead>\n",
       "<tr><th>model_id                                           </th><th style=\"text-align: right;\">   rmse</th><th style=\"text-align: right;\">  mean_residual_deviance</th><th style=\"text-align: right;\">   mse</th><th style=\"text-align: right;\">    mae</th><th style=\"text-align: right;\">      rmsle</th></tr>\n",
       "</thead>\n",
       "<tbody>\n",
       "<tr><td>StackedEnsemble_AllModels_AutoML_20201005_194209   </td><td style=\"text-align: right;\">529.388</td><td style=\"text-align: right;\">                  280252</td><td style=\"text-align: right;\">280252</td><td style=\"text-align: right;\">266.561</td><td style=\"text-align: right;\">  0.0951778</td></tr>\n",
       "<tr><td>StackedEnsemble_BestOfFamily_AutoML_20201005_194209</td><td style=\"text-align: right;\">532.304</td><td style=\"text-align: right;\">                  283348</td><td style=\"text-align: right;\">283348</td><td style=\"text-align: right;\">265.926</td><td style=\"text-align: right;\">  0.0914547</td></tr>\n",
       "<tr><td>GBM_4_AutoML_20201005_194209                       </td><td style=\"text-align: right;\">534.884</td><td style=\"text-align: right;\">                  286101</td><td style=\"text-align: right;\">286101</td><td style=\"text-align: right;\">268.69 </td><td style=\"text-align: right;\">  0.0925132</td></tr>\n",
       "<tr><td>GBM_3_AutoML_20201005_194209                       </td><td style=\"text-align: right;\">537.393</td><td style=\"text-align: right;\">                  288791</td><td style=\"text-align: right;\">288791</td><td style=\"text-align: right;\">274.868</td><td style=\"text-align: right;\">nan        </td></tr>\n",
       "<tr><td>GBM_2_AutoML_20201005_194209                       </td><td style=\"text-align: right;\">537.944</td><td style=\"text-align: right;\">                  289384</td><td style=\"text-align: right;\">289384</td><td style=\"text-align: right;\">277.682</td><td style=\"text-align: right;\">nan        </td></tr>\n",
       "<tr><td>GBM_1_AutoML_20201005_194209                       </td><td style=\"text-align: right;\">538.122</td><td style=\"text-align: right;\">                  289575</td><td style=\"text-align: right;\">289575</td><td style=\"text-align: right;\">279.254</td><td style=\"text-align: right;\">  0.102121 </td></tr>\n",
       "<tr><td>GBM_grid__1_AutoML_20201005_194209_model_9         </td><td style=\"text-align: right;\">542.849</td><td style=\"text-align: right;\">                  294685</td><td style=\"text-align: right;\">294685</td><td style=\"text-align: right;\">275.191</td><td style=\"text-align: right;\">  0.0980034</td></tr>\n",
       "<tr><td>GBM_grid__1_AutoML_20201005_194209_model_8         </td><td style=\"text-align: right;\">544.368</td><td style=\"text-align: right;\">                  296336</td><td style=\"text-align: right;\">296336</td><td style=\"text-align: right;\">270.737</td><td style=\"text-align: right;\">  0.0916348</td></tr>\n",
       "<tr><td>GBM_grid__1_AutoML_20201005_194209_model_6         </td><td style=\"text-align: right;\">547.381</td><td style=\"text-align: right;\">                  299626</td><td style=\"text-align: right;\">299626</td><td style=\"text-align: right;\">273.763</td><td style=\"text-align: right;\">nan        </td></tr>\n",
       "<tr><td>GBM_5_AutoML_20201005_194209                       </td><td style=\"text-align: right;\">558.553</td><td style=\"text-align: right;\">                  311982</td><td style=\"text-align: right;\">311982</td><td style=\"text-align: right;\">277.542</td><td style=\"text-align: right;\">  0.0967154</td></tr>\n",
       "</tbody>\n",
       "</table>"
      ]
     },
     "metadata": {},
     "output_type": "display_data"
    },
    {
     "data": {
      "text/plain": []
     },
     "execution_count": 17,
     "metadata": {},
     "output_type": "execute_result"
    }
   ],
   "source": [
    "leader_board = automl.leaderboard\n",
    "leader_board.head()"
   ]
  },
  {
   "cell_type": "code",
   "execution_count": 28,
   "metadata": {},
   "outputs": [
    {
     "name": "stdout",
     "output_type": "stream",
     "text": [
      "stackedensemble prediction progress: |████████████████████████████████████| 100%\n"
     ]
    },
    {
     "data": {
      "text/html": [
       "<table>\n",
       "<thead>\n",
       "<tr><th style=\"text-align: right;\">  predict</th></tr>\n",
       "</thead>\n",
       "<tbody>\n",
       "<tr><td style=\"text-align: right;\">  756.893</td></tr>\n",
       "<tr><td style=\"text-align: right;\"> 6038.14 </td></tr>\n",
       "<tr><td style=\"text-align: right;\"> 5882.9  </td></tr>\n",
       "<tr><td style=\"text-align: right;\"> 1089.92 </td></tr>\n",
       "<tr><td style=\"text-align: right;\"> 3196.89 </td></tr>\n",
       "<tr><td style=\"text-align: right;\">  550.888</td></tr>\n",
       "<tr><td style=\"text-align: right;\"> 1432.67 </td></tr>\n",
       "<tr><td style=\"text-align: right;\">  872.304</td></tr>\n",
       "<tr><td style=\"text-align: right;\"> 8424.65 </td></tr>\n",
       "<tr><td style=\"text-align: right;\">  697.669</td></tr>\n",
       "</tbody>\n",
       "</table>"
      ]
     },
     "metadata": {},
     "output_type": "display_data"
    },
    {
     "data": {
      "text/plain": []
     },
     "execution_count": 28,
     "metadata": {},
     "output_type": "execute_result"
    }
   ],
   "source": [
    "predictions = automl.leader.predict(h2pred)\n",
    "predictions.head()"
   ]
  },
  {
   "cell_type": "code",
   "execution_count": 33,
   "metadata": {},
   "outputs": [],
   "source": [
    "pgr = predictions.as_data_frame()\n",
    "columns=['id','price']\n",
    "pgr = pgr.reset_index(level=0)\n",
    "pgr.columns = columns\n",
    "pgr.to_csv('last_try.csv', index = False)"
   ]
  },
  {
   "cell_type": "code",
   "execution_count": 47,
   "metadata": {},
   "outputs": [
    {
     "name": "stdout",
     "output_type": "stream",
     "text": [
      "AutoML progress: |████████████████████████████████████████████████████████| 100%\n"
     ]
    }
   ],
   "source": [
    "automl = H2OAutoML(max_models = 50, seed = 1, max_runtime_secs = 2400, sort_metric = 'RMSE')\n",
    "automl.train(x,y,training_frame=h2train)"
   ]
  },
  {
   "cell_type": "code",
   "execution_count": 48,
   "metadata": {},
   "outputs": [
    {
     "data": {
      "text/html": [
       "<table>\n",
       "<thead>\n",
       "<tr><th>model_id                                           </th><th style=\"text-align: right;\">   rmse</th><th style=\"text-align: right;\">  mean_residual_deviance</th><th style=\"text-align: right;\">   mse</th><th style=\"text-align: right;\">    mae</th><th style=\"text-align: right;\">      rmsle</th></tr>\n",
       "</thead>\n",
       "<tbody>\n",
       "<tr><td>StackedEnsemble_AllModels_AutoML_20201006_030128   </td><td style=\"text-align: right;\">529.631</td><td style=\"text-align: right;\">                  280509</td><td style=\"text-align: right;\">280509</td><td style=\"text-align: right;\">266.478</td><td style=\"text-align: right;\">  0.0947449</td></tr>\n",
       "<tr><td>StackedEnsemble_BestOfFamily_AutoML_20201006_030128</td><td style=\"text-align: right;\">532.36 </td><td style=\"text-align: right;\">                  283408</td><td style=\"text-align: right;\">283408</td><td style=\"text-align: right;\">265.758</td><td style=\"text-align: right;\">  0.0910183</td></tr>\n",
       "<tr><td>GBM_4_AutoML_20201006_030128                       </td><td style=\"text-align: right;\">534.884</td><td style=\"text-align: right;\">                  286101</td><td style=\"text-align: right;\">286101</td><td style=\"text-align: right;\">268.69 </td><td style=\"text-align: right;\">  0.0925132</td></tr>\n",
       "<tr><td>GBM_3_AutoML_20201006_030128                       </td><td style=\"text-align: right;\">537.393</td><td style=\"text-align: right;\">                  288791</td><td style=\"text-align: right;\">288791</td><td style=\"text-align: right;\">274.868</td><td style=\"text-align: right;\">nan        </td></tr>\n",
       "<tr><td>GBM_2_AutoML_20201006_030128                       </td><td style=\"text-align: right;\">537.944</td><td style=\"text-align: right;\">                  289384</td><td style=\"text-align: right;\">289384</td><td style=\"text-align: right;\">277.682</td><td style=\"text-align: right;\">nan        </td></tr>\n",
       "<tr><td>GBM_1_AutoML_20201006_030128                       </td><td style=\"text-align: right;\">538.122</td><td style=\"text-align: right;\">                  289575</td><td style=\"text-align: right;\">289575</td><td style=\"text-align: right;\">279.254</td><td style=\"text-align: right;\">  0.102121 </td></tr>\n",
       "<tr><td>GBM_grid__1_AutoML_20201006_030128_model_12        </td><td style=\"text-align: right;\">542.849</td><td style=\"text-align: right;\">                  294685</td><td style=\"text-align: right;\">294685</td><td style=\"text-align: right;\">275.191</td><td style=\"text-align: right;\">  0.0980034</td></tr>\n",
       "<tr><td>GBM_grid__1_AutoML_20201006_030128_model_11        </td><td style=\"text-align: right;\">544.368</td><td style=\"text-align: right;\">                  296336</td><td style=\"text-align: right;\">296336</td><td style=\"text-align: right;\">270.737</td><td style=\"text-align: right;\">  0.0916348</td></tr>\n",
       "<tr><td>GBM_grid__1_AutoML_20201006_030128_model_9         </td><td style=\"text-align: right;\">547.381</td><td style=\"text-align: right;\">                  299626</td><td style=\"text-align: right;\">299626</td><td style=\"text-align: right;\">273.763</td><td style=\"text-align: right;\">nan        </td></tr>\n",
       "<tr><td>GBM_5_AutoML_20201006_030128                       </td><td style=\"text-align: right;\">553.041</td><td style=\"text-align: right;\">                  305854</td><td style=\"text-align: right;\">305854</td><td style=\"text-align: right;\">275.314</td><td style=\"text-align: right;\">  0.0967703</td></tr>\n",
       "</tbody>\n",
       "</table>"
      ]
     },
     "metadata": {},
     "output_type": "display_data"
    },
    {
     "data": {
      "text/plain": []
     },
     "execution_count": 48,
     "metadata": {},
     "output_type": "execute_result"
    }
   ],
   "source": [
    "leader_board2 = automl.leaderboard\n",
    "leader_board2.head()"
   ]
  },
  {
   "cell_type": "code",
   "execution_count": 49,
   "metadata": {},
   "outputs": [
    {
     "name": "stdout",
     "output_type": "stream",
     "text": [
      "stackedensemble prediction progress: |████████████████████████████████████| 100%\n"
     ]
    },
    {
     "data": {
      "text/html": [
       "<table>\n",
       "<thead>\n",
       "<tr><th style=\"text-align: right;\">  predict</th></tr>\n",
       "</thead>\n",
       "<tbody>\n",
       "<tr><td style=\"text-align: right;\">  755.76 </td></tr>\n",
       "<tr><td style=\"text-align: right;\"> 6042.24 </td></tr>\n",
       "<tr><td style=\"text-align: right;\"> 5881.47 </td></tr>\n",
       "<tr><td style=\"text-align: right;\"> 1090.64 </td></tr>\n",
       "<tr><td style=\"text-align: right;\"> 3195.83 </td></tr>\n",
       "<tr><td style=\"text-align: right;\">  550.223</td></tr>\n",
       "<tr><td style=\"text-align: right;\"> 1430.6  </td></tr>\n",
       "<tr><td style=\"text-align: right;\">  872.462</td></tr>\n",
       "<tr><td style=\"text-align: right;\"> 8432.67 </td></tr>\n",
       "<tr><td style=\"text-align: right;\">  696.199</td></tr>\n",
       "</tbody>\n",
       "</table>"
      ]
     },
     "metadata": {},
     "output_type": "display_data"
    },
    {
     "data": {
      "text/plain": []
     },
     "execution_count": 49,
     "metadata": {},
     "output_type": "execute_result"
    }
   ],
   "source": [
    "predictions2 = automl.leader.predict(h2pred)\n",
    "predictions2.head()"
   ]
  },
  {
   "cell_type": "code",
   "execution_count": 50,
   "metadata": {},
   "outputs": [],
   "source": [
    "pgr2 = predictions2.as_data_frame()\n",
    "columns=['id','price']\n",
    "pgr2 = pgr2.reset_index(level=0)\n",
    "pgr2.columns = columns\n",
    "pgr2.to_csv('last_try_2.csv', index = False)"
   ]
  },
  {
   "cell_type": "code",
   "execution_count": null,
   "metadata": {},
   "outputs": [],
   "source": []
  },
  {
   "cell_type": "code",
   "execution_count": null,
   "metadata": {},
   "outputs": [],
   "source": []
  },
  {
   "cell_type": "code",
   "execution_count": null,
   "metadata": {},
   "outputs": [],
   "source": []
  }
 ],
 "metadata": {
  "kernelspec": {
   "display_name": "Python 3",
   "language": "python",
   "name": "python3"
  },
  "language_info": {
   "codemirror_mode": {
    "name": "ipython",
    "version": 3
   },
   "file_extension": ".py",
   "mimetype": "text/x-python",
   "name": "python",
   "nbconvert_exporter": "python",
   "pygments_lexer": "ipython3",
   "version": "3.8.5"
  }
 },
 "nbformat": 4,
 "nbformat_minor": 4
}

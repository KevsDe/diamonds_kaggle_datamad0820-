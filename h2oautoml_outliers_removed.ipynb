{
 "cells": [
  {
   "cell_type": "code",
   "execution_count": 1,
   "metadata": {},
   "outputs": [
    {
     "name": "stdout",
     "output_type": "stream",
     "text": [
      "Checking whether there is an H2O instance running at http://localhost:54321 . connected.\n"
     ]
    },
    {
     "data": {
      "text/html": [
       "<div style=\"overflow:auto\"><table style=\"width:50%\"><tr><td>H2O_cluster_uptime:</td>\n",
       "<td>8 hours 11 mins</td></tr>\n",
       "<tr><td>H2O_cluster_timezone:</td>\n",
       "<td>Europe/Madrid</td></tr>\n",
       "<tr><td>H2O_data_parsing_timezone:</td>\n",
       "<td>UTC</td></tr>\n",
       "<tr><td>H2O_cluster_version:</td>\n",
       "<td>3.30.1.3</td></tr>\n",
       "<tr><td>H2O_cluster_version_age:</td>\n",
       "<td>7 days, 12 hours and 18 minutes </td></tr>\n",
       "<tr><td>H2O_cluster_name:</td>\n",
       "<td>H2O_from_python_kevin_0sjooy</td></tr>\n",
       "<tr><td>H2O_cluster_total_nodes:</td>\n",
       "<td>1</td></tr>\n",
       "<tr><td>H2O_cluster_free_memory:</td>\n",
       "<td>654 Mb</td></tr>\n",
       "<tr><td>H2O_cluster_total_cores:</td>\n",
       "<td>4</td></tr>\n",
       "<tr><td>H2O_cluster_allowed_cores:</td>\n",
       "<td>4</td></tr>\n",
       "<tr><td>H2O_cluster_status:</td>\n",
       "<td>locked, healthy</td></tr>\n",
       "<tr><td>H2O_connection_url:</td>\n",
       "<td>http://localhost:54321</td></tr>\n",
       "<tr><td>H2O_connection_proxy:</td>\n",
       "<td>{\"http\": null, \"https\": null}</td></tr>\n",
       "<tr><td>H2O_internal_security:</td>\n",
       "<td>False</td></tr>\n",
       "<tr><td>H2O_API_Extensions:</td>\n",
       "<td>Amazon S3, XGBoost, Algos, AutoML, Core V3, TargetEncoder, Core V4</td></tr>\n",
       "<tr><td>Python_version:</td>\n",
       "<td>3.8.5 final</td></tr></table></div>"
      ],
      "text/plain": [
       "--------------------------  ------------------------------------------------------------------\n",
       "H2O_cluster_uptime:         8 hours 11 mins\n",
       "H2O_cluster_timezone:       Europe/Madrid\n",
       "H2O_data_parsing_timezone:  UTC\n",
       "H2O_cluster_version:        3.30.1.3\n",
       "H2O_cluster_version_age:    7 days, 12 hours and 18 minutes\n",
       "H2O_cluster_name:           H2O_from_python_kevin_0sjooy\n",
       "H2O_cluster_total_nodes:    1\n",
       "H2O_cluster_free_memory:    654 Mb\n",
       "H2O_cluster_total_cores:    4\n",
       "H2O_cluster_allowed_cores:  4\n",
       "H2O_cluster_status:         locked, healthy\n",
       "H2O_connection_url:         http://localhost:54321\n",
       "H2O_connection_proxy:       {\"http\": null, \"https\": null}\n",
       "H2O_internal_security:      False\n",
       "H2O_API_Extensions:         Amazon S3, XGBoost, Algos, AutoML, Core V3, TargetEncoder, Core V4\n",
       "Python_version:             3.8.5 final\n",
       "--------------------------  ------------------------------------------------------------------"
      ]
     },
     "metadata": {},
     "output_type": "display_data"
    }
   ],
   "source": [
    "import pandas as pd\n",
    "import h2o\n",
    "from h2o.automl import H2OAutoML\n",
    "h2o.init()"
   ]
  },
  {
   "cell_type": "code",
   "execution_count": 2,
   "metadata": {},
   "outputs": [],
   "source": [
    "train = pd.read_csv('input/train.csv', index_col=0)\n",
    "pred = pd.read_csv('input/predict.csv', index_col=0)\n"
   ]
  },
  {
   "cell_type": "code",
   "execution_count": 3,
   "metadata": {},
   "outputs": [],
   "source": [
    "from sklearn import preprocessing\n",
    "le = preprocessing.LabelEncoder()\n",
    "train[\"cut_le\"] = le.fit_transform(train[\"cut\"])\n",
    "train[\"color_le\"] = le.fit_transform(train[\"color\"])\n",
    "train[\"clarity_le\"] = le.fit_transform(train[\"clarity\"])"
   ]
  },
  {
   "cell_type": "code",
   "execution_count": 4,
   "metadata": {},
   "outputs": [],
   "source": [
    "train = train[['carat','depth','table','x','y','z','price','cut_le','color_le','clarity_le']]"
   ]
  },
  {
   "cell_type": "code",
   "execution_count": 5,
   "metadata": {},
   "outputs": [
    {
     "name": "stdout",
     "output_type": "stream",
     "text": [
      "[[0.67782057 0.1011905  0.69550817 ... 0.43631756 0.8271011  1.06219822]\n",
      " [0.71993701 1.21676264 1.55080885 ... 1.41173902 0.9377797  0.482915  ]\n",
      " [0.2145398  1.00759287 2.49256178 ... 1.41173902 1.5260733  0.482915  ]\n",
      " ...\n",
      " [0.2145398  2.33233478 1.10154544 ... 1.51452537 0.2388075  0.482915  ]\n",
      " [0.86734453 1.29327468 0.65228204 ... 1.51452537 0.8271011  1.06219822]\n",
      " [0.81731285 0.24063702 0.65228204 ... 0.53910391 0.8271011  1.25493464]]\n",
      "(array([   78,   116,   134, ..., 40422, 40438, 40447]), array([6, 6, 1, ..., 6, 6, 2]))\n"
     ]
    }
   ],
   "source": [
    "from scipy import stats\n",
    "import numpy as np\n",
    "z = np.abs(stats.zscore(train))\n",
    "print(z)\n",
    "threshold = 3\n",
    "print(np.where(z > 3))\n",
    "train = train[(z < 3).all(axis=1)]"
   ]
  },
  {
   "cell_type": "code",
   "execution_count": 6,
   "metadata": {},
   "outputs": [
    {
     "name": "stdout",
     "output_type": "stream",
     "text": [
      "Parse progress: |█████████████████████████████████████████████████████████| 100%\n",
      "Parse progress: |█████████████████████████████████████████████████████████| 100%\n"
     ]
    }
   ],
   "source": [
    "h2train = h2o.H2OFrame(train)\n",
    "h2pred = h2o.H2OFrame(pred)"
   ]
  },
  {
   "cell_type": "code",
   "execution_count": 7,
   "metadata": {},
   "outputs": [],
   "source": [
    "x = list(train.drop(columns = 'price').columns)\n",
    "y = 'price'"
   ]
  },
  {
   "cell_type": "code",
   "execution_count": 9,
   "metadata": {},
   "outputs": [
    {
     "name": "stdout",
     "output_type": "stream",
     "text": [
      "AutoML progress: |███████████████████████Failed polling AutoML progress log: Unexpected HTTP error: ('Connection aborted.', BadStatusLine('GET /3/Jobs/$03017f00000132d4ffffffff$_800af0b211c33505ac5f19a45b634d97 HTTP/1.1\\r\\n'))\n",
      "█████████████████████████████████| 100%\n"
     ]
    }
   ],
   "source": [
    "automl = H2OAutoML(max_models = 50, seed = 1, max_runtime_secs = 1200, sort_metric = 'RMSE')\n",
    "automl.train(x,y,training_frame=h2train)"
   ]
  },
  {
   "cell_type": "code",
   "execution_count": 10,
   "metadata": {},
   "outputs": [
    {
     "data": {
      "text/html": [
       "<table>\n",
       "<thead>\n",
       "<tr><th>model_id                                           </th><th style=\"text-align: right;\">   rmse</th><th style=\"text-align: right;\">  mean_residual_deviance</th><th style=\"text-align: right;\">   mse</th><th style=\"text-align: right;\">    mae</th><th style=\"text-align: right;\">    rmsle</th></tr>\n",
       "</thead>\n",
       "<tbody>\n",
       "<tr><td>StackedEnsemble_AllModels_AutoML_20201006_034914   </td><td style=\"text-align: right;\">439.333</td><td style=\"text-align: right;\">                  193013</td><td style=\"text-align: right;\">193013</td><td style=\"text-align: right;\">235.996</td><td style=\"text-align: right;\">0.0923109</td></tr>\n",
       "<tr><td>StackedEnsemble_BestOfFamily_AutoML_20201006_034914</td><td style=\"text-align: right;\">440.929</td><td style=\"text-align: right;\">                  194418</td><td style=\"text-align: right;\">194418</td><td style=\"text-align: right;\">237.212</td><td style=\"text-align: right;\">0.0927938</td></tr>\n",
       "<tr><td>GBM_2_AutoML_20201006_034914                       </td><td style=\"text-align: right;\">445.302</td><td style=\"text-align: right;\">                  198293</td><td style=\"text-align: right;\">198293</td><td style=\"text-align: right;\">243.171</td><td style=\"text-align: right;\">0.0975692</td></tr>\n",
       "<tr><td>GBM_3_AutoML_20201006_034914                       </td><td style=\"text-align: right;\">445.71 </td><td style=\"text-align: right;\">                  198658</td><td style=\"text-align: right;\">198658</td><td style=\"text-align: right;\">240.285</td><td style=\"text-align: right;\">0.0944433</td></tr>\n",
       "<tr><td>GBM_4_AutoML_20201006_034914                       </td><td style=\"text-align: right;\">449.713</td><td style=\"text-align: right;\">                  202241</td><td style=\"text-align: right;\">202241</td><td style=\"text-align: right;\">238.361</td><td style=\"text-align: right;\">0.0888556</td></tr>\n",
       "<tr><td>GBM_1_AutoML_20201006_034914                       </td><td style=\"text-align: right;\">454.545</td><td style=\"text-align: right;\">                  206611</td><td style=\"text-align: right;\">206611</td><td style=\"text-align: right;\">250.809</td><td style=\"text-align: right;\">0.102799 </td></tr>\n",
       "<tr><td>XGBoost_grid__1_AutoML_20201006_034914_model_3     </td><td style=\"text-align: right;\">459.552</td><td style=\"text-align: right;\">                  211188</td><td style=\"text-align: right;\">211188</td><td style=\"text-align: right;\">244.791</td><td style=\"text-align: right;\">0.0928794</td></tr>\n",
       "<tr><td>XGBoost_grid__1_AutoML_20201006_034914_model_1     </td><td style=\"text-align: right;\">461.88 </td><td style=\"text-align: right;\">                  213333</td><td style=\"text-align: right;\">213333</td><td style=\"text-align: right;\">243.85 </td><td style=\"text-align: right;\">0.0915032</td></tr>\n",
       "<tr><td>XGBoost_grid__1_AutoML_20201006_034914_model_2     </td><td style=\"text-align: right;\">463.432</td><td style=\"text-align: right;\">                  214769</td><td style=\"text-align: right;\">214769</td><td style=\"text-align: right;\">245.284</td><td style=\"text-align: right;\">0.0911571</td></tr>\n",
       "<tr><td>XGBoost_3_AutoML_20201006_034914                   </td><td style=\"text-align: right;\">472.403</td><td style=\"text-align: right;\">                  223165</td><td style=\"text-align: right;\">223165</td><td style=\"text-align: right;\">261.609</td><td style=\"text-align: right;\">0.107358 </td></tr>\n",
       "</tbody>\n",
       "</table>"
      ]
     },
     "metadata": {},
     "output_type": "display_data"
    },
    {
     "data": {
      "text/plain": []
     },
     "execution_count": 10,
     "metadata": {},
     "output_type": "execute_result"
    }
   ],
   "source": [
    "leader_board = automl.leaderboard\n",
    "leader_board.head()"
   ]
  },
  {
   "cell_type": "code",
   "execution_count": 11,
   "metadata": {},
   "outputs": [
    {
     "name": "stdout",
     "output_type": "stream",
     "text": [
      "stackedensemble prediction progress: |████████████████████████████████████| 100%\n"
     ]
    },
    {
     "name": "stderr",
     "output_type": "stream",
     "text": [
      "/usr/local/lib/python3.8/site-packages/h2o/job.py:70: UserWarning: Test/Validation dataset is missing column 'cut_le': substituting in a column of NaN\n",
      "  warnings.warn(w)\n",
      "/usr/local/lib/python3.8/site-packages/h2o/job.py:70: UserWarning: Test/Validation dataset is missing column 'color_le': substituting in a column of NaN\n",
      "  warnings.warn(w)\n",
      "/usr/local/lib/python3.8/site-packages/h2o/job.py:70: UserWarning: Test/Validation dataset is missing column 'clarity_le': substituting in a column of NaN\n",
      "  warnings.warn(w)\n"
     ]
    },
    {
     "data": {
      "text/html": [
       "<table>\n",
       "<thead>\n",
       "<tr><th style=\"text-align: right;\">  predict</th></tr>\n",
       "</thead>\n",
       "<tbody>\n",
       "<tr><td style=\"text-align: right;\">  712.033</td></tr>\n",
       "<tr><td style=\"text-align: right;\"> 6371.27 </td></tr>\n",
       "<tr><td style=\"text-align: right;\"> 5148.21 </td></tr>\n",
       "<tr><td style=\"text-align: right;\">  818.2  </td></tr>\n",
       "<tr><td style=\"text-align: right;\"> 2500.2  </td></tr>\n",
       "<tr><td style=\"text-align: right;\">  613.796</td></tr>\n",
       "<tr><td style=\"text-align: right;\"> 1592.96 </td></tr>\n",
       "<tr><td style=\"text-align: right;\">  687.738</td></tr>\n",
       "<tr><td style=\"text-align: right;\"> 9067.28 </td></tr>\n",
       "<tr><td style=\"text-align: right;\">  942.106</td></tr>\n",
       "</tbody>\n",
       "</table>"
      ]
     },
     "metadata": {},
     "output_type": "display_data"
    },
    {
     "data": {
      "text/plain": []
     },
     "execution_count": 11,
     "metadata": {},
     "output_type": "execute_result"
    }
   ],
   "source": [
    "predictions = automl.leader.predict(h2pred)\n",
    "predictions.head()"
   ]
  },
  {
   "cell_type": "code",
   "execution_count": 14,
   "metadata": {},
   "outputs": [],
   "source": [
    "prd = predictions.as_data_frame()\n",
    "columns=['id','price']\n",
    "prd = prd.reset_index(level=0)\n",
    "prd.columns = columns\n",
    "prd.to_csv('lt.csv', index = False)"
   ]
  },
  {
   "cell_type": "code",
   "execution_count": 13,
   "metadata": {},
   "outputs": [],
   "source": []
  },
  {
   "cell_type": "code",
   "execution_count": null,
   "metadata": {},
   "outputs": [],
   "source": []
  }
 ],
 "metadata": {
  "kernelspec": {
   "display_name": "Python 3",
   "language": "python",
   "name": "python3"
  },
  "language_info": {
   "codemirror_mode": {
    "name": "ipython",
    "version": 3
   },
   "file_extension": ".py",
   "mimetype": "text/x-python",
   "name": "python",
   "nbconvert_exporter": "python",
   "pygments_lexer": "ipython3",
   "version": "3.8.5"
  }
 },
 "nbformat": 4,
 "nbformat_minor": 4
}

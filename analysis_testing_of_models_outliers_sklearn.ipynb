{
 "cells": [
  {
   "cell_type": "code",
   "execution_count": 9,
   "metadata": {},
   "outputs": [],
   "source": [
    "import pandas as pd\n",
    "import numpy as np\n",
    "import warnings\n",
    "warnings.filterwarnings(\"ignore\")\n",
    "import seaborn as sns\n",
    "import matplotlib.pyplot as plt"
   ]
  },
  {
   "cell_type": "code",
   "execution_count": 10,
   "metadata": {},
   "outputs": [],
   "source": [
    "predict = pd.read_csv('Input/predict.csv')\n",
    "sample_submission = pd.read_csv('Input/sample_submission.csv')\n",
    "train = pd.read_csv('Input/train.csv')"
   ]
  },
  {
   "cell_type": "code",
   "execution_count": 11,
   "metadata": {},
   "outputs": [
    {
     "data": {
      "text/html": [
       "<div>\n",
       "<style scoped>\n",
       "    .dataframe tbody tr th:only-of-type {\n",
       "        vertical-align: middle;\n",
       "    }\n",
       "\n",
       "    .dataframe tbody tr th {\n",
       "        vertical-align: top;\n",
       "    }\n",
       "\n",
       "    .dataframe thead th {\n",
       "        text-align: right;\n",
       "    }\n",
       "</style>\n",
       "<table border=\"1\" class=\"dataframe\">\n",
       "  <thead>\n",
       "    <tr style=\"text-align: right;\">\n",
       "      <th></th>\n",
       "      <th>id</th>\n",
       "      <th>carat</th>\n",
       "      <th>cut</th>\n",
       "      <th>color</th>\n",
       "      <th>clarity</th>\n",
       "      <th>depth</th>\n",
       "      <th>table</th>\n",
       "      <th>x</th>\n",
       "      <th>y</th>\n",
       "      <th>z</th>\n",
       "      <th>price</th>\n",
       "    </tr>\n",
       "  </thead>\n",
       "  <tbody>\n",
       "    <tr>\n",
       "      <th>0</th>\n",
       "      <td>0</td>\n",
       "      <td>1.12</td>\n",
       "      <td>Premium</td>\n",
       "      <td>H</td>\n",
       "      <td>SI1</td>\n",
       "      <td>61.6</td>\n",
       "      <td>59.0</td>\n",
       "      <td>6.67</td>\n",
       "      <td>6.63</td>\n",
       "      <td>4.10</td>\n",
       "      <td>5363</td>\n",
       "    </tr>\n",
       "    <tr>\n",
       "      <th>1</th>\n",
       "      <td>1</td>\n",
       "      <td>1.14</td>\n",
       "      <td>Very Good</td>\n",
       "      <td>E</td>\n",
       "      <td>SI2</td>\n",
       "      <td>60.0</td>\n",
       "      <td>54.0</td>\n",
       "      <td>6.74</td>\n",
       "      <td>6.97</td>\n",
       "      <td>4.11</td>\n",
       "      <td>5593</td>\n",
       "    </tr>\n",
       "    <tr>\n",
       "      <th>2</th>\n",
       "      <td>2</td>\n",
       "      <td>0.90</td>\n",
       "      <td>Very Good</td>\n",
       "      <td>D</td>\n",
       "      <td>SI2</td>\n",
       "      <td>60.3</td>\n",
       "      <td>63.0</td>\n",
       "      <td>6.12</td>\n",
       "      <td>6.22</td>\n",
       "      <td>3.72</td>\n",
       "      <td>3534</td>\n",
       "    </tr>\n",
       "    <tr>\n",
       "      <th>3</th>\n",
       "      <td>3</td>\n",
       "      <td>0.71</td>\n",
       "      <td>Ideal</td>\n",
       "      <td>E</td>\n",
       "      <td>VS1</td>\n",
       "      <td>61.9</td>\n",
       "      <td>54.0</td>\n",
       "      <td>5.74</td>\n",
       "      <td>5.76</td>\n",
       "      <td>3.56</td>\n",
       "      <td>3212</td>\n",
       "    </tr>\n",
       "    <tr>\n",
       "      <th>4</th>\n",
       "      <td>4</td>\n",
       "      <td>0.34</td>\n",
       "      <td>Very Good</td>\n",
       "      <td>F</td>\n",
       "      <td>SI2</td>\n",
       "      <td>60.0</td>\n",
       "      <td>62.0</td>\n",
       "      <td>4.51</td>\n",
       "      <td>4.55</td>\n",
       "      <td>2.72</td>\n",
       "      <td>447</td>\n",
       "    </tr>\n",
       "  </tbody>\n",
       "</table>\n",
       "</div>"
      ],
      "text/plain": [
       "   id  carat        cut color clarity  depth  table     x     y     z  price\n",
       "0   0   1.12    Premium     H     SI1   61.6   59.0  6.67  6.63  4.10   5363\n",
       "1   1   1.14  Very Good     E     SI2   60.0   54.0  6.74  6.97  4.11   5593\n",
       "2   2   0.90  Very Good     D     SI2   60.3   63.0  6.12  6.22  3.72   3534\n",
       "3   3   0.71      Ideal     E     VS1   61.9   54.0  5.74  5.76  3.56   3212\n",
       "4   4   0.34  Very Good     F     SI2   60.0   62.0  4.51  4.55  2.72    447"
      ]
     },
     "metadata": {},
     "output_type": "display_data"
    }
   ],
   "source": [
    "display(train.head())"
   ]
  },
  {
   "cell_type": "code",
   "execution_count": 12,
   "metadata": {},
   "outputs": [
    {
     "name": "stdout",
     "output_type": "stream",
     "text": [
      "shape (40455, 11) \n",
      "\n",
      "id         0\n",
      "carat      0\n",
      "cut        0\n",
      "color      0\n",
      "clarity    0\n",
      "depth      0\n",
      "table      0\n",
      "x          0\n",
      "y          0\n",
      "z          0\n",
      "price      0\n",
      "dtype: int64 \n",
      "\n",
      "<class 'pandas.core.frame.DataFrame'>\n",
      "RangeIndex: 40455 entries, 0 to 40454\n",
      "Data columns (total 11 columns):\n",
      " #   Column   Non-Null Count  Dtype  \n",
      "---  ------   --------------  -----  \n",
      " 0   id       40455 non-null  int64  \n",
      " 1   carat    40455 non-null  float64\n",
      " 2   cut      40455 non-null  object \n",
      " 3   color    40455 non-null  object \n",
      " 4   clarity  40455 non-null  object \n",
      " 5   depth    40455 non-null  float64\n",
      " 6   table    40455 non-null  float64\n",
      " 7   x        40455 non-null  float64\n",
      " 8   y        40455 non-null  float64\n",
      " 9   z        40455 non-null  float64\n",
      " 10  price    40455 non-null  int64  \n",
      "dtypes: float64(6), int64(2), object(3)\n",
      "memory usage: 3.4+ MB\n",
      "None \n",
      "\n",
      "                 id         carat         depth         table             x  \\\n",
      "count  40455.000000  40455.000000  40455.000000  40455.000000  40455.000000   \n",
      "mean   20227.000000      0.798121     61.745132     57.451892      5.731217   \n",
      "std    11678.496907      0.474880      1.434259      2.225893      1.123364   \n",
      "min        0.000000      0.200000     43.000000     43.000000      0.000000   \n",
      "25%    10113.500000      0.400000     61.000000     56.000000      4.710000   \n",
      "50%    20227.000000      0.700000     61.800000     57.000000      5.700000   \n",
      "75%    30340.500000      1.040000     62.500000     59.000000      6.540000   \n",
      "max    40454.000000      5.010000     79.000000     79.000000     10.740000   \n",
      "\n",
      "                  y             z         price  \n",
      "count  40455.000000  40455.000000  40455.000000  \n",
      "mean       5.735248      3.538685   3938.101125  \n",
      "std        1.152859      0.710579   3992.645108  \n",
      "min        0.000000      0.000000    326.000000  \n",
      "25%        4.720000      2.910000    948.000000  \n",
      "50%        5.710000      3.520000   2401.000000  \n",
      "75%        6.540000      4.040000   5333.000000  \n",
      "max       58.900000     31.800000  18818.000000  \n"
     ]
    }
   ],
   "source": [
    "print('shape', train.shape,'\\n')\n",
    "print(train.isna().sum(),'\\n')\n",
    "print(train.info(),'\\n')\n",
    "print(train.describe())"
   ]
  },
  {
   "cell_type": "code",
   "execution_count": 13,
   "metadata": {},
   "outputs": [],
   "source": [
    "#Finding outliers"
   ]
  },
  {
   "cell_type": "code",
   "execution_count": 14,
   "metadata": {},
   "outputs": [
    {
     "data": {
      "image/png": "[encoded data removed]",
      "text/plain": [
       "<Figure size 432x288 with 1 Axes>"
      ]
     },
     "metadata": {
      "needs_background": "light"
     },
     "output_type": "display_data"
    },
    {
     "data": {
      "image/png": "[encoded data removed]",
      "text/plain": [
       "<Figure size 432x288 with 1 Axes>"
      ]
     },
     "metadata": {
      "needs_background": "light"
     },
     "output_type": "display_data"
    }
   ],
   "source": [
    "plt.show(sns.boxplot(x=train['price']))\n",
    "plt.show(sns.boxplot(x=train['price']))"
   ]
  },
  {
   "cell_type": "code",
   "execution_count": 15,
   "metadata": {},
   "outputs": [
    {
     "data": {
      "image/png": "[encoded data removed]",
      "text/plain": [
       "<Figure size 432x288 with 1 Axes>"
      ]
     },
     "metadata": {
      "needs_background": "light"
     },
     "output_type": "display_data"
    },
    {
     "data": {
      "image/png": "[encoded data removed]",
      "text/plain": [
       "<Figure size 432x288 with 1 Axes>"
      ]
     },
     "metadata": {
      "needs_background": "light"
     },
     "output_type": "display_data"
    },
    {
     "data": {
      "image/png": "[encoded data removed]",
      "text/plain": [
       "<Figure size 432x288 with 1 Axes>"
      ]
     },
     "metadata": {
      "needs_background": "light"
     },
     "output_type": "display_data"
    }
   ],
   "source": [
    "plt.show(sns.boxplot(x='cut', y=\"price\", data=train))\n",
    "plt.show(sns.boxplot(x='color', y=\"price\", data=train))\n",
    "plt.show(sns.boxplot(x='clarity', y=\"price\", data=train))"
   ]
  },
  {
   "cell_type": "code",
   "execution_count": 16,
   "metadata": {},
   "outputs": [],
   "source": [
    "from sklearn import preprocessing\n",
    "le = preprocessing.LabelEncoder()\n",
    "train[\"cut_le\"] = le.fit_transform(train[\"cut\"])\n",
    "train[\"color_le\"] = le.fit_transform(train[\"color\"])\n",
    "train[\"clarity_le\"] = le.fit_transform(train[\"clarity\"])"
   ]
  },
  {
   "cell_type": "code",
   "execution_count": 17,
   "metadata": {},
   "outputs": [],
   "source": [
    "train_cl = train[['carat', 'cut_le', 'color_le', 'clarity_le','price']]"
   ]
  },
  {
   "cell_type": "code",
   "execution_count": 18,
   "metadata": {},
   "outputs": [
    {
     "data": {
      "image/png": "[encoded data removed]",
      "text/plain": [
       "<Figure size 1152x576 with 1 Axes>"
      ]
     },
     "metadata": {
      "needs_background": "light"
     },
     "output_type": "display_data"
    }
   ],
   "source": [
    "fig, ax = plt.subplots(figsize=(16,8))\n",
    "ax.scatter(train_cl['price'], train_cl['carat'])\n",
    "ax.set_xlabel('Diamond price')\n",
    "ax.set_ylabel('Diamond carats')\n",
    "plt.show()"
   ]
  },
  {
   "cell_type": "code",
   "execution_count": 19,
   "metadata": {},
   "outputs": [
    {
     "name": "stdout",
     "output_type": "stream",
     "text": [
      "[[0.67782057 0.43631756 0.8271011  1.06219822 0.35688533]\n",
      " [0.71993701 1.41173902 0.9377797  0.482915   0.41449197]\n",
      " [0.2145398  1.41173902 1.5260733  0.482915   0.10121263]\n",
      " ...\n",
      " [0.2145398  1.51452537 0.2388075  0.482915   0.16758549]\n",
      " [0.86734453 1.51452537 0.8271011  1.06219822 0.48963106]\n",
      " [0.81731285 0.53910391 0.8271011  1.25493464 0.70708414]]\n"
     ]
    }
   ],
   "source": [
    "from scipy import stats\n",
    "import numpy as np\n",
    "z = np.abs(stats.zscore(train_cl))\n",
    "print(z)\n",
    "threshold = 3\n",
    "#print(np.where(z > 3))"
   ]
  },
  {
   "cell_type": "code",
   "execution_count": 20,
   "metadata": {},
   "outputs": [],
   "source": [
    "train_cl = train_cl[(z < 3).all(axis=1)]"
   ]
  },
  {
   "cell_type": "code",
   "execution_count": 21,
   "metadata": {},
   "outputs": [
    {
     "data": {
      "text/plain": [
       "(39423, 5)"
      ]
     },
     "execution_count": 21,
     "metadata": {},
     "output_type": "execute_result"
    }
   ],
   "source": [
    "train_cl.shape"
   ]
  },
  {
   "cell_type": "code",
   "execution_count": 22,
   "metadata": {},
   "outputs": [
    {
     "data": {
      "image/png": "[encoded data removed]",
      "text/plain": [
       "<Figure size 1152x576 with 1 Axes>"
      ]
     },
     "metadata": {
      "needs_background": "light"
     },
     "output_type": "display_data"
    }
   ],
   "source": [
    "fig, ax = plt.subplots(figsize=(16,8))\n",
    "ax.scatter(train_cl['price'], train_cl['carat'])\n",
    "ax.set_xlabel('Diamond price')\n",
    "ax.set_ylabel('Diamond carats')\n",
    "plt.show()"
   ]
  },
  {
   "cell_type": "code",
   "execution_count": 23,
   "metadata": {},
   "outputs": [
    {
     "data": {
      "text/html": [
       "<div>\n",
       "<style scoped>\n",
       "    .dataframe tbody tr th:only-of-type {\n",
       "        vertical-align: middle;\n",
       "    }\n",
       "\n",
       "    .dataframe tbody tr th {\n",
       "        vertical-align: top;\n",
       "    }\n",
       "\n",
       "    .dataframe thead th {\n",
       "        text-align: right;\n",
       "    }\n",
       "</style>\n",
       "<table border=\"1\" class=\"dataframe\">\n",
       "  <thead>\n",
       "    <tr style=\"text-align: right;\">\n",
       "      <th></th>\n",
       "      <th>carat</th>\n",
       "      <th>cut_le</th>\n",
       "      <th>color_le</th>\n",
       "      <th>clarity_le</th>\n",
       "      <th>price</th>\n",
       "    </tr>\n",
       "  </thead>\n",
       "  <tbody>\n",
       "    <tr>\n",
       "      <th>count</th>\n",
       "      <td>39423.000000</td>\n",
       "      <td>39423.000000</td>\n",
       "      <td>39423.00000</td>\n",
       "      <td>39423.000000</td>\n",
       "      <td>39423.000000</td>\n",
       "    </tr>\n",
       "    <tr>\n",
       "      <th>mean</th>\n",
       "      <td>0.764407</td>\n",
       "      <td>2.550339</td>\n",
       "      <td>2.57020</td>\n",
       "      <td>3.846815</td>\n",
       "      <td>3604.924993</td>\n",
       "    </tr>\n",
       "    <tr>\n",
       "      <th>std</th>\n",
       "      <td>0.427776</td>\n",
       "      <td>1.025026</td>\n",
       "      <td>1.69408</td>\n",
       "      <td>1.730263</td>\n",
       "      <td>3450.264882</td>\n",
       "    </tr>\n",
       "    <tr>\n",
       "      <th>min</th>\n",
       "      <td>0.200000</td>\n",
       "      <td>0.000000</td>\n",
       "      <td>0.00000</td>\n",
       "      <td>0.000000</td>\n",
       "      <td>326.000000</td>\n",
       "    </tr>\n",
       "    <tr>\n",
       "      <th>25%</th>\n",
       "      <td>0.400000</td>\n",
       "      <td>2.000000</td>\n",
       "      <td>1.00000</td>\n",
       "      <td>2.000000</td>\n",
       "      <td>935.000000</td>\n",
       "    </tr>\n",
       "    <tr>\n",
       "      <th>50%</th>\n",
       "      <td>0.700000</td>\n",
       "      <td>2.000000</td>\n",
       "      <td>3.00000</td>\n",
       "      <td>4.000000</td>\n",
       "      <td>2320.000000</td>\n",
       "    </tr>\n",
       "    <tr>\n",
       "      <th>75%</th>\n",
       "      <td>1.020000</td>\n",
       "      <td>3.000000</td>\n",
       "      <td>4.00000</td>\n",
       "      <td>5.000000</td>\n",
       "      <td>5051.000000</td>\n",
       "    </tr>\n",
       "    <tr>\n",
       "      <th>max</th>\n",
       "      <td>2.220000</td>\n",
       "      <td>4.000000</td>\n",
       "      <td>6.00000</td>\n",
       "      <td>7.000000</td>\n",
       "      <td>15915.000000</td>\n",
       "    </tr>\n",
       "  </tbody>\n",
       "</table>\n",
       "</div>"
      ],
      "text/plain": [
       "              carat        cut_le     color_le    clarity_le         price\n",
       "count  39423.000000  39423.000000  39423.00000  39423.000000  39423.000000\n",
       "mean       0.764407      2.550339      2.57020      3.846815   3604.924993\n",
       "std        0.427776      1.025026      1.69408      1.730263   3450.264882\n",
       "min        0.200000      0.000000      0.00000      0.000000    326.000000\n",
       "25%        0.400000      2.000000      1.00000      2.000000    935.000000\n",
       "50%        0.700000      2.000000      3.00000      4.000000   2320.000000\n",
       "75%        1.020000      3.000000      4.00000      5.000000   5051.000000\n",
       "max        2.220000      4.000000      6.00000      7.000000  15915.000000"
      ]
     },
     "metadata": {},
     "output_type": "display_data"
    },
    {
     "data": {
      "image/png": "[encoded data removed]",
      "text/plain": [
       "<Figure size 432x288 with 2 Axes>"
      ]
     },
     "metadata": {
      "needs_background": "light"
     },
     "output_type": "display_data"
    }
   ],
   "source": [
    "display(train_cl.describe())\n",
    "plt.show(sns.heatmap(train_cl.corr(),cmap=\"YlGnBu\"))"
   ]
  },
  {
   "cell_type": "code",
   "execution_count": 83,
   "metadata": {},
   "outputs": [],
   "source": [
    "#Models\n",
    "from sklearn.linear_model import OrthogonalMatchingPursuit, LinearRegression\n",
    "from sklearn import linear_model\n",
    "from sklearn.neighbors import KNeighborsRegressor\n",
    "from sklearn.tree import DecisionTreeRegressor\n",
    "from sklearn.neighbors import RadiusNeighborsRegressor\n",
    "from sklearn.svm import LinearSVR\n",
    "from sklearn.ensemble import GradientBoostingRegressor\n",
    "from sklearn.ensemble import RandomForestRegressor\n",
    "from sklearn.ensemble import ExtraTreesRegressor\n",
    "models = {\n",
    "    \"DecisionTreeRegressor\" : DecisionTreeRegressor(),\n",
    "    \"GradientBoostingRegressor\" : GradientBoostingRegressor(random_state=0),\n",
    "    \"KNeighborsRegressor\": KNeighborsRegressor(),\n",
    "    \"LinearSVR\" : LinearSVR(),\n",
    "    \"OrthogonalMatchingPursuit\" : OrthogonalMatchingPursuit(),\n",
    "    \"LinearRegression\" : LinearRegression(),\n",
    "    \"RandomForestRegressor\" : RandomForestRegressor(),\n",
    "    \"ExtraTreesRegressor\" : ExtraTreesRegressor()\n",
    "}"
   ]
  },
  {
   "cell_type": "code",
   "execution_count": 32,
   "metadata": {},
   "outputs": [],
   "source": [
    "from sklearn.model_selection import train_test_split\n",
    "from sklearn.preprocessing import StandardScaler, Normalizer\n",
    "from sklearn.metrics import mean_squared_error\n",
    "from sklearn.metrics import r2_score\n",
    "X = train_cl.copy()\n",
    "X.drop('price', axis=1, inplace = True)\n",
    "y = train_cl['price']\n",
    "X_train, X_test, y_train, y_test = train_test_split(X,y,test_size = 0.2)"
   ]
  },
  {
   "cell_type": "code",
   "execution_count": 33,
   "metadata": {},
   "outputs": [
    {
     "name": "stdout",
     "output_type": "stream",
     "text": [
      "Entrenando DecisionTreeRegressor\n",
      "He acabado :) \n",
      "Entrenando GradientBoostingRegressor\n",
      "He acabado :) \n",
      "Entrenando KNeighborsRegressor\n",
      "He acabado :) \n",
      "Entrenando LinearSVR\n",
      "He acabado :) \n",
      "Entrenando OrthogonalMatchingPursuit\n",
      "He acabado :) \n",
      "Entrenando LinearRegression\n",
      "He acabado :) \n",
      "Entrenando RandomForestRegressor\n",
      "He acabado :) \n",
      "Entrenando ExtraTreesRegressor\n",
      "He acabado :) \n",
      "-------DecisionTreeRegressor-------\n",
      "320329.6070975054\n",
      "-------GradientBoostingRegressor-------\n",
      "312536.3722061619\n",
      "-------KNeighborsRegressor-------\n",
      "389978.70317818644\n",
      "-------LinearSVR-------\n",
      "2959205.31663385\n",
      "-------OrthogonalMatchingPursuit-------\n",
      "1838287.3301923343\n",
      "-------LinearRegression-------\n",
      "1468573.4673559132\n",
      "-------RandomForestRegressor-------\n",
      "245716.03134180157\n",
      "-------ExtraTreesRegressor-------\n",
      "276288.3446325296\n",
      "245716.03134180157\n"
     ]
    }
   ],
   "source": [
    "#nada\n",
    "X = train_cl.copy()\n",
    "X.drop('price', axis=1, inplace = True)\n",
    "y = train_cl['price']\n",
    "X_train, X_test, y_train, y_test = train_test_split(X,y,test_size = 0.2)\n",
    "\n",
    "for name, model in models.items():\n",
    "    print(f\"Entrenando {name}\")\n",
    "    model.fit(X_train, y_train)\n",
    "    print(\"He acabado :) \")\n",
    "vale = []\n",
    "for name, model in models.items():\n",
    "    y_pred = model.predict(X_test)\n",
    "    print(f\"-------{name}-------\")\n",
    "    print (mean_squared_error(y_test, y_pred))\n",
    "    vale.append(mean_squared_error(y_test, y_pred))\n",
    "print(min(vale))"
   ]
  },
  {
   "cell_type": "code",
   "execution_count": 34,
   "metadata": {},
   "outputs": [
    {
     "name": "stdout",
     "output_type": "stream",
     "text": [
      "Entrenando DecisionTreeRegressor\n",
      "He acabado :) \n",
      "Entrenando GradientBoostingRegressor\n",
      "He acabado :) \n",
      "Entrenando KNeighborsRegressor\n",
      "He acabado :) \n",
      "Entrenando LinearSVR\n",
      "He acabado :) \n",
      "Entrenando OrthogonalMatchingPursuit\n",
      "He acabado :) \n",
      "Entrenando LinearRegression\n",
      "He acabado :) \n",
      "Entrenando RandomForestRegressor\n",
      "He acabado :) \n",
      "Entrenando ExtraTreesRegressor\n",
      "He acabado :) \n",
      "-------DecisionTreeRegressor-------\n",
      "314221.38620392914\n",
      "-------GradientBoostingRegressor-------\n",
      "331445.84185594233\n",
      "-------KNeighborsRegressor-------\n",
      "376297.03080279013\n",
      "-------LinearSVR-------\n",
      "3015333.2305666357\n",
      "-------OrthogonalMatchingPursuit-------\n",
      "1848649.8976131447\n",
      "-------LinearRegression-------\n",
      "1475527.626038648\n",
      "-------RandomForestRegressor-------\n",
      "237345.22521791517\n",
      "-------ExtraTreesRegressor-------\n",
      "256251.0400301637\n"
     ]
    }
   ],
   "source": [
    "#Prelim\n",
    "X = train_cl.copy()\n",
    "X.drop('price', axis=1, inplace = True)\n",
    "y = train_cl['price']\n",
    "X_train, X_test, y_train, y_test = train_test_split(X,y,test_size = 0.2)\n",
    "\n",
    "for name, model in models.items():\n",
    "    print(f\"Entrenando {name}\")\n",
    "    model.fit(X_train, y_train)\n",
    "    print(\"He acabado :) \")\n",
    "vale = []\n",
    "for name, model in models.items():\n",
    "    y_pred = model.predict(X_test)\n",
    "    print(f\"-------{name}-------\")\n",
    "    print (mean_squared_error(y_test, y_pred))\n",
    "    vale.append(mean_squared_error(y_test, y_pred))\n"
   ]
  },
  {
   "cell_type": "code",
   "execution_count": 35,
   "metadata": {},
   "outputs": [],
   "source": [
    "models_2 = {\n",
    "    \"DecisionTreeRegressor\" : DecisionTreeRegressor(),\n",
    "    \"GradientBoostingRegressor\" : GradientBoostingRegressor(random_state=0),\n",
    "    \"ExtraTreesRegressor\" : ExtraTreesRegressor(),\n",
    "    \"RandomForestRegressor\" : RandomForestRegressor()\n",
    "}"
   ]
  },
  {
   "cell_type": "code",
   "execution_count": 36,
   "metadata": {},
   "outputs": [
    {
     "name": "stdout",
     "output_type": "stream",
     "text": [
      "DecisionTreeRegressor mean-305769.44940583245\n",
      "GradientBoostingRegressor mean-330645.9225811219\n",
      "ExtraTreesRegressor mean-271156.57986936974\n",
      "RandomForestRegressor mean-248153.75347793862\n",
      "max -248153.75347793862\n"
     ]
    }
   ],
   "source": [
    "import numpy as np\n",
    "from sklearn.model_selection import cross_val_score\n",
    "\n",
    "#Nothing\n",
    "\n",
    "values = []\n",
    "X = train_cl.copy()\n",
    "X.drop('price', axis=1, inplace = True)\n",
    "y = train_cl['price']\n",
    "X_train, X_test, y_train, y_test = train_test_split(X,y,test_size = 0.2)\n",
    "for name, model in models_2.items():\n",
    "    scores = cross_val_score(model,X,y, cv=10, scoring='neg_mean_squared_error')\n",
    "\n",
    "    print(f\"{name} mean{np.mean(scores)}\")\n",
    "    values.append(np.mean(scores))\n",
    "print('max',max(values))"
   ]
  },
  {
   "cell_type": "code",
   "execution_count": 37,
   "metadata": {},
   "outputs": [
    {
     "name": "stdout",
     "output_type": "stream",
     "text": [
      "DecisionTreeRegressor mean-303999.6098337804\n",
      "GradientBoostingRegressor mean-330645.9225811219\n",
      "ExtraTreesRegressor mean-270991.8518299151\n",
      "RandomForestRegressor mean-248512.90616690996\n",
      "max -248512.90616690996\n"
     ]
    }
   ],
   "source": [
    "#Normalizer\n",
    "values = []\n",
    "X = train_cl.copy()\n",
    "X.drop('price', axis=1, inplace = True)\n",
    "y = train_cl['price']\n",
    "Normalizer(X)\n",
    "X_train, X_test, y_train, y_test = train_test_split(X,y,test_size = 0.2)\n",
    "for name, model in models_2.items():\n",
    "    scores = cross_val_score(model,X,y, cv=10, scoring='neg_mean_squared_error')\n",
    "\n",
    "    print(f\"{name} mean{np.mean(scores)}\")\n",
    "    values.append(np.mean(scores))\n",
    "print('max',max(values))"
   ]
  },
  {
   "cell_type": "code",
   "execution_count": 38,
   "metadata": {},
   "outputs": [
    {
     "name": "stdout",
     "output_type": "stream",
     "text": [
      "DecisionTreeRegressor mean-305453.32849926024\n",
      "GradientBoostingRegressor mean-330645.9225811219\n",
      "ExtraTreesRegressor mean-270916.2923143982\n",
      "RandomForestRegressor mean-248011.33611686033\n",
      "max -248011.33611686033\n"
     ]
    }
   ],
   "source": [
    "#Standar Scaler\n",
    "values = []\n",
    "X = train_cl.copy()\n",
    "X.drop('price', axis=1, inplace = True)\n",
    "y = train_cl['price']\n",
    "StandardScaler(X)\n",
    "X_train, X_test, y_train, y_test = train_test_split(X,y,test_size = 0.2)\n",
    "for name, model in models_2.items():\n",
    "    scores = cross_val_score(model,X,y, cv=10, scoring='neg_mean_squared_error')\n",
    "\n",
    "    print(f\"{name} mean{np.mean(scores)}\")\n",
    "    values.append(np.mean(scores))\n",
    "print('max',max(values))"
   ]
  },
  {
   "cell_type": "code",
   "execution_count": 39,
   "metadata": {},
   "outputs": [
    {
     "name": "stdout",
     "output_type": "stream",
     "text": [
      "DecisionTreeRegressor mean-304754.4414642365\n",
      "GradientBoostingRegressor mean-330645.9225811219\n",
      "ExtraTreesRegressor mean-270933.1675592023\n",
      "RandomForestRegressor mean-248288.09621216962\n",
      "max -248288.09621216962\n"
     ]
    }
   ],
   "source": [
    "#NOrmalizer, Satndar Scaler\n",
    "values = []\n",
    "X = train_cl.copy()\n",
    "X.drop('price', axis=1, inplace = True)\n",
    "y = train_cl['price']\n",
    "Normalizer(X)\n",
    "StandardScaler(X)\n",
    "X_train, X_test, y_train, y_test = train_test_split(X,y,test_size = 0.2)\n",
    "for name, model in models_2.items():\n",
    "    scores = cross_val_score(model,X,y, cv=10, scoring='neg_mean_squared_error')\n",
    "\n",
    "    print(f\"{name} mean{np.mean(scores)}\")\n",
    "    values.append(np.mean(scores))\n",
    "print('max',max(values))"
   ]
  },
  {
   "cell_type": "code",
   "execution_count": 67,
   "metadata": {},
   "outputs": [],
   "source": [
    "le = preprocessing.LabelEncoder()\n",
    "predict[\"cut_le\"] = le.fit_transform(predict[\"cut\"])\n",
    "predict[\"color_le\"] = le.fit_transform(predict[\"color\"])\n",
    "predict[\"clarity_le\"] = le.fit_transform(predict[\"clarity\"])\n",
    "prd = predict[['carat','cut_le','color_le','clarity_le']]"
   ]
  },
  {
   "cell_type": "code",
   "execution_count": 90,
   "metadata": {},
   "outputs": [
    {
     "name": "stdout",
     "output_type": "stream",
     "text": [
      "217261.11353649944\n",
      "nan\n"
     ]
    }
   ],
   "source": [
    "X = train_cl.copy()\n",
    "X.drop('price', axis=1, inplace = True)\n",
    "y = train_cl['price']\n",
    "Normalizer(X)\n",
    "StandardScaler(X)\n",
    "X_train, X_test, y_train, y_test = train_test_split(X,y,test_size = 0.000000000000001)\n",
    "model = RandomForestRegressor()\n",
    "model.fit(X_train,y_train)\n",
    "y_pred = model.predict(X_test)\n",
    "print (mean_squared_error(y_test, y_pred))\n",
    "\n",
    "print(r2_score(y_test,y_pred))"
   ]
  },
  {
   "cell_type": "code",
   "execution_count": 91,
   "metadata": {},
   "outputs": [
    {
     "data": {
      "text/html": [
       "<div>\n",
       "<style scoped>\n",
       "    .dataframe tbody tr th:only-of-type {\n",
       "        vertical-align: middle;\n",
       "    }\n",
       "\n",
       "    .dataframe tbody tr th {\n",
       "        vertical-align: top;\n",
       "    }\n",
       "\n",
       "    .dataframe thead th {\n",
       "        text-align: right;\n",
       "    }\n",
       "</style>\n",
       "<table border=\"1\" class=\"dataframe\">\n",
       "  <thead>\n",
       "    <tr style=\"text-align: right;\">\n",
       "      <th></th>\n",
       "      <th>y_pred</th>\n",
       "      <th>gt</th>\n",
       "    </tr>\n",
       "  </thead>\n",
       "  <tbody>\n",
       "    <tr>\n",
       "      <th>21360</th>\n",
       "      <td>3942.887231</td>\n",
       "      <td>4409</td>\n",
       "    </tr>\n",
       "  </tbody>\n",
       "</table>\n",
       "</div>"
      ],
      "text/plain": [
       "            y_pred    gt\n",
       "21360  3942.887231  4409"
      ]
     },
     "execution_count": 91,
     "metadata": {},
     "output_type": "execute_result"
    }
   ],
   "source": [
    "result = pd.DataFrame({\n",
    "    \"y_pred\":y_pred,\n",
    "    \"gt\":y_test\n",
    "})\n",
    "result"
   ]
  },
  {
   "cell_type": "code",
   "execution_count": 92,
   "metadata": {},
   "outputs": [],
   "source": [
    "y_pred = model.predict(prd)"
   ]
  },
  {
   "cell_type": "code",
   "execution_count": 93,
   "metadata": {},
   "outputs": [
    {
     "data": {
      "text/plain": [
       "array([ 737.55383333, 6028.84922222, 5808.43019841, ..., 2442.81612193,\n",
       "       1311.89580801, 1060.86466667])"
      ]
     },
     "execution_count": 93,
     "metadata": {},
     "output_type": "execute_result"
    }
   ],
   "source": [
    "y_pred"
   ]
  },
  {
   "cell_type": "code",
   "execution_count": 94,
   "metadata": {},
   "outputs": [
    {
     "data": {
      "text/plain": [
       "13485"
      ]
     },
     "execution_count": 94,
     "metadata": {},
     "output_type": "execute_result"
    }
   ],
   "source": [
    "len(y_pred)"
   ]
  },
  {
   "cell_type": "code",
   "execution_count": 95,
   "metadata": {},
   "outputs": [],
   "source": [
    "result = pd.DataFrame({\n",
    "    \"price\":y_pred,\n",
    "})\n",
    "result.reset_index(inplace=True)"
   ]
  },
  {
   "cell_type": "code",
   "execution_count": 96,
   "metadata": {},
   "outputs": [],
   "source": [
    "result.rename(columns={'index': 'id'}, inplace=True)"
   ]
  },
  {
   "cell_type": "code",
   "execution_count": 97,
   "metadata": {},
   "outputs": [
    {
     "data": {
      "text/html": [
       "<div>\n",
       "<style scoped>\n",
       "    .dataframe tbody tr th:only-of-type {\n",
       "        vertical-align: middle;\n",
       "    }\n",
       "\n",
       "    .dataframe tbody tr th {\n",
       "        vertical-align: top;\n",
       "    }\n",
       "\n",
       "    .dataframe thead th {\n",
       "        text-align: right;\n",
       "    }\n",
       "</style>\n",
       "<table border=\"1\" class=\"dataframe\">\n",
       "  <thead>\n",
       "    <tr style=\"text-align: right;\">\n",
       "      <th></th>\n",
       "      <th>id</th>\n",
       "      <th>price</th>\n",
       "    </tr>\n",
       "  </thead>\n",
       "  <tbody>\n",
       "    <tr>\n",
       "      <th>0</th>\n",
       "      <td>0</td>\n",
       "      <td>737.553833</td>\n",
       "    </tr>\n",
       "    <tr>\n",
       "      <th>1</th>\n",
       "      <td>1</td>\n",
       "      <td>6028.849222</td>\n",
       "    </tr>\n",
       "    <tr>\n",
       "      <th>2</th>\n",
       "      <td>2</td>\n",
       "      <td>5808.430198</td>\n",
       "    </tr>\n",
       "    <tr>\n",
       "      <th>3</th>\n",
       "      <td>3</td>\n",
       "      <td>1065.377440</td>\n",
       "    </tr>\n",
       "    <tr>\n",
       "      <th>4</th>\n",
       "      <td>4</td>\n",
       "      <td>3251.012891</td>\n",
       "    </tr>\n",
       "    <tr>\n",
       "      <th>...</th>\n",
       "      <td>...</td>\n",
       "      <td>...</td>\n",
       "    </tr>\n",
       "    <tr>\n",
       "      <th>13480</th>\n",
       "      <td>13480</td>\n",
       "      <td>13850.340556</td>\n",
       "    </tr>\n",
       "    <tr>\n",
       "      <th>13481</th>\n",
       "      <td>13481</td>\n",
       "      <td>894.048907</td>\n",
       "    </tr>\n",
       "    <tr>\n",
       "      <th>13482</th>\n",
       "      <td>13482</td>\n",
       "      <td>2442.816122</td>\n",
       "    </tr>\n",
       "    <tr>\n",
       "      <th>13483</th>\n",
       "      <td>13483</td>\n",
       "      <td>1311.895808</td>\n",
       "    </tr>\n",
       "    <tr>\n",
       "      <th>13484</th>\n",
       "      <td>13484</td>\n",
       "      <td>1060.864667</td>\n",
       "    </tr>\n",
       "  </tbody>\n",
       "</table>\n",
       "<p>13485 rows × 2 columns</p>\n",
       "</div>"
      ],
      "text/plain": [
       "          id         price\n",
       "0          0    737.553833\n",
       "1          1   6028.849222\n",
       "2          2   5808.430198\n",
       "3          3   1065.377440\n",
       "4          4   3251.012891\n",
       "...      ...           ...\n",
       "13480  13480  13850.340556\n",
       "13481  13481    894.048907\n",
       "13482  13482   2442.816122\n",
       "13483  13483   1311.895808\n",
       "13484  13484   1060.864667\n",
       "\n",
       "[13485 rows x 2 columns]"
      ]
     },
     "execution_count": 97,
     "metadata": {},
     "output_type": "execute_result"
    }
   ],
   "source": [
    "result"
   ]
  },
  {
   "cell_type": "code",
   "execution_count": 98,
   "metadata": {},
   "outputs": [],
   "source": [
    "result.to_csv('result_RDALL.csv', index = False)"
   ]
  },
  {
   "cell_type": "code",
   "execution_count": 105,
   "metadata": {},
   "outputs": [
    {
     "name": "stdout",
     "output_type": "stream",
     "text": [
      "DecisionTreeRegressor mean-452116.1681809934\n",
      "GradientBoostingRegressor mean-466016.31643657555\n",
      "KNeighborsRegressor mean-534528.8605120395\n",
      "RandomForestRegressor mean-358468.29211953375\n",
      "max -358468.29211953375\n"
     ]
    }
   ],
   "source": [
    "import numpy as np\n",
    "from sklearn.model_selection import cross_val_score\n",
    "\n",
    "#Nothing\n",
    "trainc2 = train[['carat', 'cut_le', 'color_le', 'clarity_le','price']]\n",
    "values = []\n",
    "X = trainc2.copy()\n",
    "X.drop('price', axis=1, inplace = True)\n",
    "y = trainc2['price']\n",
    "X_train, X_test, y_train, y_test = train_test_split(X,y,test_size = 0.2)\n",
    "for name, model in models_2.items():\n",
    "    scores = cross_val_score(model,X,y, cv=10, scoring='neg_mean_squared_error')\n",
    "\n",
    "    print(f\"{name} mean{np.mean(scores)}\")\n",
    "    values.append(np.mean(scores))\n",
    "print('max',max(values))"
   ]
  },
  {
   "cell_type": "code",
   "execution_count": 41,
   "metadata": {},
   "outputs": [
    {
     "name": "stdout",
     "output_type": "stream",
     "text": [
      "DecisionTreeRegressor mean-454600.7127259934\n",
      "GradientBoostingRegressor mean-466016.31643657555\n",
      "ExtraTreesRegressor mean-388439.0805804594\n",
      "RandomForestRegressor mean-360593.55856865365\n",
      "max -360593.55856865365\n"
     ]
    }
   ],
   "source": [
    "#Nothing\n",
    "trainc2 = train[['carat', 'cut_le', 'color_le', 'clarity_le','price']]\n",
    "values = []\n",
    "X = trainc2.copy()\n",
    "X.drop('price', axis=1, inplace = True)\n",
    "y = trainc2['price']\n",
    "Normalizer(X)\n",
    "StandardScaler(X)\n",
    "X_train, X_test, y_train, y_test = train_test_split(X,y,test_size = 0.2)\n",
    "for name, model in models_2.items():\n",
    "    scores = cross_val_score(model,X,y, cv=10, scoring='neg_mean_squared_error')\n",
    "\n",
    "    print(f\"{name} mean{np.mean(scores)}\")\n",
    "    values.append(np.mean(scores))\n",
    "print('max',max(values))"
   ]
  },
  {
   "cell_type": "code",
   "execution_count": 46,
   "metadata": {},
   "outputs": [
    {
     "name": "stdout",
     "output_type": "stream",
     "text": [
      "355923.9591479073\n",
      "0.977900096042487\n"
     ]
    }
   ],
   "source": [
    "X = trainc2.copy()\n",
    "X.drop('price', axis=1, inplace = True)\n",
    "y = trainc2['price']\n",
    "Normalizer(X)\n",
    "StandardScaler(X)\n",
    "X_train, X_test, y_train, y_test = train_test_split(X,y,test_size = 0.20)\n",
    "model = RandomForestRegressor()\n",
    "model.fit(X_train,y_train)\n",
    "y_pred = model.predict(X_test)\n",
    "print (mean_squared_error(y_test, y_pred))\n",
    "\n",
    "print(r2_score(y_test,y_pred))"
   ]
  },
  {
   "cell_type": "code",
   "execution_count": 47,
   "metadata": {},
   "outputs": [
    {
     "name": "stdout",
     "output_type": "stream",
     "text": [
      "148622.471245472\n",
      "0.9906766111919376\n"
     ]
    }
   ],
   "source": [
    "X = trainc2.copy()\n",
    "X.drop('price', axis=1, inplace = True)\n",
    "y = trainc2['price']\n",
    "Normalizer(X)\n",
    "StandardScaler(X)\n",
    "model = RandomForestRegressor()\n",
    "model.fit(X,y)\n",
    "y_pred = model.predict(X)\n",
    "print (mean_squared_error(y, y_pred))\n",
    "\n",
    "print(r2_score(y,y_pred))"
   ]
  },
  {
   "cell_type": "code",
   "execution_count": null,
   "metadata": {},
   "outputs": [],
   "source": [
    "#Made on google colab using hyperot.\n",
    "\"\"\"seed=2\n",
    "def objective(params):\n",
    "    est=int(params['n_estimators'])\n",
    "    md=int(params['max_depth'])\n",
    "    msl=int(params['min_samples_leaf'])\n",
    "    mss=int(params['min_samples_split'])\n",
    "    model=RandomForestRegressor(n_estimators=est,max_depth=md,min_samples_leaf=msl,min_samples_split=mss)\n",
    "    model.fit(train_X,train_y)\n",
    "    pred=model.predict(val_X)\n",
    "    score=mean_squared_error(val_y,pred)\n",
    "    return score\n",
    "\n",
    "def optimize(trial):\n",
    "    params={'n_estimators':hp.uniform('n_estimators',100,500),\n",
    "           'max_depth':hp.uniform('max_depth',5,20),\n",
    "           'min_samples_leaf':hp.uniform('min_samples_leaf',1,5),\n",
    "           'min_samples_split':hp.uniform('min_samples_split',2,6)}\n",
    "    best=fmin(fn=objective,space=params,algo=tpe.suggest,trials=trial,max_evals=500,rstate=np.random.RandomState(seed))\n",
    "    return best\n",
    "\n",
    "trial=Trials()\n",
    "best=optimize(trial)\"\"\"\n"
   ]
  },
  {
   "cell_type": "markdown",
   "metadata": {},
   "source": [
    "100%|██████████| 500/500 [1:36:43<00:00, 11.61s/it, best loss: 311128.19853141403]\n",
    "{'max_depth': 12.050866613924743, 'min_samples_leaf': 1.6710877334191316, 'min_samples_split': 4.08657698223005, 'n_estimators': 488.4132461761551}"
   ]
  },
  {
   "cell_type": "code",
   "execution_count": 57,
   "metadata": {},
   "outputs": [
    {
     "name": "stdout",
     "output_type": "stream",
     "text": [
      "319742.8923898985\n",
      "0.9801637518624421\n"
     ]
    }
   ],
   "source": [
    "#parameter tunning hyperopt random forest\n",
    "\n",
    "X = trainc2.copy()\n",
    "X.drop('price', axis=1, inplace = True)\n",
    "y = trainc2['price']\n",
    "Normalizer(X)\n",
    "StandardScaler(X)\n",
    "X_train, X_test, y_train, y_test = train_test_split(X,y,test_size = 0.20)\n",
    "model=RandomForestRegressor(n_estimators=488,max_depth=12,min_samples_split=4,min_samples_leaf=1)\n",
    "model.fit(X_train,y_train)\n",
    "y_pred = model.predict(X_test)\n",
    "print (mean_squared_error(y_test, y_pred))\n",
    "\n",
    "print(r2_score(y_test,y_pred))"
   ]
  },
  {
   "cell_type": "code",
   "execution_count": 59,
   "metadata": {},
   "outputs": [
    {
     "name": "stdout",
     "output_type": "stream",
     "text": [
      "223280.5629271071\n",
      "0.9859931578044199\n"
     ]
    }
   ],
   "source": [
    "#parameter tunning hyperopt random forest\n",
    "X = trainc2.copy()\n",
    "X.drop('price', axis=1, inplace = True)\n",
    "y = trainc2['price']\n",
    "Normalizer(X)\n",
    "StandardScaler(X)\n",
    "model=RandomForestRegressor(n_estimators=488,max_depth=12,min_samples_split=4,min_samples_leaf=1)\n",
    "model.fit(X,y)\n",
    "y_pred = model.predict(X)\n",
    "print (mean_squared_error(y, y_pred))\n",
    "\n",
    "print(r2_score(y,y_pred))"
   ]
  },
  {
   "cell_type": "code",
   "execution_count": 82,
   "metadata": {},
   "outputs": [
    {
     "name": "stdout",
     "output_type": "stream",
     "text": [
      "130285.24184302082\n",
      "0.9918269427531677\n"
     ]
    }
   ],
   "source": [
    "# ExtraTreesRegressor\n",
    "\n",
    "X = trainc2.copy()\n",
    "X.drop('price', axis=1, inplace = True)\n",
    "y = trainc2['price']\n",
    "Normalizer(X)\n",
    "StandardScaler(X)\n",
    "model = ExtraTreesRegressor()\n",
    "model.fit(X,y)\n",
    "y_pred = model.predict(X)\n",
    "print (mean_squared_error(y, y_pred))\n",
    "\n",
    "print(r2_score(y,y_pred))"
   ]
  },
  {
   "cell_type": "code",
   "execution_count": 64,
   "metadata": {},
   "outputs": [
    {
     "name": "stdout",
     "output_type": "stream",
     "text": [
      "231116.98714348843\n",
      "0.9855015630326336\n"
     ]
    }
   ],
   "source": [
    "#parameter tunning hyperopt ExtraTreesRegressor\n",
    "\n",
    "X = trainc2.copy()\n",
    "X.drop('price', axis=1, inplace = True)\n",
    "y = trainc2['price']\n",
    "Normalizer(X)\n",
    "StandardScaler(X)\n",
    "model=RandomForestRegressor(n_estimators=489,max_depth=12,min_samples_split=4,min_samples_leaf=2)\n",
    "model.fit(X,y)\n",
    "y_pred = model.predict(X)\n",
    "print (mean_squared_error(y, y_pred))\n",
    "\n",
    "print(r2_score(y,y_pred))"
   ]
  },
  {
   "cell_type": "code",
   "execution_count": 75,
   "metadata": {},
   "outputs": [],
   "source": [
    "\n",
    "\n",
    "y_pred = model.predict(prd)"
   ]
  },
  {
   "cell_type": "code",
   "execution_count": 76,
   "metadata": {},
   "outputs": [
    {
     "data": {
      "text/plain": [
       "13485"
      ]
     },
     "execution_count": 76,
     "metadata": {},
     "output_type": "execute_result"
    }
   ],
   "source": [
    "len(y_pred)"
   ]
  },
  {
   "cell_type": "code",
   "execution_count": 77,
   "metadata": {},
   "outputs": [],
   "source": [
    "result = pd.DataFrame({\n",
    "    \"price\":y_pred,\n",
    "})\n",
    "result.reset_index(inplace=True)"
   ]
  },
  {
   "cell_type": "code",
   "execution_count": 78,
   "metadata": {},
   "outputs": [],
   "source": [
    "result.rename(columns={'index': 'id'}, inplace=True)"
   ]
  },
  {
   "cell_type": "code",
   "execution_count": 79,
   "metadata": {},
   "outputs": [
    {
     "data": {
      "text/html": [
       "<div>\n",
       "<style scoped>\n",
       "    .dataframe tbody tr th:only-of-type {\n",
       "        vertical-align: middle;\n",
       "    }\n",
       "\n",
       "    .dataframe tbody tr th {\n",
       "        vertical-align: top;\n",
       "    }\n",
       "\n",
       "    .dataframe thead th {\n",
       "        text-align: right;\n",
       "    }\n",
       "</style>\n",
       "<table border=\"1\" class=\"dataframe\">\n",
       "  <thead>\n",
       "    <tr style=\"text-align: right;\">\n",
       "      <th></th>\n",
       "      <th>id</th>\n",
       "      <th>price</th>\n",
       "    </tr>\n",
       "  </thead>\n",
       "  <tbody>\n",
       "    <tr>\n",
       "      <th>0</th>\n",
       "      <td>0</td>\n",
       "      <td>694.000000</td>\n",
       "    </tr>\n",
       "    <tr>\n",
       "      <th>1</th>\n",
       "      <td>1</td>\n",
       "      <td>6023.500000</td>\n",
       "    </tr>\n",
       "    <tr>\n",
       "      <th>2</th>\n",
       "      <td>2</td>\n",
       "      <td>5713.000000</td>\n",
       "    </tr>\n",
       "    <tr>\n",
       "      <th>3</th>\n",
       "      <td>3</td>\n",
       "      <td>1021.594722</td>\n",
       "    </tr>\n",
       "    <tr>\n",
       "      <th>4</th>\n",
       "      <td>4</td>\n",
       "      <td>3255.750000</td>\n",
       "    </tr>\n",
       "    <tr>\n",
       "      <th>...</th>\n",
       "      <td>...</td>\n",
       "      <td>...</td>\n",
       "    </tr>\n",
       "    <tr>\n",
       "      <th>13480</th>\n",
       "      <td>13480</td>\n",
       "      <td>14874.330000</td>\n",
       "    </tr>\n",
       "    <tr>\n",
       "      <th>13481</th>\n",
       "      <td>13481</td>\n",
       "      <td>893.617021</td>\n",
       "    </tr>\n",
       "    <tr>\n",
       "      <th>13482</th>\n",
       "      <td>13482</td>\n",
       "      <td>2476.833333</td>\n",
       "    </tr>\n",
       "    <tr>\n",
       "      <th>13483</th>\n",
       "      <td>13483</td>\n",
       "      <td>1319.800000</td>\n",
       "    </tr>\n",
       "    <tr>\n",
       "      <th>13484</th>\n",
       "      <td>13484</td>\n",
       "      <td>1060.250000</td>\n",
       "    </tr>\n",
       "  </tbody>\n",
       "</table>\n",
       "<p>13485 rows × 2 columns</p>\n",
       "</div>"
      ],
      "text/plain": [
       "          id         price\n",
       "0          0    694.000000\n",
       "1          1   6023.500000\n",
       "2          2   5713.000000\n",
       "3          3   1021.594722\n",
       "4          4   3255.750000\n",
       "...      ...           ...\n",
       "13480  13480  14874.330000\n",
       "13481  13481    893.617021\n",
       "13482  13482   2476.833333\n",
       "13483  13483   1319.800000\n",
       "13484  13484   1060.250000\n",
       "\n",
       "[13485 rows x 2 columns]"
      ]
     },
     "execution_count": 79,
     "metadata": {},
     "output_type": "execute_result"
    }
   ],
   "source": [
    "result"
   ]
  },
  {
   "cell_type": "code",
   "execution_count": 80,
   "metadata": {},
   "outputs": [],
   "source": [
    "result.to_csv('resultet2.csv', index = False)"
   ]
  },
  {
   "cell_type": "code",
   "execution_count": 87,
   "metadata": {},
   "outputs": [],
   "source": [
    "X = train[[\"carat\",\"depth\",\"table\",\"x\",\"y\",\"z\",\"cut_le\",\"color_le\",\"clarity_le\"]]\n",
    "y = train['price']"
   ]
  },
  {
   "cell_type": "code",
   "execution_count": 90,
   "metadata": {},
   "outputs": [
    {
     "name": "stdout",
     "output_type": "stream",
     "text": [
      "Entrenando DecisionTreeRegressor\n",
      "He acabado :) \n",
      "Entrenando GradientBoostingRegressor\n",
      "He acabado :) \n",
      "Entrenando KNeighborsRegressor\n",
      "He acabado :) \n",
      "Entrenando LinearSVR\n",
      "He acabado :) \n",
      "Entrenando OrthogonalMatchingPursuit\n",
      "He acabado :) \n",
      "Entrenando LinearRegression\n",
      "He acabado :) \n",
      "Entrenando RandomForestRegressor\n",
      "He acabado :) \n",
      "Entrenando ExtraTreesRegressor\n",
      "He acabado :) \n",
      "-------DecisionTreeRegressor-------\n",
      "563089.9246075887\n",
      "-------GradientBoostingRegressor-------\n",
      "480327.0363965079\n",
      "-------KNeighborsRegressor-------\n",
      "946634.9691014708\n",
      "-------LinearSVR-------\n",
      "3513089.3666772204\n",
      "-------OrthogonalMatchingPursuit-------\n",
      "2477345.633571918\n",
      "-------LinearRegression-------\n",
      "1912228.9563067702\n",
      "-------RandomForestRegressor-------\n",
      "306458.56056244235\n",
      "-------ExtraTreesRegressor-------\n",
      "303434.59674369363\n",
      "303434.59674369363\n"
     ]
    }
   ],
   "source": [
    "X_train, X_test, y_train, y_test = train_test_split(X,y,test_size = 0.2)\n",
    "\n",
    "for name, model in models.items():\n",
    "    print(f\"Entrenando {name}\")\n",
    "    model.fit(X_train, y_train)\n",
    "    print(\"He acabado :) \")\n",
    "vale = []\n",
    "for name, model in models.items():\n",
    "    y_pred = model.predict(X_test)\n",
    "    print(f\"-------{name}-------\")\n",
    "    print (mean_squared_error(y_test, y_pred))\n",
    "    vale.append(mean_squared_error(y_test, y_pred))\n",
    "print(min(vale))"
   ]
  },
  {
   "cell_type": "code",
   "execution_count": 94,
   "metadata": {},
   "outputs": [
    {
     "name": "stdout",
     "output_type": "stream",
     "text": [
      "DecisionTreeRegressor mean-585413.9584385011\n",
      "GradientBoostingRegressor mean-465092.4342523903\n",
      "ExtraTreesRegressor mean-303115.9906692492\n",
      "RandomForestRegressor mean-315826.8290622417\n",
      "max -303115.9906692492\n"
     ]
    }
   ],
   "source": [
    "values = []\n",
    "X = train[[\"carat\",\"depth\",\"table\",\"x\",\"y\",\"z\",\"cut_le\",\"color_le\",\"clarity_le\"]]\n",
    "y = train['price']\n",
    "X_train, X_test, y_train, y_test = train_test_split(X,y,test_size = 0.2)\n",
    "for name, model in models_2.items():\n",
    "    scores = cross_val_score(model,X,y, cv=10, scoring='neg_mean_squared_error')\n",
    "\n",
    "    print(f\"{name} mean{np.mean(scores)}\")\n",
    "    values.append(np.mean(scores))\n",
    "print('max',max(values))"
   ]
  },
  {
   "cell_type": "code",
   "execution_count": null,
   "metadata": {},
   "outputs": [],
   "source": [
    "DecisionTreeRegressor mean-305769.44940583245\n",
    "GradientBoostingRegressor mean-330645.9225811219\n",
    "ExtraTreesRegressor mean-271156.57986936974\n",
    "RandomForestRegressor mean-248153.75347793862\n",
    "max -248153.75347793862"
   ]
  },
  {
   "cell_type": "code",
   "execution_count": 100,
   "metadata": {},
   "outputs": [],
   "source": [
    "from scipy import stats\n",
    "import numpy as np\n",
    "train3 = train[[\"carat\",\"depth\",\"table\",\"x\",\"y\",\"z\",\"cut_le\",\"color_le\",\"clarity_le\", \"price\"]]\n",
    "z = np.abs(stats.zscore(train3))\n",
    "\n",
    "threshold = 3\n",
    "train3 = train3[(z < 3).all(axis=1)]"
   ]
  },
  {
   "cell_type": "code",
   "execution_count": 101,
   "metadata": {},
   "outputs": [],
   "source": [
    "X = train3[[\"carat\",\"depth\",\"table\",\"x\",\"y\",\"z\",\"cut_le\",\"color_le\",\"clarity_le\"]]\n",
    "y = train3['price']"
   ]
  },
  {
   "cell_type": "code",
   "execution_count": 103,
   "metadata": {},
   "outputs": [
    {
     "name": "stdout",
     "output_type": "stream",
     "text": [
      "DecisionTreeRegressor mean-386555.59246318776\n",
      "GradientBoostingRegressor mean-320333.0813944498\n",
      "ExtraTreesRegressor mean-206495.71679936515\n",
      "RandomForestRegressor mean-213001.9286777932\n",
      "max -205454.76888084217\n"
     ]
    }
   ],
   "source": [
    "for name, model in models_2.items():\n",
    "    scores = cross_val_score(model,X,y, cv=10, scoring='neg_mean_squared_error')\n",
    "\n",
    "    print(f\"{name} mean{np.mean(scores)}\")\n",
    "    values.append(np.mean(scores))\n",
    "print('max',max(values))"
   ]
  },
  {
   "cell_type": "code",
   "execution_count": 104,
   "metadata": {},
   "outputs": [
    {
     "name": "stdout",
     "output_type": "stream",
     "text": [
      "41.3118003926634\n",
      "0.9999965374220559\n"
     ]
    }
   ],
   "source": [
    "Normalizer(X)\n",
    "StandardScaler(X)\n",
    "model = ExtraTreesRegressor()\n",
    "model.fit(X,y)\n",
    "y_pred = model.predict(X)\n",
    "print (mean_squared_error(y, y_pred))\n",
    "\n",
    "print(r2_score(y,y_pred))"
   ]
  },
  {
   "cell_type": "code",
   "execution_count": 105,
   "metadata": {},
   "outputs": [
    {
     "name": "stdout",
     "output_type": "stream",
     "text": [
      "115949.66173920184\n",
      "0.9902815966006208\n"
     ]
    }
   ],
   "source": [
    "Normalizer(X)\n",
    "StandardScaler(X)\n",
    "model = model=RandomForestRegressor(n_estimators=489,max_depth=12,min_samples_split=4,min_samples_leaf=2)\n",
    "model.fit(X,y)\n",
    "y_pred = model.predict(X)\n",
    "print (mean_squared_error(y, y_pred))\n",
    "\n",
    "print(r2_score(y,y_pred))"
   ]
  },
  {
   "cell_type": "code",
   "execution_count": 155,
   "metadata": {},
   "outputs": [
    {
     "name": "stdout",
     "output_type": "stream",
     "text": [
      "41.31191895634203\n",
      "0.9999965374121184\n"
     ]
    }
   ],
   "source": [
    "Normalizer(X)\n",
    "StandardScaler(X)\n",
    "model = ExtraTreesRegressor()\n",
    "model.fit(X,y)\n",
    "y_pred = model.predict(X)\n",
    "print (mean_squared_error(y, y_pred))\n",
    "\n",
    "print(r2_score(y,y_pred))"
   ]
  },
  {
   "cell_type": "code",
   "execution_count": 146,
   "metadata": {},
   "outputs": [
    {
     "data": {
      "text/plain": [
       "0.9999965374022276"
      ]
     },
     "execution_count": 146,
     "metadata": {},
     "output_type": "execute_result"
    }
   ],
   "source": [
    "model.score(X,y)"
   ]
  },
  {
   "cell_type": "code",
   "execution_count": 147,
   "metadata": {},
   "outputs": [],
   "source": [
    "le = preprocessing.LabelEncoder()\n",
    "predict[\"cut_le\"] = le.fit_transform(predict[\"cut\"])\n",
    "predict[\"color_le\"] = le.fit_transform(predict[\"color\"])\n",
    "predict[\"clarity_le\"] = le.fit_transform(predict[\"clarity\"])"
   ]
  },
  {
   "cell_type": "code",
   "execution_count": 148,
   "metadata": {},
   "outputs": [],
   "source": [
    "predict2 = predict [[\"carat\",\"depth\",\"table\",\"x\",\"y\",\"z\",\"cut_le\",\"color_le\",\"clarity_le\"]]"
   ]
  },
  {
   "cell_type": "code",
   "execution_count": 149,
   "metadata": {},
   "outputs": [],
   "source": [
    "y_pred = model.predict(predict2)"
   ]
  },
  {
   "cell_type": "code",
   "execution_count": 150,
   "metadata": {},
   "outputs": [
    {
     "data": {
      "text/plain": [
       "13485"
      ]
     },
     "execution_count": 150,
     "metadata": {},
     "output_type": "execute_result"
    }
   ],
   "source": [
    "len(y_pred)"
   ]
  },
  {
   "cell_type": "code",
   "execution_count": 151,
   "metadata": {},
   "outputs": [],
   "source": [
    "result = pd.DataFrame({\n",
    "    \"price\":y_pred,\n",
    "})\n",
    "result.reset_index(inplace=True)"
   ]
  },
  {
   "cell_type": "code",
   "execution_count": 152,
   "metadata": {},
   "outputs": [],
   "source": [
    "result.rename(columns={'index': 'id'}, inplace=True)"
   ]
  },
  {
   "cell_type": "code",
   "execution_count": 153,
   "metadata": {},
   "outputs": [
    {
     "data": {
      "text/html": [
       "<div>\n",
       "<style scoped>\n",
       "    .dataframe tbody tr th:only-of-type {\n",
       "        vertical-align: middle;\n",
       "    }\n",
       "\n",
       "    .dataframe tbody tr th {\n",
       "        vertical-align: top;\n",
       "    }\n",
       "\n",
       "    .dataframe thead th {\n",
       "        text-align: right;\n",
       "    }\n",
       "</style>\n",
       "<table border=\"1\" class=\"dataframe\">\n",
       "  <thead>\n",
       "    <tr style=\"text-align: right;\">\n",
       "      <th></th>\n",
       "      <th>id</th>\n",
       "      <th>price</th>\n",
       "    </tr>\n",
       "  </thead>\n",
       "  <tbody>\n",
       "    <tr>\n",
       "      <th>0</th>\n",
       "      <td>0</td>\n",
       "      <td>769.05</td>\n",
       "    </tr>\n",
       "    <tr>\n",
       "      <th>1</th>\n",
       "      <td>1</td>\n",
       "      <td>5972.10</td>\n",
       "    </tr>\n",
       "    <tr>\n",
       "      <th>2</th>\n",
       "      <td>2</td>\n",
       "      <td>5787.55</td>\n",
       "    </tr>\n",
       "    <tr>\n",
       "      <th>3</th>\n",
       "      <td>3</td>\n",
       "      <td>1090.63</td>\n",
       "    </tr>\n",
       "    <tr>\n",
       "      <th>4</th>\n",
       "      <td>4</td>\n",
       "      <td>3270.70</td>\n",
       "    </tr>\n",
       "    <tr>\n",
       "      <th>...</th>\n",
       "      <td>...</td>\n",
       "      <td>...</td>\n",
       "    </tr>\n",
       "    <tr>\n",
       "      <th>13480</th>\n",
       "      <td>13480</td>\n",
       "      <td>14122.75</td>\n",
       "    </tr>\n",
       "    <tr>\n",
       "      <th>13481</th>\n",
       "      <td>13481</td>\n",
       "      <td>887.92</td>\n",
       "    </tr>\n",
       "    <tr>\n",
       "      <th>13482</th>\n",
       "      <td>13482</td>\n",
       "      <td>2437.12</td>\n",
       "    </tr>\n",
       "    <tr>\n",
       "      <th>13483</th>\n",
       "      <td>13483</td>\n",
       "      <td>1286.93</td>\n",
       "    </tr>\n",
       "    <tr>\n",
       "      <th>13484</th>\n",
       "      <td>13484</td>\n",
       "      <td>1067.46</td>\n",
       "    </tr>\n",
       "  </tbody>\n",
       "</table>\n",
       "<p>13485 rows × 2 columns</p>\n",
       "</div>"
      ],
      "text/plain": [
       "          id     price\n",
       "0          0    769.05\n",
       "1          1   5972.10\n",
       "2          2   5787.55\n",
       "3          3   1090.63\n",
       "4          4   3270.70\n",
       "...      ...       ...\n",
       "13480  13480  14122.75\n",
       "13481  13481    887.92\n",
       "13482  13482   2437.12\n",
       "13483  13483   1286.93\n",
       "13484  13484   1067.46\n",
       "\n",
       "[13485 rows x 2 columns]"
      ]
     },
     "execution_count": 153,
     "metadata": {},
     "output_type": "execute_result"
    }
   ],
   "source": [
    "result"
   ]
  },
  {
   "cell_type": "code",
   "execution_count": 154,
   "metadata": {},
   "outputs": [],
   "source": [
    "result.to_csv('diamonds2.csv', index = False)"
   ]
  },
  {
   "cell_type": "code",
   "execution_count": null,
   "metadata": {},
   "outputs": [],
   "source": [
    "X = train[[\"carat\",\"depth\",\"table\",\"x\",\"y\",\"z\",\"cut_le\",\"color_le\",\"clarity_le\"]]\n",
    "y = train['price']\n",
    "Normalizer(X)\n",
    "StandardScaler(X)\n",
    "model = ExtraTreesRegressor()\n",
    "model.fit(X,y)\n",
    "y_pred = model.predict(X)\n",
    "print (mean_squared_error(y, y_pred))\n",
    "\n",
    "print(r2_score(y,y_pred))"
   ]
  }
 ],
 "metadata": {
  "kernelspec": {
   "display_name": "Python 3",
   "language": "python",
   "name": "python3"
  },
  "language_info": {
   "codemirror_mode": {
    "name": "ipython",
    "version": 3
   },
   "file_extension": ".py",
   "mimetype": "text/x-python",
   "name": "python",
   "nbconvert_exporter": "python",
   "pygments_lexer": "ipython3",
   "version": "3.8.5"
  }
 },
 "nbformat": 4,
 "nbformat_minor": 4
}
